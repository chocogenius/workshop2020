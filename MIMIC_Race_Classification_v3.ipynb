{
  "nbformat": 4,
  "nbformat_minor": 0,
  "metadata": {
    "colab": {
      "name": "MIMIC_Race_Classification_v3.ipynb",
      "provenance": [],
      "collapsed_sections": [
        "NW2ganxr_lX5",
        "yc6dFY-FGe9b",
        "Idw2OakrSu--",
        "1X_1VTyQae7Z",
        "13mvzhAyn6i2",
        "3dFKnGgX1LdJ",
        "znsTYDov_ElG",
        "Y1VNkHKOCUdr",
        "O1_8rsS7P4UK"
      ],
      "include_colab_link": true
    },
    "kernelspec": {
      "name": "python3",
      "display_name": "Python 3"
    },
    "language_info": {
      "name": "python"
    }
  },
  "cells": [
    {
      "cell_type": "markdown",
      "metadata": {
        "id": "view-in-github",
        "colab_type": "text"
      },
      "source": [
        "<a href=\"https://colab.research.google.com/github/chocogenius/workshop2020/blob/main/MIMIC_Race_Classification_v3.ipynb\" target=\"_parent\"><img src=\"https://colab.research.google.com/assets/colab-badge.svg\" alt=\"Open In Colab\"/></a>"
      ]
    },
    {
      "cell_type": "markdown",
      "metadata": {
        "id": "NW2ganxr_lX5"
      },
      "source": [
        "### Setup and Data Import"
      ]
    },
    {
      "cell_type": "code",
      "metadata": {
        "id": "6XgLmJOX_feF"
      },
      "source": [
        "### Package imports\n",
        "\n",
        "from google.colab import auth\n",
        "import pandas as pd\n",
        "\n",
        "from collections import Counter\n",
        "from google.colab import widgets\n",
        "import numpy as np\n",
        "import pandas as pd\n",
        "import pickle\n",
        "from sklearn import metrics, model_selection\n",
        "from sklearn.feature_extraction.text import CountVectorizer, TfidfVectorizer, TfidfTransformer\n",
        "from sklearn.model_selection import train_test_split\n",
        "from sklearn.linear_model import LogisticRegression, LogisticRegressionCV\n",
        "from sklearn.metrics import roc_auc_score, confusion_matrix, classification_report\n",
        "import matplotlib.pyplot as plt "
      ],
      "execution_count": null,
      "outputs": []
    },
    {
      "cell_type": "code",
      "metadata": {
        "id": "qAt5vY-i_rKW",
        "colab": {
          "base_uri": "https://localhost:8080/"
        },
        "outputId": "b2b64817-0222-4669-91ec-65cfd2ee8d30"
      },
      "source": [
        "### Authentication for MIMIC\n",
        "\n",
        "from google.colab import auth\n",
        "auth.authenticate_user()\n",
        "print('Authenticated')"
      ],
      "execution_count": null,
      "outputs": [
        {
          "output_type": "stream",
          "text": [
            "Authenticated\n"
          ],
          "name": "stdout"
        }
      ]
    },
    {
      "cell_type": "code",
      "metadata": {
        "id": "D0dDrdQu_xEm"
      },
      "source": [
        "### Import notes from MIMIC\n",
        "%%bigquery --project adept-box-313502 data\n",
        "SELECT *\n",
        "FROM `physionet-data.mimiciii_notes.noteevents` a\n",
        "JOIN `physionet-data.mimiciii_clinical.admissions` b ON a.HADM_ID = b.HADM_ID\n",
        "WHERE CATEGORY IN ('Nursing','Nursing/other')"
      ],
      "execution_count": null,
      "outputs": []
    },
    {
      "cell_type": "code",
      "metadata": {
        "id": "-Fe0gcc7zRjP"
      },
      "source": [
        "### Import notes from MIMIC\n",
        "%%bigquery --project adept-box-313502 patients\n",
        "SELECT *\n",
        "FROM `physionet-data.mimiciii_clinical.patients`"
      ],
      "execution_count": null,
      "outputs": []
    },
    {
      "cell_type": "code",
      "metadata": {
        "id": "rTppDkk6zbgB"
      },
      "source": [
        "patients.columns = patients.columns.str.lower()"
      ],
      "execution_count": null,
      "outputs": []
    },
    {
      "cell_type": "code",
      "metadata": {
        "id": "2MGJGj3K_wuO"
      },
      "source": [
        "### Save data for easier reference\n",
        "data.to_csv('/content/drive/MyDrive/MIMIC_Race/data.csv')"
      ],
      "execution_count": null,
      "outputs": []
    },
    {
      "cell_type": "markdown",
      "metadata": {
        "id": "62ITuTR4C3Df"
      },
      "source": [
        "### Data Cleaning"
      ]
    },
    {
      "cell_type": "code",
      "metadata": {
        "id": "6xS7P9TMC1su"
      },
      "source": [
        "### Load saved data\n",
        "data = pd.read_csv('/content/drive/MyDrive/MIMIC_Race/data.csv')\n",
        "data.columns = data.columns.str.lower()"
      ],
      "execution_count": null,
      "outputs": []
    },
    {
      "cell_type": "code",
      "metadata": {
        "id": "QKNsRGwbC-Wn"
      },
      "source": [
        "### Filter to only include black and white patients\n",
        "data_class = data.loc[(data.ethnicity == 'WHITE') | (data.ethnicity == 'BLACK/AFRICAN AMERICAN')].copy()\n",
        "data_class[\"y\"] = 1*(data_class.ethnicity == 'BLACK/AFRICAN AMERICAN')"
      ],
      "execution_count": null,
      "outputs": []
    },
    {
      "cell_type": "code",
      "metadata": {
        "id": "xZjJuwsvDr-c"
      },
      "source": [
        "### Aggregate notes by patient, and only keep first visit for patients who had multiple ICU visits\n",
        "data_patient = data_class.groupby(['subject_id','hadm_id', 'admittime'], as_index = False).agg({'text': '\\nNEW NOTE\\n'.join, 'y': sum}).sort_values(['subject_id','admittime'])\n",
        "data_patient['visit_no'] = data_patient.groupby(['subject_id'], as_index = False).cumcount()+1\n",
        "data_patient['y'] = 1*(data_patient['y']>0)\n",
        "data_patient = data_patient.loc[data_patient.visit_no < 2]"
      ],
      "execution_count": null,
      "outputs": []
    },
    {
      "cell_type": "code",
      "metadata": {
        "id": "IYlRXWtRFE2F"
      },
      "source": [
        "### Split into notes and outcomes\n",
        "notes = data_patient.text\n",
        "y =  data_patient.y"
      ],
      "execution_count": null,
      "outputs": []
    },
    {
      "cell_type": "code",
      "metadata": {
        "id": "UGhdi6hwFKTe"
      },
      "source": [
        "### Strip out obvious indicators of race\n",
        "notes_clean = notes.str.replace('african-american', '', case = False)\n",
        "notes_clean = notes_clean.str.replace('african american', '', case = False)\n",
        "notes_clean = notes_clean.str.replace('african', '', case = False)\n",
        "notes_clean = notes_clean.str.replace('black', '', case = False)\n",
        "\n",
        "notes_clean = notes_clean.str.replace('caucasian', '', case = False)\n",
        "notes_clean = notes_clean.str.replace('white', '', case = False)"
      ],
      "execution_count": null,
      "outputs": []
    },
    {
      "cell_type": "code",
      "metadata": {
        "id": "lqNCpzQtFOc5"
      },
      "source": [
        "### Train test split\n",
        "notes_train, notes_test, y_train, y_test, data_patient_train, data_patient_test = train_test_split(notes_clean, y, data_patient, test_size=0.3, random_state=0)"
      ],
      "execution_count": null,
      "outputs": []
    },
    {
      "cell_type": "code",
      "metadata": {
        "colab": {
          "base_uri": "https://localhost:8080/"
        },
        "id": "jCARSmVGmHcM",
        "outputId": "c740e8d0-b3f3-4aa9-b1df-06ac83bce929"
      },
      "source": [
        "### Sanity check dimensionality\n",
        "print(notes_train.shape)\n",
        "print(y_train.shape)\n",
        "print(data_patient_train.shape)\n",
        "print(notes_test.shape)\n",
        "print(y_test.shape)\n",
        "print(data_patient_test.shape)"
      ],
      "execution_count": null,
      "outputs": [
        {
          "output_type": "stream",
          "text": [
            "(19663,)\n",
            "(19663,)\n",
            "(19663, 6)\n",
            "(8427,)\n",
            "(8427,)\n",
            "(8427, 6)\n"
          ],
          "name": "stdout"
        }
      ]
    },
    {
      "cell_type": "code",
      "metadata": {
        "id": "hZhD9uc6QPv0"
      },
      "source": [
        "### Save train and test data for easier reference\n",
        "notes_train.to_csv('/content/drive/MyDrive/MIMIC_Race/notes_train.csv', index=False)\n",
        "notes_test.to_csv('/content/drive/MyDrive/MIMIC_Race/notes_test.csv', index=False)\n",
        "y_train.to_csv('/content/drive/MyDrive/MIMIC_Race/y_train.csv', index=False)\n",
        "y_test.to_csv('/content/drive/MyDrive/MIMIC_Race/y_test.csv', index=False)\n",
        "data_patient_train.to_csv('/content/drive/MyDrive/MIMIC_Race/data_patient_train.csv', index=False)\n",
        "data_patient_test.to_csv('/content/drive/MyDrive/MIMIC_Race/data_patient_test.csv', index=False)"
      ],
      "execution_count": null,
      "outputs": []
    },
    {
      "cell_type": "code",
      "metadata": {
        "id": "IQuG2eRJP4Ed"
      },
      "source": [
        "### Load saved train and test data\n",
        "notes_train = pd.read_csv('/content/drive/MyDrive/MIMIC_Race/notes_train.csv')\n",
        "notes_test = pd.read_csv('/content/drive/MyDrive/MIMIC_Race/notes_test.csv')\n",
        "y_train = pd.read_csv('/content/drive/MyDrive/MIMIC_Race/y_train.csv')\n",
        "y_test = pd.read_csv('/content/drive/MyDrive/MIMIC_Race/y_test.csv')\n",
        "data_patient_train = pd.read_csv('/content/drive/MyDrive/MIMIC_Race/data_patient_train.csv')\n",
        "data_patient_test = pd.read_csv('/content/drive/MyDrive/MIMIC_Race/data_patient_test.csv')\n",
        "\n",
        "notes_train = notes_train.text \n",
        "notes_test = notes_test.text \n",
        "y_train = y_train.y\n",
        "y_test = y_test.y"
      ],
      "execution_count": null,
      "outputs": []
    },
    {
      "cell_type": "code",
      "metadata": {
        "colab": {
          "base_uri": "https://localhost:8080/"
        },
        "id": "Z-iAJIEwoqka",
        "outputId": "ce9a9437-736c-4def-ae93-ada5356c527c"
      },
      "source": [
        "### Sanity check dimensionality\n",
        "\n",
        "print(notes_train.shape)\n",
        "print(y_train.shape)\n",
        "print(data_patient_train.shape)\n",
        "print(notes_test.shape)\n",
        "print(y_test.shape)\n",
        "print(data_patient_test.shape)"
      ],
      "execution_count": null,
      "outputs": [
        {
          "output_type": "stream",
          "text": [
            "(19663,)\n",
            "(19663,)\n",
            "(19663, 6)\n",
            "(8427,)\n",
            "(8427,)\n",
            "(8427, 6)\n"
          ],
          "name": "stdout"
        }
      ]
    },
    {
      "cell_type": "code",
      "metadata": {
        "colab": {
          "base_uri": "https://localhost:8080/"
        },
        "id": "jRkrDaNwEUMB",
        "outputId": "ab9c8ec7-9a8f-4260-8ed5-425f32bb765c"
      },
      "source": [
        "notes_train"
      ],
      "execution_count": null,
      "outputs": [
        {
          "output_type": "execute_result",
          "data": {
            "text/plain": [
              "0        NARRATIVE NOTE:\\n\\nCV: B/P HAS RANGED FROM 100...\n",
              "1        1900-0700 NPN\\n\\n\\n#2F/E/N\\nO:TF AT 140CC/KG. ...\n",
              "2        pmicu npn 7p-7a\\n\\n\\n   36yo woman presented t...\n",
              "3        Remains on HiFlow O2 at 95% via face tent.  Sa...\n",
              "4        T/SICU NSG Admission Note\\n(Continued)\\n in ef...\n",
              "                               ...                        \n",
              "19658    NURSING NOTE 7A-7P Review of Systems:\\nNEURO: ...\n",
              "19659    SICU NURSING PROGRESS NOTE 0700-1900\\nPRIEST I...\n",
              "19660    Observed above procedure and reveiwed note, ag...\n",
              "19661    75 yr male, suffered cardiac arrest while play...\n",
              "19662    Attending Triage Note\\nBG [**Known lastname 50...\n",
              "Name: text, Length: 19663, dtype: object"
            ]
          },
          "metadata": {
            "tags": []
          },
          "execution_count": 113
        }
      ]
    },
    {
      "cell_type": "markdown",
      "metadata": {
        "id": "yc6dFY-FGe9b"
      },
      "source": [
        "### Simplest Model (Unigram, BOW, Logit)"
      ]
    },
    {
      "cell_type": "code",
      "metadata": {
        "id": "vpxv_SWbGk7T"
      },
      "source": [
        "### Turn raw notes into BOW matrix\n",
        "unigram_bow = CountVectorizer(ngram_range=(1,1))\n",
        "X_train = unigram_bow.fit_transform(notes_train)\n",
        "X_test = unigram_bow.transform(notes_test)"
      ],
      "execution_count": null,
      "outputs": []
    },
    {
      "cell_type": "code",
      "metadata": {
        "colab": {
          "base_uri": "https://localhost:8080/"
        },
        "id": "letR3L8wHdkj",
        "outputId": "8e6afba1-e3de-4792-979e-3ede59f2e65b"
      },
      "source": [
        "%%time\n",
        "### Train with cross validation\n",
        "logit_unigram = LogisticRegressionCV(Cs = [0.001, 0.01, 0.1], random_state=0, cv=5, scoring='roc_auc',\\\n",
        "                                     penalty = 'l1', solver='liblinear', class_weight='balanced', max_iter=150)\n",
        "logit_unigram.fit(X_train, y_train)\n",
        "\n",
        "print(logit_unigram.C_)"
      ],
      "execution_count": null,
      "outputs": [
        {
          "output_type": "stream",
          "text": [
            "[0.01]\n",
            "CPU times: user 6min 40s, sys: 880 ms, total: 6min 41s\n",
            "Wall time: 6min 40s\n"
          ],
          "name": "stdout"
        }
      ]
    },
    {
      "cell_type": "code",
      "metadata": {
        "colab": {
          "base_uri": "https://localhost:8080/"
        },
        "id": "knRT9i_WHsOm",
        "outputId": "10b94555-07a4-41e1-a4da-3196177f8833"
      },
      "source": [
        "### Print results\n",
        "print('Train Set Results')\n",
        "\n",
        "print('Accuracy:', logit_unigram.score(X_train, y_train))\n",
        "print('AUC:', roc_auc_score(y_train, logit_unigram.predict_proba(X_train)[:, 1]))\n",
        "\n",
        "print('Test Set Results')\n",
        "\n",
        "print('Accuracy', logit_unigram.score(X_test, y_test))\n",
        "print('AUC', roc_auc_score(y_test, logit_unigram.predict_proba(X_test)[:, 1]))\n",
        "\n",
        "print('Test Set Details')\n",
        "print(classification_report(y_test, logit_unigram.predict(X_test), target_names=[\"White\", \"Black\"]))"
      ],
      "execution_count": null,
      "outputs": [
        {
          "output_type": "stream",
          "text": [
            "Train Set Results\n",
            "Accuracy: 0.8766331882064011\n",
            "AUC: 0.8766331882064011\n",
            "Test Set Results\n",
            "Accuracy 0.7923680050208266\n",
            "AUC 0.7923680050208266\n",
            "Test Set Details\n",
            "              precision    recall  f1-score   support\n",
            "\n",
            "       White       0.96      0.74      0.84      7586\n",
            "       Black       0.24      0.72      0.35       841\n",
            "\n",
            "    accuracy                           0.74      8427\n",
            "   macro avg       0.60      0.73      0.60      8427\n",
            "weighted avg       0.89      0.74      0.79      8427\n",
            "\n"
          ],
          "name": "stdout"
        }
      ]
    },
    {
      "cell_type": "code",
      "metadata": {
        "colab": {
          "base_uri": "https://localhost:8080/"
        },
        "id": "pZ6k5hpuS5sE",
        "outputId": "7e7495b5-5b4f-4107-b755-19be92e906c8"
      },
      "source": [
        "### Words most predictive of black patients\n",
        "vocab = unigram_bow.get_feature_names()\n",
        "top = 20\n",
        "indices = list(np.argsort(logit_unigram.coef_[0])[-top:][::-1])\n",
        "list(zip([vocab[i] for i in indices], [logit_unigram.coef_[0][i] for i in indices]))"
      ],
      "execution_count": null,
      "outputs": [
        {
          "output_type": "execute_result",
          "data": {
            "text/plain": [
              "[('mongolian', 0.963372300404336),\n",
              " ('members', 0.16058955396828717),\n",
              " ('sickle', 0.15521833907319987),\n",
              " ('stick', 0.09574736670615566),\n",
              " ('asthma', 0.08032733773524942),\n",
              " ('gbs', 0.0763023991803041),\n",
              " ('hiv', 0.07538239990009939),\n",
              " ('htn', 0.07492032113577196),\n",
              " ('palliative', 0.07487571497680683),\n",
              " ('difficult', 0.07353697517373278),\n",
              " ('quiet', 0.06957432346711019),\n",
              " ('d5w', 0.06623174396782298),\n",
              " ('obtain', 0.06402625001248825),\n",
              " ('anuric', 0.0636207786816823),\n",
              " ('2192', 0.06311634978293783),\n",
              " ('another', 0.062300046632465016),\n",
              " ('obese', 0.06134770955511634),\n",
              " ('eating', 0.06036185819169246),\n",
              " ('ble', 0.05846585978656264),\n",
              " ('170', 0.05650471116332802)]"
            ]
          },
          "metadata": {
            "tags": []
          },
          "execution_count": 12
        }
      ]
    },
    {
      "cell_type": "code",
      "metadata": {
        "colab": {
          "base_uri": "https://localhost:8080/"
        },
        "id": "y3lLpIWzTSC9",
        "outputId": "baf26117-5f3d-4470-b920-d6e43b640f4f"
      },
      "source": [
        "### Words most predictive of white patients\n",
        "bottom = 20\n",
        "indices = list(np.argsort(logit_unigram.coef_[0])[:bottom])\n",
        "list(zip([vocab[i] for i in indices], [logit_unigram.coef_[0][i] for i in indices]))"
      ],
      "execution_count": null,
      "outputs": [
        {
          "output_type": "execute_result",
          "data": {
            "text/plain": [
              "[('reddened', -0.3936130125894193),\n",
              " ('ecchymotic', -0.27306685077056053),\n",
              " ('russian', -0.15601629191696337),\n",
              " ('bruising', -0.13562554794007764),\n",
              " ('grunting', -0.12995753365618914),\n",
              " ('ruddy', -0.1286138933420933),\n",
              " ('pale', -0.1078363478616601),\n",
              " ('rash', -0.10780387339135394),\n",
              " ('husband', -0.08903381284683436),\n",
              " ('red', -0.08562124876865618),\n",
              " ('94', -0.0841116427465392),\n",
              " ('carotid', -0.07555797156999966),\n",
              " ('ecchymosis', -0.07542667193837962),\n",
              " ('osh', -0.07523103363073906),\n",
              " ('cabg', -0.0703095468240652),\n",
              " ('breastfeeding', -0.06594813647758246),\n",
              " ('anxiety', -0.06486635141033259),\n",
              " ('cmo', -0.06402451728403903),\n",
              " ('purple', -0.06333530745326282),\n",
              " ('cooling', -0.062381378942042015)]"
            ]
          },
          "metadata": {
            "tags": []
          },
          "execution_count": 13
        }
      ]
    },
    {
      "cell_type": "code",
      "metadata": {
        "colab": {
          "base_uri": "https://localhost:8080/"
        },
        "id": "f6CTF--VTf9I",
        "outputId": "6dc9a90e-6650-4b01-c64c-015ade0eced2"
      },
      "source": [
        "### Print sample note\n",
        "print(notes_train[(notes_train.str.lower().str.find('pallative care') !=-1)].iloc[2])"
      ],
      "execution_count": null,
      "outputs": [
        {
          "output_type": "stream",
          "text": [
            "NPN 1900-0700\n",
            "S: Intubated\n",
            "\n",
            "O: Please see careview for all objective data.\n",
            "\n",
            "Neuro: Sedation weaned to Fentanyl 50mcg/hr and Versed 2mg/hr, responds with slight movement to suctioning and turning side to side. Bilateral wrist restraints for safety precautions, not withdrawing to any stimulus. PERRL 2mm/sluggish. Head CT (-) for ICH/mass.\n",
            "\n",
            "Resp: Vented AC 600x22/.[**5-17**] to maintain adequate oxygenation. Worsening metabolic acidosis. Sxn several times for tan/yellowish thick secretions. CXR showed L lobe PNA, CT w/ LLL collapse d/t pleural effusion. Lung sounds are coarse/rhonchorus throughout, bronchial LLL.\n",
            "\n",
            "CV: NSR, freq atrial bigeminy with rare to occ PVC's. Cont levophed, titrated to MAP >60-65. Heparin gtt @1800u/hr, PTT pending 0600.   Left arm elevated d/t dependent swelling, extremities cool/pale. Pulses are dopplerable.\n",
            "\n",
            "GI: Restarted TFs, minimal residuals. Obese, gross ascites, abd distended and soft; +BS, stool OB(-)., Mushroom cath in place with decreased output. ABD CT concerning for diffuse CA, also w/ lg. fluid collection, ? hematoma v. ascites(TPA differed d/t ^ bleeding risk).\n",
            "\n",
            "GU: Foley draining clear yellow urine, u/o marginally improved. Creat 3.9, BUN 55.\n",
            "\n",
            "ENDO: starting insulin gtt for borderline high BG\n",
            "\n",
            "Skin: Remains moist, no breakdown.\n",
            "\n",
            "ID: Tmax 100.8 rectal, cont on IV antibiotics tx PNA and ?sepsis.\n",
            "\n",
            "A: 73 yo male resp failure d/t PNA, now w/ ? PE; cont full vent support w/ worsening metabolic acidosis. Also w/ worsening ARF and ? sepsis->remains pressor dependent.\n",
            "P: As per multidiciplinary rounds, cont to wean Fentanyl and Versed, moniton neuro sts. Levopehd for MAP >60-65. Monitor Resp status and cont aggressive pulm toilet, monitor U/O. Cont abx, ? biopsy v. MRI to eval abd process. Cont family support.\n",
            "Written by [**First Name8 (NamePattern2) 503**] [**Last Name (NamePattern1) 1415**] [**Last Name (NamePattern1) 8575**]\n",
            "Cosigned by [**Name (NI) 8690**] [**Last Name (NamePattern4) 8751**], RN\n",
            "\n",
            "NEW NOTE\n",
            "CCU NPN\n",
            "\n",
            "CV: REMAINS IN NSR-ST WITH HR 83-109. SBP 101-130. CON'T ON LEVO @ 0.034MCG/KG/MIN. MAP'S 70-80.\n",
            "\n",
            "RESP: RESTING [** **] ON AC 40%,600X16,5. ATTEMPTED RSBI THIS AM. > 500, RR UP TO 42. SUCTIONED FOR THICK YELLOW SECRETIONS. BS VERY COURSE.\n",
            "\n",
            "SOCIAL/DISPOSITION: ATTENDING MET WITH FAMILY MEMEBERS YESTERDAY REGARDING CON'T AGGRESSIVE MEASURES. FAMILY UPDATED ON POC. FAMILY HAS DECIDED TO EXTUBATE TODAY AND INSTITUTE [** 718**]. FAMILY IN ON EVES. NO VISITORS [**Name (NI) **] OR INQUIERES. REMAINS DNR. FAMILY REPORTS THEY WILL BE IN TODAY MID AM.\n",
            "\n",
            "GI: ABD ASCITES WITH MINIMAL TO ABSENT BS. NO STOOL. TF ON HOLD AS PT DID NOT TOL.\n",
            "\n",
            "GU: BUN 57 CREAT 4.4 U/O MINIMAL PLEASE SEE I/O LOS + [**Numeric Identifier 8752**]\n",
            "\n",
            "SKIN: ABRASIONS AND BREAKDOWN NOTED ON BUTTOCKS. DOUBLE GUARD APPLIED. FT BILAT COOL AND MOTTLED.\n",
            "\n",
            "ID: RECTAL T-MAX 99.8\n",
            "\n",
            "NEURO: COOPERATIVE ON EVES. CAN FOLLOW SIMPLE COMMANDS, BUT INCONSISTENTLY. ORIENTED TO PERSON. MOUTHING WORDS THAT HE WANTS TO GO HOME.HALDOL AND MSO4 FOR COMFORT. SLEPT IN LONG NAPS.\n",
            "\n",
            "LABS: BS 102\n",
            "\n",
            "A/P: EXTUBATE WITH [**Numeric Identifier 718**]. SUPPORT PT AND FAMILY. MSO4 FOR COMFORT.\n",
            "\n",
            "\n",
            "\n",
            "NEW NOTE\n",
            "CCU NPN 7a-7p\n",
            "S: \"My breathing hasn't been this good in weeks...\"\n",
            "O: please see carevue for complete assessment details\n",
            "EVENTS: extubated, made [** 718**]\n",
            "Family present t/o day, family meeting w/ pts children, palliative care RN and CCU RN in am->decision made to tell pt about extubation and that he may not be able to survive without the vent; children much more comfortable with the decision not to keep info from pt regarding prognosis. Extubated @ 1200, initially alert, resp unlabored and conversing with family. Becoming progressively more dyspnic->started Morphing gtt after 2mg bolus @ 1mg/hr. Pt. in and out of consciousness, when alert pt. is delerious and most likely hallucinating, restless in bed, family concerned-> to start midaz gtt. Social work and palliative care consults present throughout the day, family declining clergy at this time.\n",
            "A/P: [** 718**], continue present management w/ morphine/midaz for pain management/comfort. Support to family/sig. other, palliative care and social work consults as needed.\n",
            "\n",
            "NEW NOTE\n",
            "BS coarse crackles. No vent changes as metabolic acidosis continues to worsen. Family meeting this PM - CVVH v CMO.\n",
            "\n",
            "NEW NOTE\n",
            "Resp Care,\n",
            "Pt. remains intubated on A/C overnoc. No vent changes this shift. ABG metabolic acidosis. Maintain current vent settings.\n",
            "\n",
            "NEW NOTE\n",
            "S:Pt intubated\n",
            "\n",
            "O:please see careview for details.\n",
            "\n",
            "CV:NSR/ST 90's-100's. BP 140/80 now pt's bp 100's most of day pt required increase in levo to .126 mcg/kg/min for bp support bp dropped to the 70's. Aline cont to bp positional at times. Pts heparin gtt has been off since 1000 am for line placement in IR today.\n",
            "\n",
            "RESP: pt continues on AC 600x16@40%peep5. Pt may go back on PS if tolerated. LS coarse.\n",
            "\n",
            "Neuro: pt more alert and aware inconsistently. pt did responde appropriatly to qeustions at time then at other times did not track or respond at all. Pt mouthed his brothers name when he visited today and mouthed the word no when asked if he was in pain. Pt has not been on sedation today.\n",
            "\n",
            "GU: pts bun and creat cont to rise pt is positive 30cc for this shift. pt went to IR for hemodialysis R IJ cath placement. Pt received 1mg of versed c the procedure their were no incidents during the procedure. Bp remained stable. Plan is for pt to start CVVHD or intermitten hemodialysis in AM.\n",
            "\n",
            "GI: Pt has had tube feeding shut off since 0500 for line placement today. Pt has (+) BS no BM today. (+) BS. Ascites.\n",
            "\n",
            "Endo: pt continues on insulin gtt. BS have been 120's.\n",
            "\n",
            "Skin: pt has purple areas on buttocks. Pt is on the new KCI bed. pt will have skin consult in AM. Pt needs frequent turns.\n",
            "\n",
            "A:resp failure requiring intubation. ARF requiring hemodialysis/ hemodialysis line placed today. diagnosed c cancer pallative care consult today and social work for family support.\n",
            "\n",
            "P: cont to monitor resp status PS if tolerated. cont to monitor blood glucose q one to two hours pt is on insulin gtt. cont to monitor bp wean levo as tolerated. family and emotional support.\n",
            "\n",
            "NEW NOTE\n",
            "addendum:pt has tested positive for malignant cells in his peritoneal fluid. family was notified during 1700 family meeting.\n",
            "\n",
            "NEW NOTE\n",
            "Respiratory Care\n",
            "Pt continues to be orally intubated/ventilated.  BS:  decreased/coarse bilaterally.  ETT extremely positional-advanced to 24cm.  Poor oxygenation persists with a PaO2 drop to the 60's.  Pt ambu's/lavaged for thick tan secretions.  CXR:  Left lower lobe opacitly persists-possible bronch planned.  Resp rate/sedation decreased this morning in hope for spontaneous respirations.  Continues to be pressor dependant.  Plan to continue pulmonary toliet/monitor abg's/full vent support.\n",
            "\n",
            "NEW NOTE\n",
            "Nursing Note 7a-7p\n",
            "S: Intubated.\n",
            "O: See careview for all objective data.\n",
            "[**Name (NI) **] Pt remains responsive to pain stimuli only, opening his eyes, grimices and moves legs. Pupils 2mm sluggish.\n",
            "Resp- Vented on AC 40% 600x16 10peep. Overbreathing vent by 4-6 bpm, TVs in 600s. Last ABG 7.33 32 118 -7 18. Sx ^Oral secretions/ETT sm amts thin tan sputum, no cuff leaks.\n",
            "CV- Tele SR/ST occ PACs, HR 93-108. Levophed gtt remaines @ 0.16mcg/\n",
            "kg/min with ABPs 93-112/60s. Heparin gtt @ 2050U/hr, PTT therapeutic.\n",
            "MAPs 70s-80s, CVPs 14-15.\n",
            "GI/GU- TFs Respalor @ 10cc/hr via NGT, receiving reglan. Mushroom cath intact. Foley patent, uop 10-20cc/hr. Renal met with family to discuss HD d/t ^ BUN/Cre.\n",
            "Endo- Conts on Insulin gtt @ 1U/hr, sugars wnls.\n",
            "Skin- Duoderm on coccyx intact, nystatin to abd/groin folds.\n",
            "A/P: Unable to further wean Levo this shift. RR decreased from 18->16 with ^ overbreathing. No change in MS. Cont plan of care, poss CVVHD starting tomorrow.\n",
            "\n",
            "NEW NOTE\n",
            "Nursing Note 7a-7p\n",
            "S: Intubated.\n",
            "O: See careview for all objective data.\n",
            "Neuro- Remains sedated on Fentanyl 100mcg/hr and Versed 5mg/hr. Responds only to pain stimuli. Bil wrist restraints on for safety.\n",
            "Resp- Vented on AC 40% 600x20 5peep. This shift his rate was dropped from 26->20, peep 10->5. Latest ABG 7.31 37 105 -6 20. TVs 550-700, no overbreathing vent. ETT high on CXR, advanced to LL 23cm. Slight cuff leak resolved by RT. Sx several tx for sm amts of thick tan sputum. CXR showed a sig improvement in L lobe PNA. Dead air space test done was 63, range (40-60).\n",
            "CV- Tele SR freq bigeminy. HR 65-80s. ABPs 110-130s/56-70s. Conts on the Levophed gtt, slowly titrated up from 0.126->0.328mcg/kg/min to maintain MAPs >65. Given 500cc NS [**Doctor Last Name 2805**] x1. Had bedside LENIs done which showed bil DVTs. Heparin gtt started @ 2300U/hr, PTT due @ 2100.\n",
            "Attending spoke with Pts family about +/- of starting TPA for poss PEs. Placed an order for head/abd CT scan prior to starting therapy.  Redicat was given slowly d/t decreased absorbtion. CVPs 11-13 after boluses. L SC TLCL cd+i, R rad A-line sharp. L arm ^ pillow d/t dependent swelling.\n",
            "GI/GU- TFs Respalor cont @ 20cc/hr d/t slow absorbtion. Off for CT scan. Obese, mushroom cath intact with sm amts brown/green lig stool OB-. Foley patent, uop remains poor 10-20cc/hr. Cre ^3.7\n",
            "Skin- No issues.\n",
            "ID- Tmax 98.7ax, conts on Vanco, Ceftaz for lg L lobe PNA, sepsis.\n",
            "A/P: 73yo male with PNA, Sepsis, hypotension and ARF. Cont plan of care, CT of head/abd pending then start TPA. Support family.\n",
            "\n",
            "NEW NOTE\n",
            "S: pt intubated unable to talk.\n",
            "\n",
            "O:please see careview.\n",
            "\n",
            "CV:SR 99, SBP 126/96-90/52. levo has been weaned slowly. levo now .143\n",
            "heparin gtt no changes 2050units/hr ptt this am was 78.6.\n",
            "\n",
            "Resp:abg at 1300 ph7.31/paco2 33/pao2 193/be-8/co2 17. vent settings ac 600x16, 40%, peep8. sats 100%. sx moderate amnts of thick  secretions. LS coarse.\n",
            "\n",
            "neuro: pt's family see's improvment in response from pt. pt appears to be tracking at times then he does not appear to see RN at all. pt will follow some commands 80% of time. pt appears to be comfortable in no pain pt will grimace when turning.\n",
            "\n",
            "GI: Ascites abd large and firm. pt is having loose not liquid BMs pts mushroom cath removed. tf nepro at goal of 40cc/hr. tube feeds on hold. pts ogt clotted today cont to tx with cola to try to declot. pt is on reglan prn now. pt is on a insulin gtt.\n",
            "\n",
            "GU: pts urin output has decreased now at 10cc/hr. yellow cloudy urin.\n",
            "\n",
            "skin: pt  has a  skin consult pnd. old tap site on RLQ of abdomen draining serous drainage into bag. mottled area on both feet at the toes. purple areas on buttocks noted.\n",
            "\n",
            "A:73yo male PNA, resp failure/intubated. py cont to be dependent on levo for low bp. ? sepsis. ARF worsening.\n",
            "\n",
            "P: family meeting tonight. cont c family support. cont levo for hypotension try to wean more if tolerated. waiting for air bed consult. cont to monitor insulin gtt  pt is off tube feeds until clot is dissolved.\n",
            "\n",
            "NEW NOTE\n",
            "ccu nsg admite note-micu border.\n",
            "73 yo male admiited to the ccu (micu border) from medical floor with worsening respiratory distress.\n",
            "\n",
            "admitted [**4-25**] with upper respiratory infection-pneumonia (l>r), renal failure (pre-renal), & abd distention. pneumonia rxed w abx-vanco, ceftriaxone, & azithromycin. renal failure rxed w ivf's. abd distention rxed w paracentesis-approx 5l ascitic fluid. abd us revealed-r hydro-nephrosis, ascities, & cystic structure on liver. [**4-28**] worsening respiratory failure requiring increased o2 w deteriorating abg's. transfered to ccu for fm vent w eventual intubvation.\n",
            "\n",
            "o:neuro=initially agitated & sl combative. soft restraints to upper extrem for safety. presently sedated-fent 150mcg/hr & verse 5mg/hr. responds to noxious stim, but does not follow/respond to simple commands.\n",
            "  pulm=arrived on nrb chged to fm vent without improvement in ph/pco2. orally intubted w multiple vent chgs-presently on ac/600x26/80%/+10 with am abg-7.35/39/79/-[**4-30**] w sats upper 90's. breath sounds= deminished throughout w l>r. sx-scant tannish secretions.\n",
            "  cv=post intubation hypotensive requiring pressor-dopamine to maint adeq bp (?bp goal). levophed added due to increased hr w dopa @ 10mcg. presently @ levo-0.210mcg & dopa @ 5mcg w adeq bp--see flow sheet. lsc mlc placed-cvp 9. ns bolus 500ml x1. lrad aline placed.\n",
            "  gi=ogt placed-bilious. mushroom cath placed-watery brown/greenish stool--s/p lactulose enema. npo. abd large/soft w hypoactive bowel sounds.\n",
            "  gu=foley. scant uo despite fl bolus & pressors. ?need highre sbp to perfuse kidney's. am b/c-57/3.2.\n",
            "  id=afebrile. cultured on fl. abx x3. wbc-18.5.\n",
            "\n",
            "a:deteriorating resp status requiring intubation for significant pneumonia l>r. renal failure w slowly increasing bun/creat & minimal uo.\n",
            "\n",
            "p:?ct scan/mri abd. contin present management-abx & pressor support for sepsis. support pt/family as indicated.\n",
            "\n",
            "\n",
            "NEW NOTE\n",
            "CCU NPN 7p-7a, MICU [**Location (un) 281**] boarder\n",
            "S: orally intubated, nonverbal\n",
            "O: please see carevue/ICU update for complete assessment data\n",
            "No events onoc\n",
            "NEURO: fent gtt off 0400, pt. has been responsive to pain only. PERRL 2mm/sluggish, rare spont movement.\n",
            "\n",
            "CV: Cont levophed, multiple attempts made to slowly wean resulting in pt. SBP into 80s; also hypotensive w/ turning/repositioning. CVP 9-12. Distal pulses dop, feet cool, dusky L>R w/ ischemic looking toes bilat L>R. ? microemboli v. levopehd, MICU team aware.\n",
            "\n",
            "RESP: No vent changes made. LS coarse, diminished @ bases bilat. Cont to sxn thick tan secretions. Cont abx for PNA, heparin gtt for ? PE.\n",
            "\n",
            "GI: TF held initially for ^ residual. Restarted @ goal 0400, will monitor closely. +BS, cont ascites. No stool.\n",
            "\n",
            "GU: Foley draining cloudy yellow urine;  huo cont poor. No further fluid boluses given d/t nl CVP.\n",
            "\n",
            "ENDO: cont insulin gtt\n",
            "\n",
            "ID: spiked to 101.0, pan culutred. Tylenol x 1 w/ effect.\n",
            "\n",
            "SKIN: duoderm intact on coccyx. Multiple attempts @ new PIV w/ no success. No new breakdown noted.\n",
            "\n",
            "SOC: Son in most of evening. No calls onoc, expect family early am.\n",
            "\n",
            "A: 73yo PNA, resp failure cont full vent support. Also w/ DVT, ? PE, hypotensive on levophed. ARF on unknown etiology cont to worsen. ? Metastatic CA (abd/liver).\n",
            "P: follow up am labs, vanco trough. Monitor temp, tylenol PRN. Montior mental sts off sedation. Cont full vent support, levophed to maintain MAP > 60.\n",
            "\n",
            "NEW NOTE\n",
            "Respiratory Care\n",
            "Pt continues to be orally intubated/ventilated.  BS:  decreased bilaterally.  ETT advanced to 24cm per CXR.  Deadspace evaluated at .63.  RR/PEEP successfully decreased today.  ? mental status.  MRI ordered .  Pt continues on Levophed at this time.  Plan to continue current vent support.  Will closely monitor.\n",
            "\n",
            "NEW NOTE\n",
            "BS decreased with occ rhonchi clearing with suction of mod amts thick  mucus. In view of pt's improved hemodynamic stability he was bronched today revealing somewhat increased patency of LLL but with increased viscosity of secretions.\n",
            "\n",
            "NEW NOTE\n",
            "Resp Care,\n",
            "Pt. remains intubated on A/C overnoc. No vent changes this shift. Suctioned for less sputum. ABG this am metabolic acidosis. Maintain current vent settings.\n",
            "\n",
            "NEW NOTE\n",
            "Respiratory Care\n",
            "Pt continues to be orally intubated/ventilated at this time.  BS:  Coarse bilaterally.  CXR: Left-sided  out.  Pt bronched by MICU team for copious amounts of thick tan secretions-sample sent to lab.  ETT cut at 27cm to facilitate bronchoscopy.  Currently at 21cm lip mark.  Pt continues to have poor Pao2/Fio2 ratio.  PEEP maintained at 10cm t/o the day.  Fio2 successfully weaned to 60% with Pao2 of 130.  Pt continues to be pressor dependant at this time.  PIP/Plat:  35/28.  Will continue to wean Fio2 as tolerated and closely monitor.\n",
            "\n",
            "NEW NOTE\n",
            "ccu nsg progress note-micu border.\n",
            "o:unched-responds to painful stimuli only. sl non-purposeful movements of extrem. remians intubated w vent settings-ac/600x16/40%/+10 w am abg-7.31/32/90/17/-2. breath sounds=deminished throughout. sx-scant tannish secretions. remains on levo gtt-0.162mcg w sats 70's. heparin gtt theraputic @ 2050u-ptt 84.5. tf-respolor @ 10ml/hr w minimal residuals. mushroom cath inplace. wo stool. insulin gtt @ 2u/hr w am bs-148. minimal uo. overall i&o grossly positive-approx 14l. am bun/creat 72/6.0. low grade t w am wbc-17.5.\n",
            "\n",
            "a:increasing bun/creat. awaiting cytology report:re liver mets.\n",
            "\n",
            "p:contin present management. ?cvvhdf. support pt/family as indicated.\n",
            "\n",
            "NEW NOTE\n",
            "ccu progress note 7p-7a- micu border\n",
            "\n",
            "NEURO: no sedation. not tracking overnite. restless, moving arms non-purposefully L>R. son concerned that pt might pull out lines/tubes - soft wrist restraints placed when he left at 830pm.\n",
            "\n",
            "ID/SKIN: afebrile. Tmax 99.7. ceftriaxone q24h. oozing from old tap site on L lwr abd - drainage bag attached/serous drainage. feet mottled on sides and toes. purple/red areas lwr buttocks/back upper thighs - no open areas. SKIN consult needed - pending past 2 days. needs consult also for therapeutic bed. Cx from paracentesis came back + for cancer - oncology consulted.\n",
            "\n",
            "RESP: LS coarse. remains vented. for breathing trial in am. sats >98%. sx mod amts thick  secretions. AC 600x16 40% 5 peep.. abg overnite 7.29/39/113/20/-6. am labs pnd.\n",
            "\n",
            "CARDIAC: SR/ST 90-100s. attempting to wean off LEVO - briefly on 0.1mcg/k/min for goal MAPs >60, but back to 0.12mcq/k/min. R radial aline patent. HEPARIN @ 2050u/hr.\n",
            "\n",
            "GI/GU: foley patent. poor u/o. whitish urine - cloudy. cx + yeast. OGT patent - TF Nepro @ GR 40cc/hr. min residuals. on reglan prn.\n",
            "ENDO: FS Q1-2h on Insulin gtt.\n",
            "\n",
            "PLAN: monitor neuro status. family still undecided re: plan of care - CMO vs CVVHD/oncology treatment - pt remains DNR. wean pressors as tolerated. wean vent if tolerated. pt remains w/ metabolic acidosis. emotional support to family.\n",
            "\n",
            "NEW NOTE\n",
            "Respiratory Care\n",
            "PT. remains intubated on ventilatory support. Oxygention good all shift, required no suctioning. Will continue to monitor closely and wean from support as ABG's indicated.\n",
            "\n",
            "NEW NOTE\n",
            "Nursing Progress Note\n",
            "\n",
            "O: Please see flow sheet for objective data. Tele sinus with frequent PAC's. BP labile today esp with position changes. Episode of SBP dropping into 50's. Levo ^'d to .3mcgs/kg/min and given 250 NS with ^ in BP. levo weaned back down to .25mcgs/kg/min. House staff up to evaluate. No attempts made to wean today. IV Heparin conts at 1800u/hr with theraputic PTT.\n",
            "\n",
            "Resp: Pt remains intubated A/C 40% 600 18 10. Suctioned for sm amts of thick tan sputum. Lungs diminshed at bases. LLL conts to be collapsed. Please see flow sheet for abgs. Bronch held off on for today.\n",
            "\n",
            "Neuro: All sedation remains off. Pt is minimally responsive to painful stimuli. Does not open his eyes to any stimuli.\n",
            "\n",
            "GU/GI: Pt NPO during the day d/t possible bronchoscopy. To be restarted this pm. FS respalor at 25hr. Pt conts to have significant ascites. Bowel sounds present. Urine output remains poor creat  4.4 and k 4.0.\n",
            "\n",
            "ID: Vanco level ^ this am. Dose held today LD [**5-1**]. Remains on Ceftriaxone 1gm q 24hrs.\n",
            "\n",
            "Endo: Conts on Insulin drip 1.5u-3u/hr. Please see flow sheet for BS.\n",
            "\n",
            "Social: Children and SO in throughout the day. Spoke again today with Dr [**Last Name (STitle) 263**] regarding prognosis and POC. Awaiting decision regarding DNR. Other care to remain aggressive.\n",
            "\n",
            "A&P:Pt conts to have labile BP with repositioning. Cont to assess hemodynamics. Restart respalor. Cont with POC. Emotional support for family.\n",
            "\n",
            "NEW NOTE\n",
            "Respiratory Therapist\n",
            "Patient Stated on AC, is still on AC ,just got back from IR where he had a line placed in for hemodialysis, breath sounds clear few right lung rhonchi,suctioned for copious thick , no ABG done during the shift.\n",
            "\n",
            "NEW NOTE\n",
            "NURSING PROGRESS NOTE\n",
            "S:  INTUBATED, UNRESPONSIVE\n",
            "\n",
            "O:  NEURO:  PT. UNRESPONSIVE, WILL OPEN EYES TO PAINFUL STIMULI.  NO PURPOSEFUL STIMULI.  PUPILS 2MM BILAT, SLUGGISH TO LIGHT.  IMPAIRED GAG, COUGH.  REMAINS OFF ALL SEDATION.\n",
            "\n",
            "CV:  CONT ON LEVO GTT.  WEANED TO .22 MCG/KG/MIN.  DOES NOT TOLERATE FURTHER WEAN.  BP 131/63-110/57.  HR 90 SR WITH OCC PAC.  LYTES PENDING THIS AM.  HEPARIN REMAINS AT 1800 UNITS/HR.\n",
            "\n",
            "RESP:  VENT SETTINGS AC 40%, TV 600, PEEP 10, RATE 18.  AM ABG  7.33/35/120/19 97%.  DIMINISHED BREATH SOUNDS.  SUCTIONING FOR SMALL AMTS OF THICK TAN SPUTUM.\n",
            "\n",
            "GU:  FOLEY DRAINING SMALL AMTS OF CLOUDY YELLOW URINE.  10-20 CC/HR.  LOS + 11L.  CREAT PENDING.\n",
            "\n",
            "GI:  ABD DISTENTION, ASCITES.  + BOWEL SOUNDS.  NO BM OVERNIGHT.  TF HELD THIS AM FOR HIGH RESIDUALS. (TF RESPALOR GOAL 55 CC/HR).  SMALL-MOD. AMT OF SEROUS FLUID DRAINING FROM PARACENTESIS SITE.\n",
            "\n",
            "SKIN:  REDENED COCCYX, COVERED WITH DUODERM.  SKIN FOLDS UNDER ABD AND GROIN RED, NYSTATIN POWDER APPLIED.\n",
            "\n",
            "ENDO:  INSULIN GTT AT 3 UNITS/HR.  ADEQUATE BLOOD GLUCOSE CONTROL.  SEE FLOWSHEET FOR DATA.\n",
            "\n",
            "A/P:  INTUBATED FOR INCREASING RESP DIFFICULTY, ? RENAL FAILURE.  WAITING FOR RESULTS OF TAP. MONITOR LYTES, I/O, ABG.  ? CODE STATUS, DISCUSS WITH FAMILY/MICU TEAM.  UPDATE PLAN OF CARE WITH FAMILY PER MICU TEAM.\n",
            "\n",
            "NEW NOTE\n",
            "Respiratory Care:\n",
            "   He weaned on PSV today from 0800 to 1600.  ET tube noted to be high on CXR-advanced again with attempts to anchor at 25cm by lip. Suctioned today for medium amounts of thick yellow sputum. BS= bilat, decreased bases. Plan for possible extubation [**5-12**].\n",
            "\n",
            "NEW NOTE\n",
            "ccu nsg progress note-micu border.\n",
            "73 yo male. initially admitted w upper respiratory infection requiring intubation/fluid resuscitation/pressor-levophed for significant pneumonia/sepsis. course further complicated by arf w continuing rise in bun/creat (3/30 82/6.8) w minimal uo (overall volume status- positive 20l) & positive acitic fl for undifferentiated small cell ca & rll nodule ca.\n",
            "\n",
            "o:neuro=off all sedation. slowly becoming more responsive, but also appearing more uncomfortable. turns head towards voice, tracts with eyes, but does not follow simple commands. easily agitated when stimulated-turning, sxing, anything that is uncomfortable. appears angry-attempting to strike out (unable @ present due to signif fl in upper extrem), requiring soft restraints to upper extrem-trying to get hand to ett, & faciacl expressions of someone upset w things happening to him.\n",
            "  pulm=remains intubated w vent settings-ac 600x14 405 +5 w sats upper 90's & am abg-7.32 36 144 19 -6. breath sounds=course throughout. sx-sl bl tinged tannish secretions.\n",
            "  cv=w increased responsiveness-bp trending up allowing wean of levophed. levophed presently @ 0.05m/k/m w maps 70-80. heparin restarted after hd line placement-gtt @ 2050u/h w am ptt pending.\n",
            "  gi=tf-respolor restarted @ 20ml/hr w goal 40ml/hr. medium amt loose/soft brown stool. guiac neg.\n",
            "  endo=insulin gtt @ 1u/h w fsbx 100-120.\n",
            "  renal=am bun/creat/k pending. overall positive 20l. hd cath placed [**5-8**] w probable hd or cvvhdf on [**5-9**].\n",
            "  id=low grade t. off abx.\n",
            "  social=family & signif other in [**5-8**]. updated re;condition 7 overall prognosis.\n",
            "\n",
            "a:pt w arf w min uo & increasing bun/creat-families request for hd line placement & hd, so as to be able to wean off vent (?likelyhood of occuring) & allow pt to voice wishes re:continued care. stage 4 ca- oncology wo avaliable potions (life expectancy # in weeks). code status-presently dnr.\n",
            "\n",
            "p:support pt/family as indicated. address w family pt's overall status, increasing responsiveness & subsequent increasing uncomfortableness, ?likelyhood of pt awakening enough to respond appropriately, & ?likelyhood of hd/cvvhd removing enough fl to allow extubation wo subsequent reintubation. contin present management.\n",
            "\n",
            "NEW NOTE\n",
            "S:Pt is intubated.\n",
            "\n",
            "O: please see careview.\n",
            "\n",
            "CV:sr/st 90-100's.BP range 136/74-97/52. attempted to wean pt down to .076 of levo map srooped to <60 increased back to .084. Pt cont on heparin gtt 2050u/hr for dvt's. R radial line positional.\n",
            "\n",
            "Resp: RSBI today was >200. pt cont on vent settings of AC 600x16@40% and 5 of peep. o2 sat's 100%. sx moderate amnt of  thick secretions. Ls coarse. Pt had chest pt today.\n",
            "\n",
            "Neuro: Pt has not followed any commands today. Pt appears to be more awake but does not track. Pt is HOH it helps to speak loud. Pt will turn and look when he hears his name. Pt will move arms non purposefully pt is ordered for wrist restraints.\n",
            "\n",
            "Skin:afebrile Tmax 98.8. Pt oozing from old tap site on L lower abd/drainage bag attached/serous drainage. feet mottled on toes. purple red areas on bottocks.\n",
            "\n",
            "ID: CX from paracentesis came back (+) for cancer oncology meet with significant other today. Family meeting tonight at 1700. ? CMO/ or initiation of CVVHD.\n",
            "\n",
            "GI:Ascited abd large and firm.  Pt has (+) BS c no BM today. Pt is currently at goal tube feeds. Pt is (+) for yeast in his urin. OGT patent. Pt on reglan PRN.\n",
            "\n",
            "ENDO: pt is on one-two hr blood sugars currnetly on insulin gtt @ 1u/hr.\n",
            "\n",
            "GI: (+) 31cc generalized pitting edema. bun and creat continue to increase pt is in need on hemodialysis family meeting tonight about starting.\n",
            "\n",
            "A: 73 yo male admitted for PNA, resp failure requiring intubation.Pt also continues to be levo dependent for low BP.Pt has worsening ARF in need of hemodialysis. Pt has been recently diagnosed c cancer waiting for oncologies consult to confirm stage and type of cancer.\n",
            "\n",
            "P: cont to give family support. Continue to monitor Bp and wean levo as tolerated. cont to monitor glucose q 1-2 hrs. CMO vs CVVHD dependent on oncology report. Pt is DNR.\n",
            "\n",
            "\n",
            "\n",
            "NEW NOTE\n",
            "Resp Care: Pt continues intubated and on ventilatory support with a/c; short trial of psv early evening tol poorly d/t tachypnea, low Vt; acceptable abg on a/c, rsbi 120, bs coarse crackles, sxn thick tan secretions, will attempt psv wean as tol.\n",
            "\n",
            "NEW NOTE\n",
            "Nursing Progress Note\n",
            "\n",
            "S: Pt remains intubated.\n",
            "\n",
            "O: Please see flow sheet for objective data. Tele sinus tach 100's. Levo slowly weaned off over day. MAP > 60 SBP > 90. IV Heparin conts at 1800u/hr.\n",
            "\n",
            "Resp: Lungs coarse throughout. Suctioned for thick yellow sputum. Pt received on a/c 40% 600 16 5. Placed on PS 22/5 this pm. Tolerated well TV 500's RR 20's. Please see flow sheet for abgs. Pt denies shortness of breath. Pt unable to tolerate decreasing PS to 18, RR 30's TV 300's so pt placed back on a/c.\n",
            "\n",
            "Neuro: Pt more alert today. Noding head to some questions. Intermittently following comands. Much more cooperative with care today.\n",
            "\n",
            "GU/GI: Pt conts to be NPO today. Abd with significant ascites. Bowel sounds present. No BM today. Conts on CRRT tody with goal of -30/hr. Tolerated well please see flow sheet for data. Remains on Ca and K drips as per protocol. Creat down to 5.6.\n",
            "\n",
            "Endo: No need for RISSC.\n",
            "\n",
            "Social: 3 children and significant other in today and spoke with pt at length. Pt remains DNR. Family hopes for pt to be extubated in next day or 2 so he can tell them what he wants.\n",
            "\n",
            "A&P: Pt able to tolerate CRRT today. To continue with present fluid goal. Check labs Q 6hrs. Cont with POC.\n",
            "\n",
            "NEW NOTE\n",
            "ccu nsg progress note-micu border.\n",
            "o:remains only responsive to noxious stim-wdrawls/grimaces w pain. minimal spontaneous movement. remains intubated vented-settings unchged. am abg-7.34/32/128/-[**8-26**] w sats upper 90's. sx-scant tannish secretions. remains on levophed gtt-presently @ 0.168mcg/kg/min w maps 70's. cvp 9-10. episodes of sinus tachy to low 100's-not related to anything. heparin increased to 2050u w am ptt-80.1. tf restarted- respolar @ 10ml/hr-hypoactive bowel sounds. reglan started. insulin gtt presently 1u/hr w fsbs 80-90. overall i&o grossly positive-approx 13l. am bun/creat 64/5.3 w k 4.8. low grade t. wbc 15.5. family initially present-updated. code status-dnr.\n",
            "\n",
            "a:remains w metabolic acidosis-asked re:bicarb gtt-told team decided not needed @ present. unable to wean levo past present dose. rising bun/creat.\n",
            "\n",
            "p:contin present management. support pt/family as indicated.\n",
            "\n",
            "NEW NOTE\n",
            "CCU NPN 7a-7p\n",
            "Family at bedside. Asystolic @ 1757, MICU attending Dr. [**Last Name (STitle) 430**] up to see family and pronounce pt. Family denying autopsy, given instruction re: contacting funeral director.\n",
            "\n",
            "NEW NOTE\n",
            "Nursing Progress Note\n",
            "\n",
            "S: Pt remains intubated.\n",
            "\n",
            "O: PLease see flow sheet for objective data. Tele sinus tach with occ PVC's. Levo at .05mcgs/kg/min. IV Heparin ^'d to 2300u/hr for ptt of 51. Approx 45\" into hemo run pt became hypotensive, tachycardic with bigemeny and ^RR. Renal fellow and house staff aware. Run stopped with gradual improvement in SBP. Levo presently at .067mcgs/kg/min.\n",
            "\n",
            "Resp: Pt received on a/c 40% 600 16 5. Pt placed on trial of PS 15/5 tolerated well until hemo run. Placed back on a/c. Please see flow sheet for objective data.  Suctioned for thick tan sputum. Lungs are coarse throughout.\n",
            "\n",
            "Neuro:Pt responding to verbal stimulation this am. Not following commands. Pt more responsive to family this pm. Pt not given any meds for pain or sedation today.\n",
            "\n",
            "GU/GI: Pt on respalor at 20cc/hr this am. TF held this pm to ^'d residuals. Abd with significant ascites. Bowel sounds present. No BM this shift. Minimal urine output. Creat 6.8. k4.9. To start on CRRT this pm. Goal - 30cc/hr.\n",
            "\n",
            "Social: Sign other and children in to visit. Aware of events today. Waiting to speak with attending this pm.\n",
            "\n",
            "Endo: Insulin drip dc'd this pm. RISS started.\n",
            "\n",
            "A&P: pt unable to tolerate hemodialysis today. To start on CRRT this pm and per renal orders.  Monitor lytes Q 6hrs. Cont to monitor hemodynamics. Cont with POC.\n",
            "\n",
            "NEW NOTE\n",
            "BS generally CTAB with occ rhonchi. Was to be bronch'd today due to persistent LLL collapse but temporarily deferred due to hemodynamic instability and possibility of withdrawal of care. Sx for mod amts thick yellow mucus.\n",
            "\n",
            "NEW NOTE\n",
            "BS few coarse crackles. Able to wean PEEP to 8. Possible slight improvement in MS but with renal function continuing to deteriorate.\n",
            "\n",
            "NEW NOTE\n",
            "Nursing Note 7a-7p\n",
            "S: Intubated.\n",
            "O: Neuro- Remains sedated on Fentanyl/Versed 150mcg/5mg. Wrist restraints on for safety d/t agitation/restlessness.\n",
            "Resp- Vented on AC 60% 600x26 10peep, TVs 550-650 no overbreathing. Bronch lavaged for lg amts of copious thick  secretions in L lobe. Spec sent. Last ABG 7.35 34 154 -5 20.\n",
            "CV- Tele SR/SB occ PVCs, HR 55-90. ABPs 90s-160s, Dopa turned off @ 1000, Levophed now double concentrated (16mg/250) @ 0.336mcg/kg/min.  Lopressor d/c'd. A-line sharp, L SC TL intact.\n",
            "ID- Tmax 100.6 ax, conts on triple abx for L>R PNA.\n",
            "GI/GU- NPO, TFs ordered pending a pump. NGT clamped. Pt obese, abd soft/distended, +hypo bs, mushroom cath intact sm amts brown/green liq stool. Tap site dsg intact. Foley patent uop remains poor 10-15cc/hr, inspite of 500cc boluses x3. CVPs 9-11.\n",
            "Skin- No breaks/tears/abrasions.\n",
            "A/P: 73yo male with ^ resp distress d/t PNA-> sedated/intubated. ARF, ascites s/p tap for 5L, hypotensive-> pressor dependent. +Liver mass on CT scan. Cont to monitor BPs on Levophed, uop and ABGs. Support family members. ? Abd MRI.\n",
            "\n",
            "\n",
            "NEW NOTE\n",
            "Nursing Progress Note\n",
            "\n",
            "S: Pt remains intubated.\n",
            "\n",
            "O: Please see flow sheet for objective data. Tele sinus. Levo remains at .034mcgs/kg/min.  IV Heparin dc'd after family meeting.\n",
            "\n",
            "Resp: Pt received on a/c 40% 600 16 5. Lungs coarse. Suctioned for mod amts of thick yellow sputum. Placed on PS 20/5 tolerated well for period of time. Please see flow sheet for abgs. Put back on a/c to rest overnight.\n",
            "\n",
            "Neuro: Pt alert, responding appropriately to verbal stimuli for most of the day. Cooperative with care. Conts to be interactive with family members. Sleeping in naps throughout the day. Given mso4 2-4mg IV for c/o  abd pain with good effect.\n",
            "\n",
            "GU/GI: Pt remains NPO. OG tube  remains clamped with minimal aspirates. Hypoactive bowel sounds. Soft brown BM today. CRRT dc'd. Foley with minimal urine output today.\n",
            "\n",
            "Social: 3 children met with Dr [**Last Name (STitle) 430**] regarding POC and lack of progress. Family  seems to understand the situation. Pt to remain intubated overnite with ? extubation and [**First Name9 (NamePattern2) 718**] [**Doctor First Name 25**].\n",
            "\n",
            "A&P: To cont with supportive care overnite. Mso4 & Haldol prn pain/ agitation. ? extubation in am.\n",
            "\n",
            "NEW NOTE\n",
            "Resp Care,\n",
            "Pt. remains intubated on A/C overnoc. No vent changes this shift. ABG acceptable. Suctioned for small amount thick tan sputum. Maintain current vent settings.\n",
            "\n",
            "NEW NOTE\n",
            "Resp Care\n",
            "Pt remains on vent. Intubated with 7.5 ett @ 24. Patent and secure. No changes. Suctioned mod amt of thick tan secretions. Will continue to monitor.\n",
            "\n",
            "NEW NOTE\n",
            "Resp Care\n",
            "Pt remains intubated on A/C. Pt went to CT for a scan of the chest.\n",
            "No other changes noted.\n",
            "\n",
            "NEW NOTE\n",
            "NURSING PROGRESS NOTE 7P-7A\n",
            "S:  INTUBATED\n",
            "\n",
            "O:  NEURO:  PT. ALERT AND ORIENTED TO NAME ONLY.  AGITATED IN LATE EVENING, KICKING LEGS AT NURSES WHEN TURNING AND BANGING ARMS ON SIDERAILS.  UNCOOPERATIVE AT TIMES.  BITING ON ETT AND MANIPULATING ETT WITH TONGUE,  MICU RESIDENT NOTIFIED OF PT.'S BEHAVIOR.  PT. GIVEN HALDOL 5 MG IVP WITH GOOD EFFECT.  SLEPT IN  LONG NAPS.  MORE COOPERATIVE AFTER MEDS.  MORE AWAKE THIS AM, AGAIN BITING ON ETT.  NO FURTHER SEDATION GIVEN.\n",
            "\n",
            "CV:  HR 90-113 SR-ST NO VEA NOTED.  BECAME SLIGHTLY HYPOTENSIVE AFTER HALDOL REQUIRING INCREASE LEVOPHED DOSE,  BP 100-120/75-80 AT PRESENT.  CONT ON POTASSIUM GTT, CALCIUM GLUCONATE GTT D/C'D (ICA 1.46).  PTT >150, HEPARIN GTT ON HOLD FOR 1 HR.\n",
            "\n",
            "RESP:  RSBI 75, SUCTIONING FOR THICK TAN, BLOOD TINGED SPUTUM.  COARSE BREATH SOUNDS.  ETT REPOSITIONED.  BILAT BREATH SOUNDS.  WILL ATTEMPT TO PLACE ON PS THIS AM IN ATTEMPT TO WEAN.\n",
            "\n",
            "GI:  OGT IN PLACE.  CLAMPED, DRAINING BILIOUS MATERIAL.  ABD LARGE AND DISTENDED, HYPOACITVE BOWEL SOUNDS.  NO BM.\n",
            "\n",
            "GU:  FOLEY DRAINING SMALL AMT OF CLOUDY YELLOW URINE.  CVVH TREATMENT D/C'D DUE TO HIGH ACCESS PRESSURE.  UNABLE TO WITHDRAW FROM ARTERIAL PORT.  [**Name (NI) 2672**] PT. IN ATTEMPT TO IMPROVE FLOW BUT TO NO AVAIL.  BLOOD FLOW RATE AND REPLACEMENT RATE ADJUSTED WITHOUT SUCCESS.  NEW DIALYSIS FILTER REPLACED BUT UNABLE TO RUN.  QUINTON FLUSHED WITH HEPARIN AND CAPPED.\n",
            "\n",
            "SKIN:  SKIN ABRASIONS ON  BUTTOCKS UNCHANGED.\n",
            "\n",
            "A/P:  CONSULT RENAL TO EVALUATE DIALYSIS CATH, ?REPLACE VS CHANGE CATHETER OVER WIRE.  FOLLOW LYTES, I/O.  CONT TO WENA ON VENT IF TOL.\n",
            "\n",
            "NEW NOTE\n",
            "CCU progress note 7p-7a (MICU border)\n",
            "\n",
            "NEURO: pt opens eyes to stimuli (noting pt tracking a few times, but when told to do something just stares blankly without further tracking), will pull away from pain, will relax hands when soothingly talked to. no seeming to respond to commands. off all sedation.\n",
            "\n",
            "CODE STATUS: DNR. family still undecided re: CMO vs CVVHD. daily family meetings w/ team.\n",
            "\n",
            "SKIN: SKIN CARE CONSULT pnd. need air bed. old tap site on RLQ of abdomen draining serous drainage (drainage bag attacted). dk purple and red areas lower buttocks on both sides + back upper thighs. mottled areas on toes, dusky.\n",
            "\n",
            "ID: elevated WBCs. spiked yesterday w/ pan cx. Tmax overnite 98.6. ceftriaxone q24h.\n",
            "\n",
            "RESP: remains vented w/ metabolic acidosis. overbreathing vent settings. AC 600x16 40% 10peep. sats 100%. sx mod amts thick  secretions. LS coarse.\n",
            "\n",
            "CARDIAC: SR 90s. SBP 115-130s. Starting to wean LEVO this morning - was on 0.174mcg/k/min most of noc. HEPARIN @ 2050u/hr. am labs pnd. Aline positional L radial. CVP 10.\n",
            "\n",
            "GI/GU: foley patent. cloudy urine. decreased u/o. abd large - ascites, protruding more to L side of body. TF NEPRO advanced to goal of 40cc/hr. minimal residuals. continues on reglan q6h. mushroom cath in place - draining small amts loose dk brown stool.\n",
            "ENDO: INSULIN gtt 2.5-3u/hr. FS q2h.\n",
            "\n",
            "PLAN: frequent FS for insulin gtt. freq turns. skin care consult w/ ordering of air bed. wean levo as tolerated. con't to monitor neuro status. family meeting again today to discuss CMO or to be aggressive w/ CVVHD for worsening ARF.\n",
            "\n",
            "NEW NOTE\n",
            "CCU NPN 7a-7p\n",
            "S: orally intubated, nonverbal\n",
            "O: please see carevue for complete assessment data\n",
            "No events\n",
            "NEURO: remains unsedated, responding to painful stim, no longer able to keep eyes closed so ordered artificial tears. Occasional twitching of extremities noted.\n",
            "\n",
            "CV: Cont levophed, titrated up after hypotensive episode in am after am care. NSR/ST w/ rare PACs noted on tele.\n",
            "\n",
            "RESP: cont on full vent support, ABG revealing worsening metabolic acidosis. Micu team aware. Sxn'd for thick  secretions. LS coarse t/o, diminished @ bases.\n",
            "\n",
            "GI: Cont ascites, TF advanced to 30cc/hr w/ minimal residuals, cont reglan. Mod amt loose brown stool via mushroom cath. Scant OB (+).\n",
            "\n",
            "GU: minimal cloudy urine via foley, spec sent. Cont grossly volume overloaded w/ worsening renal failure and metabolic acidosis.\n",
            "\n",
            "ENDO: cont insulin gtt\n",
            "\n",
            "ID: temp 101.6, tylenol given w/ effect. WBC trending up, all culture neg/pending to date.\n",
            "\n",
            "SKIN: multiple areas of compromised circulation d/t edema and lines... wound care consulted for appropriate air mattress.  No breakdown noted. Aline positional and on the verge of falling out, Micu team aware and will replace tomorrow.\n",
            "\n",
            "SOC: S/o in to visit all day, family expected in afternoon, family meeting scheduled w/ Dr. [**Last Name (STitle) 430**]. Pt remains DNR, starting CRRT v. moving toward CMO.\n",
            "\n",
            "A: 73yo w/ PNA, resp failure/intubated, also w/ DVT/?PE cont full vent support. Also w/ hypotension and cont pressor requirement, ? sepsis w/ no identified source.  Cont worsening ARF w/ sig. metabolic acidosis.\n",
            "P: cont to monitor resp sts, acidosis, ? start CRRT if decision is made to cont aggressive management. Levophed for hypotension (MAP <60-65). f/u air bed/skin care consult. Family meeting tonight regarding dispo. Support to pt/family as necessary.\n",
            "\n",
            "NEW NOTE\n",
            "resp care\n",
            "Pt remained on a/c 600x16 40% 5peep with peak/plat 38/28. Suct for thick tan bld tinged sput.BS [**Month (only) 81**] and coarse bil. ABG revealed met acidosis-no vent changes required. Will cont to follow.\n",
            "\n",
            "NEW NOTE\n",
            "ccu nsg progress note-micu border.\n",
            "o:sedated-fent/versed w effect. intubated fio2 decreased to 40% w am abg. breath sounds=deminished throughout. sx-scant tannish secretions. hemody stable. remains pressor dependent-levophed decreased to 0.126mcg/kg/min w stable map. cvp 5-6 bolused w total 2l ivf wo bump in cvp. overall i&o-approx 6l positive. tf-respolar started increased to 20ml/hr @ 0200-minimal residuals. tf goal 55ml/hr. loose green/brown stool from mushroom cath. low grade t-abx as ordered. family initially present-optimistic of pt eventual recovery.\n",
            "\n",
            "a:signif pneumonia requiring intubation for resp distress. pressor dependent-?sepsis-despite pos 6l fl balance.\n",
            "\n",
            "p:contin present management. support pt/family as indicated. family would like mtg w micu attending.\n",
            "\n",
            "NEW NOTE\n",
            "ccu nsg progress note-micu border.\n",
            "o:neuro=more responsive. moves head towards voice. @ times appears to tract w eyes. inconsistantly nods appropriately to simple questions. soft restraint to l arm for safety.\n",
            "  pulm=on cpap/ps [**6-23**] from approx 1600 to 0500 w adeq sats/abg. back to ac 600x16 40% +5 @ 0500 to rest & for planned hd cath placement. am abg on cpap/ps-7.28/39/104/-[**8-27**]. breath sounds=course throughout. sx-scant tannish secretions.\n",
            "  cv=hemody stable. levo remains @ 0.16mcg/kg/min. heparin @ 2050u/hr w theraputic ptt.\n",
            "  gi=tf nepro fs @ goal-40ml/hr w minimal residuals. dced @ 0600 pending hd cath placement. wo stool.\n",
            "  endo=fsbs running 120-130 insulin gtt.\n",
            "  gu=increasing bun/creat. over all i&o approx positive 19l.\n",
            "  id=low grade t axillary.\n",
            "  misc=family discussion re:hd cath placement & cvvhdf-consent signed for cath placement w desire to start cvvhdf when abls. pt remains dnr.\n",
            "\n",
            "a:some improvement in neuro status. remains pressor dependent. bun/creat contin to rise. minimal uo w overall fl balance grossly positive.\n",
            "\n",
            "P:contin present management. hd cath placement w subsequent cvvhdf- ?overall goal. support pt/family as indicated.\n",
            "\n",
            "NEW NOTE\n",
            "Nursing Note 7a-7p\n",
            "S: Intubated.\n",
            "O: See careview for all objective data.\n",
            "Neuro- All sedation remains off. Conts responding only to pain stimuli by opening eyes and moving LEs. Does not follow commands. Pupils 2mm/sluggish.\n",
            "Resp- Vented on AC 40% 600x18 10peep. TVs 600's, no overbreathing. Bronched @ 1500, only min amts of secretions in L lobe. Lavaged with sample sent off. ETT positional, cuff pushed in/ air added d/t sm leak. ^ oral secretions cleared with yankawer.\n",
            "CV- Tele SR/ST rare->occ PACs. HR 90s-110, ABPs 102-126/60s, MAPs >65. Levophed slowly weaned 0.220->0.195mcg/kg/min this shift. Heparin gtt @ 1800U/hr, PTT pending. Insulin gtt conts @ 3U/hr, sugars wnl.\n",
            "GI/GU- TFs off most of shift d/t residules >100. Has Respalor ordered @ 55/hr for goal. Incont of ^^liquid stool, mushroom cath reinserted/\n",
            "intact. C-diff sent. Foley patent uop remains poor 10-30cc/hr. I+O now +13L, Cre 4.9 BUN 59.\n",
            "ID- Tmax 99.8 ax, conts on Ceftaz for PNA.\n",
            "Skin- Duoderm on coccyx abrasion intact.\n",
            "A/P: 73yo with resp failure intubated, pressor dependent, ascites, ARF and ?met liver ca. Cytology report pending. Monitor BPs, wean Levo as tol. ? make CMO, currently a full code.\n",
            "\n",
            "NEW NOTE\n",
            "Resp. Care:\n",
            "    Pt. remains intubated and on vent. support.  He was on C-PAP/PS most of shift, but Pt. RR mid 30's. Going to interv. radiology later today.  Changed back to A/C mode, RR decr. to 20 with pt. looking more comfortable.\n",
            "\n",
            "NEW NOTE\n",
            "resp care\n",
            "Pt remains on vent. Intubated with 7.5 ett @ 24 lip. suctioned mod amt of thick tan secretions. No chnges made. Will continue to monitor.\n",
            "\n",
            "NEW NOTE\n",
            "Resp: [**Name (NI) 97**] pt on a/c 16/600/+5/40%. Ett #7.5 retaped and secured @ 24 lip. Pt found @ 22 lip, sedation administered. Bs are coarse bilaterally. Suctioned for bloody tinged thick yellow secretions. Pt remains on CVVHD. AM abg's pending. No changes noc. Will wean to psv as tolerated.\n",
            "\n",
            "NEW NOTE\n",
            "Nursing Progress Note\n",
            "\n",
            "S: Pt remains intubated and sedated.\n",
            "\n",
            "O: Please see flow sheet for objective data. Tele sinus rhythm with frequent APB's. Attempt made to wean Levo. Pt conts to be transiently hypotensive esp with positon changes. levo presently at .235mcgs/kg/min. IV Heparin ^'d to 1550u/hr for PTT of 56. Repeat pending.\n",
            "\n",
            "Resp: Pt remains intubated A/C 40% 600 18 10. Please see flow sheet for abgs. Suctioned for moderate amts of thick tan sputum. ET tube advanced to 21cm at lip this am. Tube remains high up by CXR Dr [**Last Name (STitle) 263**] aware and ok with tube position. Lungs diminshed at bases occ rhonchi. LLL remains collapsed. Remains on heparin for tx of suspected PE's and known DVT's. Possible bronch tomorrow.\n",
            "\n",
            "Neuro: Sedation weaned down today. Versed off at present. Fentanyl at 25mcgs/kg/min. Pt minimally responsive to painful stimulation throughout the day. No purposeful movement.\n",
            "\n",
            "GU/GI: TF of Respalor ^ to 40/hr. ABD remains distended with bowel sounds present. No stool today. Urine output remains poor. Creat ^ 4.0 this am. Given 500NS fluid bolus x's 1. I&O 8liters pos LOS.\n",
            "\n",
            "Endo: Remains on insulin drip 1-3u/hr. BS ranging 97-145.\n",
            "\n",
            "Social: Children and SO in throughout the day. Spoke with Dr [**Last Name (STitle) 263**] at length regarding POC.\n",
            "\n",
            "A&P: Unable to wean Levo d/t transient hypotension. Cont with anticoagulation for PE. ? bronch tomorrow. Cont pulmonary toliet. Wean levo as MAP tolerates. Cont with POC.\n",
            "\n",
            "NEW NOTE\n",
            "Respiratory Care Note;\n",
            "    Patient weaned this afternoon to PSV. He appears fairly comfortable on a significant amount of PSV of 22/5.  See Carevue flowsheet for settings and vitals.  Plan to wean PSV as tolerated. Suctioning for moderate amounts of thick yellowish sputum. ET tube resecured 24cm at lip. BS bilat, diminished t/o.\n",
            "\n",
            "NEW NOTE\n",
            "Resp: Rec'd on a/c 16/600+5/40%. Bs are coarse bilaterally. Suctioning for moderate amounts of thick yellow secretions. RSBI this am > 500. Plan is to extubate this am upon arrival of family members to [**Name2 (NI) **] status.\n",
            "\n",
            "NEW NOTE\n",
            "BS occ rhonchi. Sx'd mod amt yellow mucus. Respiratory rate decreased to 16 and pt now overbreathing by 4-8 bpm. No ABG's done this shift.\n",
            "\n",
            "NEW NOTE\n",
            "NRUSING PROGRESS NOTE 7P-7A\n",
            "S:  INTUBATED, SEDATION OFF\n",
            "\n",
            "O:  NEURO:  PT. ALERT, ORIENTED TO NAME.  FOLLOWS SOME SIMPLE COMMANDS.  WILL TRACK WITH EYES.  SMILES WHEN FAMILY IN ROOM.  DENIES C/O PAIN WHEN QUESTIONED, NODDING APPROPRIATELY.  WILL REACH FOR BREATHING TUBE WHEN HANDS UNRESTRAINED.  WRISTS RESTRAINTS ON FOR PT. SAFETY.  STRONG GRASP.  MOVING LEGS ON BED.  RESTLESS AT TIMES.\n",
            "\n",
            "CV:  HR 95-100 SR-ST WITH OCC PAC.  BP 120-140/70'S, WEANING LEVOPHED.  CVP 9-14.  REMAINS ON CALCIUM GLUC AND POTASSIUM GTT.  SEE FLOWSHEET FOR RATES/SLIDING SCALE.\n",
            "\n",
            "RESP:  COARSE BREATH SOUNDS.  SUCTIONING FOR SMALL AMTS OF TAN SPUTUM.  NO VENT CHANGES MADE OVERNIGHT.  SEE FLOWSHEET FOR SETTINGS.  O2 SAT 100%.  ATTEMPTED TO PLACE ON PS BUT TIDAL VOL DROPPED TO 200, PLACED BACK ON AC.  RSBI 120.\n",
            "\n",
            "GI:  TF REMAINS OFF DUE TO HIGH RESIDUALS.  VOMITED SMALL AMT OF DARK BROWN GASTRIC CONTENTS.  OGT UP TO LCWS, DRAINED 600 CC OF DARK BILIOUS GASTRIC CONTENTS.  NO BM OVERNIGHT.\n",
            "\n",
            "GU:  ON CVVH SEE FLOWSHEET FOR DATA, TOL WELL.  SMALL AMTS OF URINE IN FOLEY.  URINE YELLOW, CLOUDY WITH LARGE AMT OF SEDIMENT.\n",
            "\n",
            "SKIN:  SKIN TEARS NOTED ON RIGHT AND LEFT BUTTOCKS, BARRIER CREAM APPLIED.\n",
            "\n",
            "A/P:  CVVH FOR FLUID REMOVAL, PLAN TO START WEANING OFF VENT, NOW DNR.  FAMILY TO MEET TODAY TO DISCUSS CODE STATUS VS CMO.  CONT TO MONITOR LYTES, I/O, ABG, CONT TO WEAN LEVO AS TOL.\n",
            "\n",
            "NEW NOTE\n",
            "Respiratory Care\n",
            "Pt. admitted to CCU in respiratory distress, ayyempted to ventilate pt. utilizing NIV with out success. Pt. demonstrated inconsistant Resp. rate with extensive periods of apnea. ABG demonstrated continued Hypercarbic respiratory failure.  Pt. successfully intubated with a 7.5 ETT to 22 cm @ lip.  Tol A/C ventilation requiring 10cm peep to attain satisfactory ABG values. Reported to have extensive L lung pnx.\n",
            "\n"
          ],
          "name": "stdout"
        }
      ]
    },
    {
      "cell_type": "markdown",
      "metadata": {
        "id": "Idw2OakrSu--"
      },
      "source": [
        "### Bigram, BOW, Logit"
      ]
    },
    {
      "cell_type": "code",
      "metadata": {
        "id": "GHKtOfO1S1Jy"
      },
      "source": [
        "bigram_bow = CountVectorizer(ngram_range=(1,2), min_df=2)\n",
        "X_train = bigram_bow.fit_transform(notes_train)\n",
        "X_test = bigram_bow.transform(notes_test)"
      ],
      "execution_count": null,
      "outputs": []
    },
    {
      "cell_type": "code",
      "metadata": {
        "colab": {
          "base_uri": "https://localhost:8080/"
        },
        "id": "-VPlmPG5U1kc",
        "outputId": "ee800d81-4e5a-4961-8b6b-0cdfc8b2baac"
      },
      "source": [
        "print(X_train.shape)\n",
        "print(X_test.shape)"
      ],
      "execution_count": null,
      "outputs": [
        {
          "output_type": "stream",
          "text": [
            "(22472, 2059371)\n",
            "(5618, 2059371)\n"
          ],
          "name": "stdout"
        }
      ]
    },
    {
      "cell_type": "code",
      "metadata": {
        "colab": {
          "base_uri": "https://localhost:8080/"
        },
        "id": "to8OSFcyUiGw",
        "outputId": "4be21a50-fc8b-4760-a8ea-a5a4a40b6350"
      },
      "source": [
        "%%time\n",
        "logit_bigram = LogisticRegression(C = 0.01, random_state=0, penalty = 'l1', solver='liblinear', class_weight='balanced')\n",
        "logit_bigram.fit(X_train, y_train)"
      ],
      "execution_count": null,
      "outputs": [
        {
          "output_type": "stream",
          "text": [
            "CPU times: user 3min 52s, sys: 886 ms, total: 3min 53s\n",
            "Wall time: 3min 52s\n"
          ],
          "name": "stdout"
        }
      ]
    },
    {
      "cell_type": "code",
      "metadata": {
        "colab": {
          "base_uri": "https://localhost:8080/"
        },
        "id": "KoI_P0QHUqE1",
        "outputId": "3caa5961-91c8-43cc-dee7-9bf1ea861711"
      },
      "source": [
        "%%time\n",
        "logit_bigram = LogisticRegressionCV(Cs=[1e-3, 1e-2, 1e-1], cv = 5, random_state=0, penalty = 'l1', solver='liblinear', class_weight='balanced', scoring='roc_auc')\n",
        "logit_bigram.fit(X_train, y_train)\n",
        "print(logit_unigram.C_)"
      ],
      "execution_count": null,
      "outputs": [
        {
          "output_type": "stream",
          "text": [
            "/usr/local/lib/python3.7/dist-packages/sklearn/svm/_base.py:947: ConvergenceWarning: Liblinear failed to converge, increase the number of iterations.\n",
            "  \"the number of iterations.\", ConvergenceWarning)\n"
          ],
          "name": "stderr"
        },
        {
          "output_type": "stream",
          "text": [
            "[0.01]\n",
            "CPU times: user 1h 3s, sys: 6.17 s, total: 1h 9s\n",
            "Wall time: 59min 53s\n"
          ],
          "name": "stdout"
        }
      ]
    },
    {
      "cell_type": "code",
      "metadata": {
        "colab": {
          "base_uri": "https://localhost:8080/"
        },
        "id": "hmQwO5FuWrkL",
        "outputId": "67fa2ec8-c5dd-4466-b48b-d6a54f527e96"
      },
      "source": [
        "print('Train Set Results')\n",
        "\n",
        "print('Accuracy:', logit_bigram.score(X_train, y_train))\n",
        "print('AUC:', roc_auc_score(y_train, logit_bigram.predict_proba(X_train)[:, 1]))\n",
        "\n",
        "print('Test Set Results')\n",
        "\n",
        "print('Accuracy', logit_bigram.score(X_test, y_test))\n",
        "print('AUC', roc_auc_score(y_test, logit_bigram.predict_proba(X_test)[:, 1]))\n",
        "\n",
        "print('Test Set Details')\n",
        "print(classification_report(y_test, logit_bigram.predict(X_test), target_names=[\"White\", \"Black\"]))"
      ],
      "execution_count": null,
      "outputs": [
        {
          "output_type": "stream",
          "text": [
            "Train Set Results\n",
            "Accuracy: 0.8849976821906698\n",
            "AUC: 0.8849976821906698\n",
            "Test Set Results\n",
            "Accuracy 0.7930570520261838\n",
            "AUC 0.7930570520261838\n",
            "Test Set Details\n",
            "              precision    recall  f1-score   support\n",
            "\n",
            "       White       0.96      0.75      0.84      7586\n",
            "       Black       0.24      0.72      0.37       841\n",
            "\n",
            "    accuracy                           0.75      8427\n",
            "   macro avg       0.60      0.74      0.60      8427\n",
            "weighted avg       0.89      0.75      0.80      8427\n",
            "\n"
          ],
          "name": "stdout"
        }
      ]
    },
    {
      "cell_type": "code",
      "metadata": {
        "colab": {
          "base_uri": "https://localhost:8080/"
        },
        "id": "7RHMZGh3YoSY",
        "outputId": "8d439409-1ca6-48a4-98e4-d261011b4cab"
      },
      "source": [
        "vocab = bigram_bow.get_feature_names()\n",
        "top = 20\n",
        "indices = list(np.argsort(logit_bigram.coef_[0])[-top:][::-1])\n",
        "list(zip([vocab[i] for i in indices], [logit_bigram.coef_[0][i] for i in indices]))"
      ],
      "execution_count": null,
      "outputs": [
        {
          "output_type": "execute_result",
          "data": {
            "text/plain": [
              "[('mongolian', 0.9757105248527002),\n",
              " ('members', 0.1636162620300493),\n",
              " ('sickle', 0.14572467710187215),\n",
              " ('sats 100', 0.13839436699369964),\n",
              " ('stick', 0.10412845503008843),\n",
              " ('palliative', 0.07744381635849246),\n",
              " ('rr 40', 0.07742352917547343),\n",
              " ('difficult', 0.07730709907286837),\n",
              " ('100 on', 0.07588242945686545),\n",
              " ('asthma', 0.07441730688102564),\n",
              " ('who presented', 0.07396445479225254),\n",
              " ('htn', 0.07295812885658162),\n",
              " ('laryngeal edema', 0.07195736693656397),\n",
              " ('d5w', 0.06906371922145885),\n",
              " ('hiv', 0.06803902405267813),\n",
              " ('gbs', 0.06706043289107498),\n",
              " ('2802', 0.06534791876713966),\n",
              " ('in nsr', 0.06493788536907018),\n",
              " ('2192', 0.06341657408772806),\n",
              " ('anuric', 0.06188117812635669)]"
            ]
          },
          "metadata": {
            "tags": []
          },
          "execution_count": 18
        }
      ]
    },
    {
      "cell_type": "code",
      "metadata": {
        "colab": {
          "base_uri": "https://localhost:8080/"
        },
        "id": "OL6ohhhiYtz0",
        "outputId": "80d7885e-966d-4033-ca61-ec4da5629b9b"
      },
      "source": [
        "bottom = 20\n",
        "indices = list(np.argsort(logit_bigram.coef_[0])[:bottom])\n",
        "list(zip([vocab[i] for i in indices], [logit_bigram.coef_[0][i] for i in indices]))"
      ],
      "execution_count": null,
      "outputs": [
        {
          "output_type": "execute_result",
          "data": {
            "text/plain": [
              "[('reddened', -0.3939676043163387),\n",
              " ('ecchymotic', -0.25634850813050114),\n",
              " ('russian', -0.13884409501932662),\n",
              " ('bruising', -0.1285555201573902),\n",
              " ('grunting', -0.12486617051990863),\n",
              " ('rash', -0.11721787746970097),\n",
              " ('ruddy', -0.11272860099256825),\n",
              " ('pale', -0.10644516272344626),\n",
              " ('red', -0.08494219740254322),\n",
              " ('94', -0.08409444718242808),\n",
              " ('husband', -0.08262691371201107),\n",
              " ('ecchymosis', -0.08008127809351466),\n",
              " ('osh', -0.07459091520684576),\n",
              " ('cabg', -0.0731087532498388),\n",
              " ('cooling', -0.07240172527161853),\n",
              " ('sbp 140', -0.07115971578856219),\n",
              " ('carotid', -0.07012025733915646),\n",
              " ('cmo', -0.06709362692275611),\n",
              " ('anxious', -0.06543380790521605),\n",
              " ('anxiety', -0.0630954004603131)]"
            ]
          },
          "metadata": {
            "tags": []
          },
          "execution_count": 19
        }
      ]
    },
    {
      "cell_type": "code",
      "metadata": {
        "id": "irsxvUbxY2Zn"
      },
      "source": [
        "print(notes_train[(notes_train.str.lower().str.find('') !=-1)].iloc[0])"
      ],
      "execution_count": null,
      "outputs": []
    },
    {
      "cell_type": "markdown",
      "metadata": {
        "id": "1X_1VTyQae7Z"
      },
      "source": [
        "### Unigram TF-IDF"
      ]
    },
    {
      "cell_type": "code",
      "metadata": {
        "id": "K5ZsMeC0akqs"
      },
      "source": [
        "unigram_bow = CountVectorizer(ngram_range=(1,1))\n",
        "X_train = unigram_bow.fit_transform(notes_train)\n",
        "X_test = unigram_bow.transform(notes_test)\n",
        "\n",
        "unigram_tf = TfidfTransformer()\n",
        "X_train = unigram_tf.fit_transform(X_train)\n",
        "X_test = unigram_tf.transform(X_test)"
      ],
      "execution_count": null,
      "outputs": []
    },
    {
      "cell_type": "code",
      "metadata": {
        "colab": {
          "base_uri": "https://localhost:8080/"
        },
        "id": "ruFxyVSabGfI",
        "outputId": "3b58c07d-4829-41dc-949b-57fa7f9bab81"
      },
      "source": [
        "%%time\n",
        "logit_unigram_tf = LogisticRegressionCV(Cs = [1e-3, 1e-2, 1e-1], random_state=0, cv=5, penalty = 'l1', solver='liblinear', class_weight='balanced', scoring = 'roc_auc')\n",
        "logit_unigram_tf.fit(X_train, y_train)\n",
        "print(logit_unigram_tf.C_)"
      ],
      "execution_count": null,
      "outputs": [
        {
          "output_type": "stream",
          "text": [
            "[0.001]\n",
            "CPU times: user 27.5 s, sys: 274 ms, total: 27.8 s\n",
            "Wall time: 27.7 s\n"
          ],
          "name": "stdout"
        }
      ]
    },
    {
      "cell_type": "code",
      "metadata": {
        "colab": {
          "base_uri": "https://localhost:8080/"
        },
        "id": "bjqSsAvcerAP",
        "outputId": "d814ca10-e82b-4502-ab21-7fb2118ff1b1"
      },
      "source": [
        "%%time\n",
        "logit_unigram_tf = LogisticRegression(C = 1e-1, random_state=0, penalty = 'l1', solver='liblinear', class_weight='balanced')\n",
        "logit_unigram_tf.fit(X_train, y_train)"
      ],
      "execution_count": null,
      "outputs": [
        {
          "output_type": "stream",
          "text": [
            "CPU times: user 3 s, sys: 14.9 ms, total: 3.02 s\n",
            "Wall time: 3.01 s\n"
          ],
          "name": "stdout"
        }
      ]
    },
    {
      "cell_type": "code",
      "metadata": {
        "colab": {
          "base_uri": "https://localhost:8080/"
        },
        "id": "87xOdt4mbPP2",
        "outputId": "bc7f297a-1370-4fd2-fd84-dc639e30d4ea"
      },
      "source": [
        "print('Train Set Results')\n",
        "\n",
        "print('Accuracy:', logit_unigram_tf.score(X_train, y_train))\n",
        "print('AUC:', roc_auc_score(y_train, logit_unigram_tf.predict_proba(X_train)[:, 1]))\n",
        "\n",
        "print('Test Set Results')\n",
        "\n",
        "print('Accuracy', logit_unigram_tf.score(X_test, y_test))\n",
        "print('AUC', roc_auc_score(y_test, logit_unigram_tf.predict_proba(X_test)[:, 1]))\n",
        "\n",
        "print('Test Set Details')\n",
        "print(classification_report(y_test, logit_unigram_tf.predict(X_test), target_names=[\"White\", \"Black\"]))"
      ],
      "execution_count": null,
      "outputs": [
        {
          "output_type": "stream",
          "text": [
            "Train Set Results\n",
            "Accuracy: 0.6734603061587754\n",
            "AUC: 0.7277909334385397\n",
            "Test Set Results\n",
            "Accuracy 0.6712353150587398\n",
            "AUC 0.7148582689605282\n",
            "Test Set Details\n",
            "              precision    recall  f1-score   support\n",
            "\n",
            "       White       0.94      0.68      0.79      5046\n",
            "       Black       0.18      0.63      0.28       572\n",
            "\n",
            "    accuracy                           0.67      5618\n",
            "   macro avg       0.56      0.65      0.53      5618\n",
            "weighted avg       0.86      0.67      0.74      5618\n",
            "\n"
          ],
          "name": "stdout"
        }
      ]
    },
    {
      "cell_type": "code",
      "metadata": {
        "colab": {
          "base_uri": "https://localhost:8080/"
        },
        "id": "F1trAwI6badu",
        "outputId": "c463a58a-7e0d-44e6-9201-2a1f1faf4934"
      },
      "source": [
        "vocab = unigram_tf.get_feature_names()\n",
        "top = 20\n",
        "indices = list(np.argsort(logit_unigram_tf.coef_[0])[-top:][::-1])\n",
        "list(zip([vocab[i] for i in indices], [logit_unigram_tf.coef_[0][i] for i in indices]))"
      ],
      "execution_count": null,
      "outputs": [
        {
          "output_type": "execute_result",
          "data": {
            "text/plain": [
              "[('zzzzofran', 0.0),\n",
              " ('coninuous', 0.0),\n",
              " ('conisitent', 0.0),\n",
              " ('conisistently', 0.0),\n",
              " ('conisistent', 0.0),\n",
              " ('conisderation', 0.0),\n",
              " ('conisder', 0.0),\n",
              " ('coninutes', 0.0),\n",
              " ('coninuted', 0.0),\n",
              " ('coninute', 0.0),\n",
              " ('coninus', 0.0),\n",
              " ('coninuously', 0.0),\n",
              " ('coninuing', 0.0),\n",
              " ('congestion', 0.0),\n",
              " ('coninues', 0.0),\n",
              " ('coninued', 0.0),\n",
              " ('coninue', 0.0),\n",
              " ('coninuation', 0.0),\n",
              " ('coninually', 0.0),\n",
              " ('conintune', 0.0)]"
            ]
          },
          "metadata": {
            "tags": []
          },
          "execution_count": 49
        }
      ]
    },
    {
      "cell_type": "code",
      "metadata": {
        "colab": {
          "base_uri": "https://localhost:8080/"
        },
        "id": "3vgWWp2pbf-y",
        "outputId": "e89a05b5-62cf-44fb-a967-0d880bee3a77"
      },
      "source": [
        "bottom = 20\n",
        "indices = list(np.argsort(logit_unigram_tf.coef_[0])[:bottom])\n",
        "list(zip([vocab[i] for i in indices], [logit_unigram_tf.coef_[0][i] for i in indices]))"
      ],
      "execution_count": null,
      "outputs": [
        {
          "output_type": "execute_result",
          "data": {
            "text/plain": [
              "[('00', 0.0),\n",
              " ('nursinfg', 0.0),\n",
              " ('nursing', 0.0),\n",
              " ('nursingassessment', 0.0),\n",
              " ('nursingf', 0.0),\n",
              " ('nursingg', 0.0),\n",
              " ('nursinghome', 0.0),\n",
              " ('nursingi', 0.0),\n",
              " ('nursingnote', 0.0),\n",
              " ('nursingp', 0.0),\n",
              " ('nursingprogress', 0.0),\n",
              " ('nursings', 0.0),\n",
              " ('nursingt', 0.0),\n",
              " ('nursinh', 0.0),\n",
              " ('nursinmg', 0.0),\n",
              " ('nursinsg', 0.0),\n",
              " ('nursint', 0.0),\n",
              " ('nursintg', 0.0),\n",
              " ('nursiong', 0.0),\n",
              " ('nursisng', 0.0)]"
            ]
          },
          "metadata": {
            "tags": []
          },
          "execution_count": 50
        }
      ]
    },
    {
      "cell_type": "markdown",
      "metadata": {
        "id": "13mvzhAyn6i2"
      },
      "source": [
        "### Final Model"
      ]
    },
    {
      "cell_type": "code",
      "metadata": {
        "id": "k-HLxOMkn9iu"
      },
      "source": [
        "### Feature generation for bag-of-words\n",
        "unigram_bow = CountVectorizer(ngram_range=(1,1))\n",
        "X_train = unigram_bow.fit_transform(notes_train)\n",
        "X_test = unigram_bow.transform(notes_test)"
      ],
      "execution_count": null,
      "outputs": []
    },
    {
      "cell_type": "code",
      "metadata": {
        "colab": {
          "base_uri": "https://localhost:8080/"
        },
        "id": "Cmy53eGJhveX",
        "outputId": "f0511f95-a937-4b10-f576-132635f0f664"
      },
      "source": [
        "%%time\n",
        "### Train model\n",
        "logit = LogisticRegression(C=0.01, random_state=0, penalty = 'l1', solver='liblinear', class_weight='balanced')\n",
        "logit.fit(X_train, y_train)"
      ],
      "execution_count": null,
      "outputs": [
        {
          "output_type": "stream",
          "text": [
            "CPU times: user 23.1 s, sys: 27.8 ms, total: 23.1 s\n",
            "Wall time: 23.1 s\n"
          ],
          "name": "stdout"
        }
      ]
    },
    {
      "cell_type": "code",
      "metadata": {
        "colab": {
          "base_uri": "https://localhost:8080/"
        },
        "id": "lAeVyroNoxgT",
        "outputId": "0c8380d4-5667-4941-bbd6-482084a01051"
      },
      "source": [
        "### Print results\n",
        "\n",
        "print('Train Set Results')\n",
        "\n",
        "print('Accuracy:', metrics.accuracy_score(y_train, logit.predict(X_train)))\n",
        "print('AUC:', roc_auc_score(y_train, logit.predict_proba(X_train)[:, 1]))\n",
        "\n",
        "print('Test Set Results')\n",
        "\n",
        "print('Accuracy', metrics.accuracy_score(y_test, logit.predict(X_test)))\n",
        "print('AUC', roc_auc_score(y_test, logit.predict_proba(X_test)[:, 1]))\n",
        "\n",
        "print('Test Set Details')\n",
        "print(classification_report(y_test, logit.predict(X_test), target_names=[\"White\", \"Black\"]))\n",
        "print(metrics.confusion_matrix(y_test, logit.predict(X_test)))"
      ],
      "execution_count": null,
      "outputs": [
        {
          "output_type": "stream",
          "text": [
            "Train Set Results\n",
            "Accuracy: 0.7651426537150994\n",
            "AUC: 0.8766331882064011\n",
            "Test Set Results\n",
            "Accuracy 0.7395277085558325\n",
            "AUC 0.7923680050208266\n",
            "Test Set Details\n",
            "              precision    recall  f1-score   support\n",
            "\n",
            "       White       0.96      0.74      0.84      7586\n",
            "       Black       0.24      0.72      0.35       841\n",
            "\n",
            "    accuracy                           0.74      8427\n",
            "   macro avg       0.60      0.73      0.60      8427\n",
            "weighted avg       0.89      0.74      0.79      8427\n",
            "\n",
            "[[5628 1958]\n",
            " [ 237  604]]\n"
          ],
          "name": "stdout"
        }
      ]
    },
    {
      "cell_type": "code",
      "metadata": {
        "colab": {
          "base_uri": "https://localhost:8080/",
          "height": 278
        },
        "id": "vndWHqofqIyX",
        "outputId": "63117d89-c4e9-41f7-ea1d-182597ab0da6"
      },
      "source": [
        "metrics.plot_roc_curve(logit, X_test, y_test)  \n",
        "plt.show()     "
      ],
      "execution_count": null,
      "outputs": [
        {
          "output_type": "display_data",
          "data": {
            "image/png": "[encoded data removed]",
            "text/plain": [
              "<Figure size 432x288 with 1 Axes>"
            ]
          },
          "metadata": {
            "tags": [],
            "needs_background": "light"
          }
        }
      ]
    },
    {
      "cell_type": "code",
      "metadata": {
        "colab": {
          "base_uri": "https://localhost:8080/"
        },
        "id": "4MkWlg620R5A",
        "outputId": "36758b59-bcd2-4d6e-b140-5cbc365a7b84"
      },
      "source": [
        "### Most predictive of black patient\n",
        "vocab = unigram_bow.get_feature_names()\n",
        "top = 20\n",
        "indices = list(np.argsort(logit.coef_[0])[-top:][::-1])\n",
        "list(zip([vocab[i] for i in indices], [logit.coef_[0][i] for i in indices]))"
      ],
      "execution_count": null,
      "outputs": [
        {
          "output_type": "execute_result",
          "data": {
            "text/plain": [
              "[('mongolian', 0.963372300404336),\n",
              " ('members', 0.16058955396828717),\n",
              " ('sickle', 0.15521833907319987),\n",
              " ('stick', 0.09574736670615566),\n",
              " ('asthma', 0.08032733773524942),\n",
              " ('gbs', 0.0763023991803041),\n",
              " ('hiv', 0.07538239990009939),\n",
              " ('htn', 0.07492032113577196),\n",
              " ('palliative', 0.07487571497680683),\n",
              " ('difficult', 0.07353697517373278),\n",
              " ('quiet', 0.06957432346711019),\n",
              " ('d5w', 0.06623174396782298),\n",
              " ('obtain', 0.06402625001248825),\n",
              " ('anuric', 0.0636207786816823),\n",
              " ('2192', 0.06311634978293783),\n",
              " ('another', 0.062300046632465016),\n",
              " ('obese', 0.06134770955511634),\n",
              " ('eating', 0.06036185819169246),\n",
              " ('ble', 0.05846585978656264),\n",
              " ('170', 0.05650471116332802)]"
            ]
          },
          "metadata": {
            "tags": []
          },
          "execution_count": 26
        }
      ]
    },
    {
      "cell_type": "code",
      "metadata": {
        "colab": {
          "base_uri": "https://localhost:8080/"
        },
        "id": "_2pefqXa0YWa",
        "outputId": "ea621c7c-9d81-4e58-d2ee-37c97e3f691e"
      },
      "source": [
        "### Most predictive of white patient\n",
        "bottom = 20\n",
        "indices = list(np.argsort(logit.coef_[0])[:bottom])\n",
        "list(zip([vocab[i] for i in indices], [logit.coef_[0][i] for i in indices]))"
      ],
      "execution_count": null,
      "outputs": [
        {
          "output_type": "execute_result",
          "data": {
            "text/plain": [
              "[('reddened', -0.3936130125894193),\n",
              " ('ecchymotic', -0.27306685077056053),\n",
              " ('russian', -0.15601629191696337),\n",
              " ('bruising', -0.13562554794007764),\n",
              " ('grunting', -0.12995753365618914),\n",
              " ('ruddy', -0.1286138933420933),\n",
              " ('pale', -0.1078363478616601),\n",
              " ('rash', -0.10780387339135394),\n",
              " ('husband', -0.08903381284683436),\n",
              " ('red', -0.08562124876865618),\n",
              " ('94', -0.0841116427465392),\n",
              " ('carotid', -0.07555797156999966),\n",
              " ('ecchymosis', -0.07542667193837962),\n",
              " ('osh', -0.07523103363073906),\n",
              " ('cabg', -0.0703095468240652),\n",
              " ('breastfeeding', -0.06594813647758246),\n",
              " ('anxiety', -0.06486635141033259),\n",
              " ('cmo', -0.06402451728403903),\n",
              " ('purple', -0.06333530745326282),\n",
              " ('cooling', -0.062381378942042015)]"
            ]
          },
          "metadata": {
            "tags": []
          },
          "execution_count": 25
        }
      ]
    },
    {
      "cell_type": "markdown",
      "metadata": {
        "id": "3dFKnGgX1LdJ"
      },
      "source": [
        "### Get Patient Comorbidities"
      ]
    },
    {
      "cell_type": "code",
      "metadata": {
        "id": "kNP58g299l80"
      },
      "source": [
        "### Get comorbidities from MIMIC\n",
        "%%bigquery --project adept-box-313502 comorbities\n",
        "with eliflg as\n",
        "(\n",
        "select hadm_id, seq_num, icd9_code\n",
        ", CASE\n",
        "  when icd9_code in ('39891','40201','40211','40291','40401','40403','40411','40413','40491','40493') then 1\n",
        "  when SUBSTR(icd9_code, 1, 4) in ('4254','4255','4257','4258','4259') then 1\n",
        "  when SUBSTR(icd9_code, 1, 3) in ('428') then 1\n",
        "  else 0 end as chf       /* Congestive heart failure */\n",
        "\n",
        ", CASE\n",
        "  when icd9_code in ('42613','42610','42612','99601','99604') then 1\n",
        "  when SUBSTR(icd9_code, 1, 4) in ('4260','4267','4269','4270','4271','4272','4273','4274','4276','4278','4279','7850','V450','V533') then 1\n",
        "  else 0 end as arrhy\n",
        "\n",
        ", CASE\n",
        "  when SUBSTR(icd9_code, 1, 4) in ('0932','7463','7464','7465','7466','V422','V433') then 1\n",
        "  when SUBSTR(icd9_code, 1, 3) in ('394','395','396','397','424') then 1\n",
        "  else 0 end as valve     /* Valvular disease */\n",
        "\n",
        ", CASE\n",
        "  when SUBSTR(icd9_code, 1, 4) in ('4150','4151','4170','4178','4179') then 1\n",
        "  when SUBSTR(icd9_code, 1, 3) in ('416') then 1\n",
        "  else 0 end as pulmcirc  /* Pulmonary circulation disorder */\n",
        "\n",
        ", CASE\n",
        "  when SUBSTR(icd9_code, 1, 4) in ('0930','4373','4431','4432','4438','4439','4471','5571','5579','V434') then 1\n",
        "  when SUBSTR(icd9_code, 1, 3) in ('440','441') then 1\n",
        "  else 0 end as perivasc  /* Peripheral vascular disorder */\n",
        "\n",
        ", CASE\n",
        "  when SUBSTR(icd9_code, 1, 3) in ('401') then 1\n",
        "  else 0 end as htn       /* Hypertension, uncomplicated */\n",
        "\n",
        ", CASE\n",
        "  when SUBSTR(icd9_code, 1, 3) in ('402','403','404','405') then 1\n",
        "  else 0 end as htncx     /* Hypertension, complicated */\n",
        "\n",
        ", CASE\n",
        "  when SUBSTR(icd9_code, 1, 4) in ('3341','3440','3441','3442','3443','3444','3445','3446','3449') then 1\n",
        "  when SUBSTR(icd9_code, 1, 3) in ('342','343') then 1\n",
        "  else 0 end as para      /* Paralysis */\n",
        "\n",
        ", CASE\n",
        "  when icd9_code in ('33392') then 1\n",
        "  when SUBSTR(icd9_code, 1, 4) in ('3319','3320','3321','3334','3335','3362','3481','3483','7803','7843') then 1\n",
        "  when SUBSTR(icd9_code, 1, 3) in ('334','335','340','341','345') then 1\n",
        "  else 0 end as neuro     /* Other neurological */\n",
        "\n",
        ", CASE\n",
        "  when SUBSTR(icd9_code, 1, 4) in ('4168','4169','5064','5081','5088') then 1\n",
        "  when SUBSTR(icd9_code, 1, 3) in ('490','491','492','493','494','495','496','500','501','502','503','504','505') then 1\n",
        "  else 0 end as chrnlung  /* Chronic pulmonary disease */\n",
        "\n",
        ", CASE\n",
        "  when SUBSTR(icd9_code, 1, 4) in ('2500','2501','2502','2503') then 1\n",
        "  else 0 end as dm        /* Diabetes w/o chronic complications*/\n",
        "\n",
        ", CASE\n",
        "  when SUBSTR(icd9_code, 1, 4) in ('2504','2505','2506','2507','2508','2509') then 1\n",
        "  else 0 end as dmcx      /* Diabetes w/ chronic complications */\n",
        "\n",
        ", CASE\n",
        "  when SUBSTR(icd9_code, 1, 4) in ('2409','2461','2468') then 1\n",
        "  when SUBSTR(icd9_code, 1, 3) in ('243','244') then 1\n",
        "  else 0 end as hypothy   /* Hypothyroidism */\n",
        "\n",
        ", CASE\n",
        "  when icd9_code in ('40301','40311','40391','40402','40403','40412','40413','40492','40493') then 1\n",
        "  when SUBSTR(icd9_code, 1, 4) in ('5880','V420','V451') then 1\n",
        "  when SUBSTR(icd9_code, 1, 3) in ('585','586','V56') then 1\n",
        "  else 0 end as renlfail  /* Renal failure */\n",
        "\n",
        ", CASE\n",
        "  when icd9_code in ('07022','07023','07032','07033','07044','07054') then 1\n",
        "  when SUBSTR(icd9_code, 1, 4) in ('0706','0709','4560','4561','4562','5722','5723','5724','5728','5733','5734','5738','5739','V427') then 1\n",
        "  when SUBSTR(icd9_code, 1, 3) in ('570','571') then 1\n",
        "  else 0 end as liver     /* Liver disease */\n",
        "\n",
        ", CASE\n",
        "  when SUBSTR(icd9_code, 1, 4) in ('5317','5319','5327','5329','5337','5339','5347','5349') then 1\n",
        "  else 0 end as ulcer     /* Chronic Peptic ulcer disease (includes bleeding only if obstruction is also present) */\n",
        "\n",
        ", CASE\n",
        "  when SUBSTR(icd9_code, 1, 3) in ('042','043','044') then 1\n",
        "  else 0 end as aids      /* HIV and AIDS */\n",
        "\n",
        ", CASE\n",
        "  when SUBSTR(icd9_code, 1, 4) in ('2030','2386') then 1\n",
        "  when SUBSTR(icd9_code, 1, 3) in ('200','201','202') then 1\n",
        "  else 0 end as lymph     /* Lymphoma */\n",
        "\n",
        ", CASE\n",
        "  when SUBSTR(icd9_code, 1, 3) in ('196','197','198','199') then 1\n",
        "  else 0 end as mets      /* Metastatic cancer */\n",
        "\n",
        ", CASE\n",
        "  when SUBSTR(icd9_code, 1, 3) in\n",
        "  (\n",
        "     '140','141','142','143','144','145','146','147','148','149','150','151','152'\n",
        "    ,'153','154','155','156','157','158','159','160','161','162','163','164','165'\n",
        "    ,'166','167','168','169','170','171','172','174','175','176','177','178','179'\n",
        "    ,'180','181','182','183','184','185','186','187','188','189','190','191','192'\n",
        "    ,'193','194','195'\n",
        "  ) then 1\n",
        "  else 0 end as tumor     /* Solid tumor without metastasis */\n",
        "\n",
        ", CASE\n",
        "  when icd9_code in ('72889','72930') then 1\n",
        "  when SUBSTR(icd9_code, 1, 4) in ('7010','7100','7101','7102','7103','7104','7108','7109','7112','7193','7285') then 1\n",
        "  when SUBSTR(icd9_code, 1, 3) in ('446','714','720','725') then 1\n",
        "  else 0 end as arth              /* Rheumatoid arthritis/collagen vascular diseases */\n",
        "\n",
        ", CASE\n",
        "  when SUBSTR(icd9_code, 1, 4) in ('2871','2873','2874','2875') then 1\n",
        "  when SUBSTR(icd9_code, 1, 3) in ('286') then 1\n",
        "  else 0 end as coag      /* Coagulation deficiency */\n",
        "\n",
        ", CASE\n",
        "  when SUBSTR(icd9_code, 1, 4) in ('2780') then 1\n",
        "  else 0 end as obese     /* Obesity      */\n",
        "\n",
        ", CASE\n",
        "  when SUBSTR(icd9_code, 1, 4) in ('7832','7994') then 1\n",
        "  when SUBSTR(icd9_code, 1, 3) in ('260','261','262','263') then 1\n",
        "  else 0 end as wghtloss  /* Weight loss */\n",
        "\n",
        ", CASE\n",
        "  when SUBSTR(icd9_code, 1, 4) in ('2536') then 1\n",
        "  when SUBSTR(icd9_code, 1, 3) in ('276') then 1\n",
        "  else 0 end as lytes     /* Fluid and electrolyte disorders */\n",
        "\n",
        ", CASE\n",
        "  when SUBSTR(icd9_code, 1, 4) in ('2800') then 1\n",
        "  else 0 end as bldloss   /* Blood loss anemia */\n",
        "\n",
        ", CASE\n",
        "  when SUBSTR(icd9_code, 1, 4) in ('2801','2808','2809') then 1\n",
        "  when SUBSTR(icd9_code, 1, 3) in ('281') then 1\n",
        "  else 0 end as anemdef  /* Deficiency anemias */\n",
        "\n",
        ", CASE\n",
        "  when SUBSTR(icd9_code, 1, 4) in ('2652','2911','2912','2913','2915','2918','2919','3030','3039','3050','3575','4255','5353','5710','5711','5712','5713','V113') then 1\n",
        "  when SUBSTR(icd9_code, 1, 3) in ('980') then 1\n",
        "  else 0 end as alcohol /* Alcohol abuse */\n",
        "\n",
        ", CASE\n",
        "  when icd9_code in ('V6542') then 1\n",
        "  when SUBSTR(icd9_code, 1, 4) in ('3052','3053','3054','3055','3056','3057','3058','3059') then 1\n",
        "  when SUBSTR(icd9_code, 1, 3) in ('292','304') then 1\n",
        "  else 0 end as drug /* Drug abuse */\n",
        "\n",
        ", CASE\n",
        "  when icd9_code in ('29604','29614','29644','29654') then 1\n",
        "  when SUBSTR(icd9_code, 1, 4) in ('2938') then 1\n",
        "  when SUBSTR(icd9_code, 1, 3) in ('295','297','298') then 1\n",
        "  else 0 end as psych /* Psychoses */\n",
        "\n",
        ", CASE\n",
        "  when SUBSTR(icd9_code, 1, 4) in ('2962','2963','2965','3004') then 1\n",
        "  when SUBSTR(icd9_code, 1, 3) in ('309','311') then 1\n",
        "  else 0 end as depress  /* Depression */\n",
        "from `physionet-data.mimiciii_clinical.diagnoses_icd` icd\n",
        "where seq_num != 1 -- we do not include the primary icd-9 code\n",
        ")\n",
        "-- collapse the icd9_code specific flags into hadm_id specific flags\n",
        "-- this groups comorbidities together for a single patient admission\n",
        ", eligrp as\n",
        "(\n",
        "  select hadm_id\n",
        "  , max(chf) as chf\n",
        "  , max(arrhy) as arrhy\n",
        "  , max(valve) as valve\n",
        "  , max(pulmcirc) as pulmcirc\n",
        "  , max(perivasc) as perivasc\n",
        "  , max(htn) as htn\n",
        "  , max(htncx) as htncx\n",
        "  , max(para) as para\n",
        "  , max(neuro) as neuro\n",
        "  , max(chrnlung) as chrnlung\n",
        "  , max(dm) as dm\n",
        "  , max(dmcx) as dmcx\n",
        "  , max(hypothy) as hypothy\n",
        "  , max(renlfail) as renlfail\n",
        "  , max(liver) as liver\n",
        "  , max(ulcer) as ulcer\n",
        "  , max(aids) as aids\n",
        "  , max(lymph) as lymph\n",
        "  , max(mets) as mets\n",
        "  , max(tumor) as tumor\n",
        "  , max(arth) as arth\n",
        "  , max(coag) as coag\n",
        "  , max(obese) as obese\n",
        "  , max(wghtloss) as wghtloss\n",
        "  , max(lytes) as lytes\n",
        "  , max(bldloss) as bldloss\n",
        "  , max(anemdef) as anemdef\n",
        "  , max(alcohol) as alcohol\n",
        "  , max(drug) as drug\n",
        "  , max(psych) as psych\n",
        "  , max(depress) as depress\n",
        "from eliflg\n",
        "group by hadm_id\n",
        ")\n",
        "-- now merge these flags together to define elixhauser\n",
        "-- most are straightforward.. but hypertension flags are a bit more complicated\n",
        "\n",
        "\n",
        "select adm.hadm_id\n",
        ", chf as congestive_heart_failure\n",
        ", arrhy as cardiac_arrhythmias\n",
        ", valve as valvular_disease\n",
        ", pulmcirc as pulmonary_circulation\n",
        ", perivasc as peripheral_vascular\n",
        "-- we combine \"htn\" and \"htncx\" into \"HYPERTENSION\"\n",
        ", case\n",
        "    when htn = 1 then 1\n",
        "    when htncx = 1 then 1\n",
        "  else 0 end as hypertension\n",
        ", para as paralysis\n",
        ", neuro as other_neurological\n",
        ", chrnlung as chronic_pulmonary\n",
        "-- only the more severe comorbidity (complicated diabetes) is kept\n",
        ", case\n",
        "    when dmcx = 1 then 0\n",
        "    when dm = 1 then 1\n",
        "  else 0 end as diabetes_uncomplicated\n",
        ", dmcx as diabetes_complicated\n",
        ", hypothy as hypothyroidism\n",
        ", renlfail as renal_failure\n",
        ", liver as liver_disease\n",
        ", ulcer as peptic_ulcer\n",
        ", aids as aids\n",
        ", lymph as lymphoma\n",
        ", mets as metastatic_cancer\n",
        "-- only the more severe comorbidity (metastatic cancer) is kept\n",
        ", case\n",
        "    when mets = 1 then 0\n",
        "    when tumor = 1 then 1\n",
        "  else 0 end as solid_tumor\n",
        ", arth as rheumatoid_arthritis\n",
        ", coag as coagulopathy\n",
        ", obese as obesity\n",
        ", wghtloss as weight_loss\n",
        ", lytes as fluid_electrolyte\n",
        ", bldloss as blood_loss_anemia\n",
        ", anemdef as deficiency_anemias\n",
        ", alcohol as alcohol_abuse\n",
        ", drug as drug_abuse\n",
        ", psych as psychoses\n",
        ", depress as depression\n",
        "\n",
        "FROM `physionet-data.mimiciii_clinical.admissions` adm\n",
        "left join eligrp eli\n",
        "  on adm.hadm_id = eli.hadm_id\n",
        "order by adm.hadm_id;"
      ],
      "execution_count": null,
      "outputs": []
    },
    {
      "cell_type": "code",
      "metadata": {
        "id": "LmlCijGL3gqT"
      },
      "source": [
        "### Join with train and test tables\n",
        "comorb_train = data_patient_train.merge(comorbities, on = ['hadm_id'])\n",
        "comorb_test  = data_patient_test.merge(comorbities, on = ['hadm_id'])"
      ],
      "execution_count": null,
      "outputs": []
    },
    {
      "cell_type": "markdown",
      "metadata": {
        "id": "znsTYDov_ElG"
      },
      "source": [
        "### Diabetes, Hypertension, CPD, Obesity"
      ]
    },
    {
      "cell_type": "code",
      "metadata": {
        "colab": {
          "base_uri": "https://localhost:8080/"
        },
        "id": "DeKeNnv8_Mfj",
        "outputId": "cec0772b-2aa0-4bb7-a123-ffea93111e99"
      },
      "source": [
        "### Final model performance on patients with diabetes\n",
        "notes_diabetic = notes_test[comorb_test.diabetes_uncomplicated==1]\n",
        "X_diabetic = unigram_bow.transform(notes_diabetic)\n",
        "y_diabetic = y_test[comorb_test.diabetes_uncomplicated==1]\n",
        "\n",
        "print('Test Set Results')\n",
        "\n",
        "print('Accuracy', metrics.accuracy_score(y_diabetic, logit.predict(X_diabetic)))\n",
        "print('AUC', roc_auc_score(y_diabetic, logit.predict_proba(X_diabetic)[:, 1]))\n",
        "\n",
        "print('Test Set Details')\n",
        "print(classification_report(y_diabetic, logit.predict(X_diabetic), target_names=[\"White\", \"Black\"]))\n",
        "print(metrics.confusion_matrix(y_diabetic, logit.predict(X_diabetic)))"
      ],
      "execution_count": null,
      "outputs": [
        {
          "output_type": "stream",
          "text": [
            "Test Set Results\n",
            "Accuracy 0.7705047318611987\n",
            "AUC 0.7860876334519573\n",
            "Test Set Details\n",
            "              precision    recall  f1-score   support\n",
            "\n",
            "       White       0.94      0.79      0.86      1124\n",
            "       Black       0.27      0.62      0.38       144\n",
            "\n",
            "    accuracy                           0.77      1268\n",
            "   macro avg       0.61      0.70      0.62      1268\n",
            "weighted avg       0.87      0.77      0.80      1268\n",
            "\n",
            "[[888 236]\n",
            " [ 55  89]]\n"
          ],
          "name": "stdout"
        }
      ]
    },
    {
      "cell_type": "code",
      "metadata": {
        "colab": {
          "base_uri": "https://localhost:8080/"
        },
        "id": "xPf_caB_A7Xq",
        "outputId": "7b1d8e2e-22f0-44ac-d978-37dfba252129"
      },
      "source": [
        "### Final model performance on patients with hypertension\n",
        "notes_ht = notes_test[comorb_test.hypertension==1]\n",
        "X_ht = unigram_bow.transform(notes_ht)\n",
        "y_ht = y_test[comorb_test.hypertension==1]\n",
        "\n",
        "print('Test Set Results')\n",
        "\n",
        "print('Accuracy', metrics.accuracy_score(y_ht, logit.predict(X_ht)))\n",
        "print('AUC', roc_auc_score(y_ht, logit.predict_proba(X_ht)[:, 1]))\n",
        "\n",
        "print('Test Set Details')\n",
        "print(classification_report(y_ht, logit.predict(X_ht), target_names=[\"White\", \"Black\"]))\n",
        "print(metrics.confusion_matrix(y_ht, logit.predict(X_ht)))"
      ],
      "execution_count": null,
      "outputs": [
        {
          "output_type": "stream",
          "text": [
            "Test Set Results\n",
            "Accuracy 0.7876030707989764\n",
            "AUC 0.7934086546611908\n",
            "Test Set Details\n",
            "              precision    recall  f1-score   support\n",
            "\n",
            "       White       0.96      0.80      0.87      3171\n",
            "       Black       0.27      0.66      0.38       346\n",
            "\n",
            "    accuracy                           0.79      3517\n",
            "   macro avg       0.61      0.73      0.62      3517\n",
            "weighted avg       0.89      0.79      0.82      3517\n",
            "\n",
            "[[2543  628]\n",
            " [ 119  227]]\n"
          ],
          "name": "stdout"
        }
      ]
    },
    {
      "cell_type": "code",
      "metadata": {
        "colab": {
          "base_uri": "https://localhost:8080/"
        },
        "id": "KagZjIWMBckk",
        "outputId": "ac0b37b9-1176-46e6-e935-62a479be395d"
      },
      "source": [
        "### Final model performance on patients with COPD\n",
        "notes_cpd = notes_test[comorb_test.chronic_pulmonary==1]\n",
        "X_cpd = unigram_bow.transform(notes_cpd)\n",
        "y_cpd = y_test[comorb_test.chronic_pulmonary==1]\n",
        "\n",
        "print('Test Set Results')\n",
        "\n",
        "print('Accuracy', metrics.accuracy_score(y_cpd, logit.predict(X_cpd)))\n",
        "print('AUC', roc_auc_score(y_cpd, logit.predict_proba(X_cpd)[:, 1]))\n",
        "\n",
        "print('Test Set Details')\n",
        "print(classification_report(y_cpd, logit.predict(X_cpd), target_names=[\"White\", \"Black\"]))\n",
        "print(metrics.confusion_matrix(y_cpd, logit.predict(X_cpd)))"
      ],
      "execution_count": null,
      "outputs": [
        {
          "output_type": "stream",
          "text": [
            "Test Set Results\n",
            "Accuracy 0.7897553516819572\n",
            "AUC 0.7987754655781915\n",
            "Test Set Details\n",
            "              precision    recall  f1-score   support\n",
            "\n",
            "       White       0.96      0.80      0.87      1193\n",
            "       Black       0.25      0.68      0.36       115\n",
            "\n",
            "    accuracy                           0.79      1308\n",
            "   macro avg       0.60      0.74      0.62      1308\n",
            "weighted avg       0.90      0.79      0.83      1308\n",
            "\n",
            "[[955 238]\n",
            " [ 37  78]]\n"
          ],
          "name": "stdout"
        }
      ]
    },
    {
      "cell_type": "code",
      "metadata": {
        "colab": {
          "base_uri": "https://localhost:8080/"
        },
        "id": "Hkb_BIiHCFr1",
        "outputId": "beb940f8-7d78-482e-d06a-27370ec47bb6"
      },
      "source": [
        "### Final model performance on obese patients\n",
        "notes_obese = notes_test[comorb_test.obesity==1]\n",
        "X_obese = unigram_bow.transform(notes_obese)\n",
        "y_obese = y_test[comorb_test.obesity==1]\n",
        "\n",
        "print('Test Set Results')\n",
        "\n",
        "print('Accuracy', metrics.accuracy_score(y_obese, logit.predict(X_obese)))\n",
        "print('AUC', roc_auc_score(y_obese, logit.predict_proba(X_obese)[:, 1]))\n",
        "\n",
        "print('Test Set Details')\n",
        "print(classification_report(y_obese, logit.predict(X_obese), target_names=[\"White\", \"Black\"]))\n",
        "print(metrics.confusion_matrix(y_obese, logit.predict(X_obese)))"
      ],
      "execution_count": null,
      "outputs": [
        {
          "output_type": "stream",
          "text": [
            "Test Set Results\n",
            "Accuracy 0.7803030303030303\n",
            "AUC 0.808845029239766\n",
            "Test Set Details\n",
            "              precision    recall  f1-score   support\n",
            "\n",
            "       White       0.96      0.78      0.86       228\n",
            "       Black       0.36      0.81      0.50        36\n",
            "\n",
            "    accuracy                           0.78       264\n",
            "   macro avg       0.66      0.79      0.68       264\n",
            "weighted avg       0.88      0.78      0.81       264\n",
            "\n",
            "[[177  51]\n",
            " [  7  29]]\n"
          ],
          "name": "stdout"
        }
      ]
    },
    {
      "cell_type": "markdown",
      "metadata": {
        "id": "Y1VNkHKOCUdr"
      },
      "source": [
        "### Comorbidity Score"
      ]
    },
    {
      "cell_type": "code",
      "metadata": {
        "id": "vTEkChvODp6B"
      },
      "source": [
        "### Compute VW comorbidity score\n",
        "\n",
        "comorb_test[\"vw_score\"] = 0 * comorb_test.aids + \\\n",
        "   0 * comorb_test.alcohol_abuse + \\\n",
        "  -2 * comorb_test.blood_loss_anemia + \\\n",
        "   7 * comorb_test.congestive_heart_failure + \\\n",
        "   3 * comorb_test.chronic_pulmonary + \\\n",
        "   3 * comorb_test.coagulopathy + \\\n",
        "  -2 * comorb_test.deficiency_anemias + \\\n",
        "  -3 * comorb_test.depression + \\\n",
        "   0 * comorb_test.diabetes_complicated + \\\n",
        "   0 * comorb_test.diabetes_uncomplicated + \\\n",
        "  -7 * comorb_test.drug_abuse + \\\n",
        "   5 * comorb_test.fluid_electrolyte + \\\n",
        "   0 * comorb_test.hypertension + \\\n",
        "   0 * comorb_test.hypothyroidism + \\\n",
        "   11 * comorb_test.liver_disease + \\\n",
        "   9 * comorb_test.lymphoma + \\\n",
        "   12 * comorb_test.metastatic_cancer + \\\n",
        "   6 * comorb_test.other_neurological + \\\n",
        "  -4 * comorb_test.obesity + \\\n",
        "   7 * comorb_test.paralysis + \\\n",
        "   2 * comorb_test.peripheral_vascular + \\\n",
        "   0 * comorb_test.peptic_ulcer + \\\n",
        "   0 * comorb_test.psychoses + \\\n",
        "   4 * comorb_test.pulmonary_circulation + \\\n",
        "   0 * comorb_test.rheumatoid_arthritis + \\\n",
        "   5 * comorb_test.renal_failure + \\\n",
        "   4 * comorb_test.solid_tumor + \\\n",
        "  -1 * comorb_test.valvular_disease + \\\n",
        "   6 * comorb_test.weight_loss\n",
        "  \n",
        "comorb_test[\"score\"] = comorb_test.iloc[:,6:(6+30)].sum(axis=1)"
      ],
      "execution_count": null,
      "outputs": []
    },
    {
      "cell_type": "code",
      "metadata": {
        "id": "E7KtDJRaI_So"
      },
      "source": [
        "### Compute score deciles\n",
        "comorb_test['vw_decile'] = pd.qcut(comorb_test['vw_score'], 10, labels=False, duplicates='drop')\n",
        "comorb_test['score_decile'] = pd.qcut(comorb_test['score'], 10, labels=False, duplicates='drop')\n",
        "\n",
        "comorb_test['vw_decile'] = comorb_test['vw_decile'] + 10 - max(comorb_test['vw_decile'])\n",
        "comorb_test['score_decile'] = comorb_test['score_decile'] + 10 - max(comorb_test['score_decile'])"
      ],
      "execution_count": null,
      "outputs": []
    },
    {
      "cell_type": "code",
      "metadata": {
        "colab": {
          "base_uri": "https://localhost:8080/"
        },
        "id": "OAk4j5eRLrt-",
        "outputId": "3777699e-f9cb-435f-c93f-3d2b389849ff"
      },
      "source": [
        "### Final model performance on bottom decile\n",
        "coval = min(comorb_test.vw_decile)\n",
        "notes_lowco = notes_test[comorb_test.vw_decile==coval]\n",
        "X_lowco = unigram_bow.transform(notes_lowco)\n",
        "y_lowco = y_test[comorb_test.vw_decile==coval]\n",
        "\n",
        "y_this = y_lowco\n",
        "X_this = X_lowco\n",
        "\n",
        "print('Test Set Results')\n",
        "\n",
        "print('Accuracy', metrics.accuracy_score(y_this, logit.predict(X_this)))\n",
        "print('AUC', roc_auc_score(y_this, logit.predict_proba(X_this)[:, 1]))\n",
        "\n",
        "print('Test Set Details')\n",
        "print(classification_report(y_this, logit.predict(X_this), target_names=[\"White\", \"Black\"]))\n",
        "print(metrics.confusion_matrix(y_this, logit.predict(X_this)))"
      ],
      "execution_count": null,
      "outputs": [
        {
          "output_type": "stream",
          "text": [
            "Test Set Results\n",
            "Accuracy 0.6913089560148383\n",
            "AUC 0.788944741604435\n",
            "Test Set Details\n",
            "              precision    recall  f1-score   support\n",
            "\n",
            "       White       0.96      0.68      0.80      3358\n",
            "       Black       0.23      0.76      0.35       416\n",
            "\n",
            "    accuracy                           0.69      3774\n",
            "   macro avg       0.59      0.72      0.57      3774\n",
            "weighted avg       0.88      0.69      0.75      3774\n",
            "\n",
            "[[2292 1066]\n",
            " [  99  317]]\n"
          ],
          "name": "stdout"
        }
      ]
    },
    {
      "cell_type": "code",
      "metadata": {
        "colab": {
          "base_uri": "https://localhost:8080/"
        },
        "id": "m5Gxo7AVM_q4",
        "outputId": "5c4640cb-8a78-4e72-b4b1-733ee120aec2"
      },
      "source": [
        "### Final model performance on top decile\n",
        "coval = max(comorb_test.vw_decile)\n",
        "notes_hico = notes_test[comorb_test.vw_decile==coval]\n",
        "X_hico = unigram_bow.transform(notes_hico)\n",
        "y_hico = y_test[comorb_test.vw_decile==coval]\n",
        "\n",
        "y_this = y_hico\n",
        "X_this = X_hico\n",
        "\n",
        "print('Test Set Results')\n",
        "\n",
        "print('Accuracy', metrics.accuracy_score(y_this, logit.predict(X_this)))\n",
        "print('AUC', roc_auc_score(y_this, logit.predict_proba(X_this)[:, 1]))\n",
        "\n",
        "print('Test Set Details')\n",
        "print(classification_report(y_this, logit.predict(X_this), target_names=[\"White\", \"Black\"]))\n",
        "print(metrics.confusion_matrix(y_this, logit.predict(X_this)))"
      ],
      "execution_count": null,
      "outputs": [
        {
          "output_type": "stream",
          "text": [
            "Test Set Results\n",
            "Accuracy 0.76171875\n",
            "AUC 0.7882058856948073\n",
            "Test Set Details\n",
            "              precision    recall  f1-score   support\n",
            "\n",
            "       White       0.95      0.77      0.85       677\n",
            "       Black       0.29      0.70      0.41        91\n",
            "\n",
            "    accuracy                           0.76       768\n",
            "   macro avg       0.62      0.74      0.63       768\n",
            "weighted avg       0.87      0.76      0.80       768\n",
            "\n",
            "[[521 156]\n",
            " [ 27  64]]\n"
          ],
          "name": "stdout"
        }
      ]
    },
    {
      "cell_type": "markdown",
      "metadata": {
        "id": "O1_8rsS7P4UK"
      },
      "source": [
        "### Unit Type"
      ]
    },
    {
      "cell_type": "code",
      "metadata": {
        "id": "onCNTervP6wv"
      },
      "source": [
        "### Get info from MIMIC on unit type\n",
        "%%bigquery --project adept-box-313502 icu\n",
        "SELECT *\n",
        "FROM `physionet-data.mimiciii_clinical.icustays`"
      ],
      "execution_count": null,
      "outputs": []
    },
    {
      "cell_type": "code",
      "metadata": {
        "id": "AYwiwAUsSZxE"
      },
      "source": [
        "### Data processing\n",
        "icu.columns = icu.columns.str.lower()\n",
        "units = list(set().union(icu.first_careunit.unique(),icu.last_careunit.unique()))\n",
        "for unit in units:\n",
        "  icu[unit] = ((icu.first_careunit == unit) | (icu.last_careunit == unit))*1+0\n",
        "icu = icu.groupby(['hadm_id'], as_index=False).agg({'MICU':max, 'TSICU':max, 'SICU':max, 'CCU':max, 'NICU':max, 'CSRU':max})\n",
        "\n",
        "unit_test = data_patient_test.merge(icu, 'left')"
      ],
      "execution_count": null,
      "outputs": []
    },
    {
      "cell_type": "code",
      "metadata": {
        "colab": {
          "base_uri": "https://localhost:8080/"
        },
        "id": "UP1-EyW4VAFK",
        "outputId": "b1a276ff-d097-40fd-f82d-8f0360aba8b9"
      },
      "source": [
        "### Final model performance on patients in MICU\n",
        "\n",
        "notes_micu = notes_test[unit_test.MICU==1]\n",
        "X_micu = unigram_bow.transform(notes_micu)\n",
        "y_micu = y_test[unit_test.MICU==1]\n",
        "\n",
        "y_this = y_micu\n",
        "X_this = X_micu\n",
        "\n",
        "print('Test Set Results')\n",
        "\n",
        "print('Accuracy', metrics.accuracy_score(y_this, logit.predict(X_this)))\n",
        "print('AUC', roc_auc_score(y_this, logit.predict_proba(X_this)[:, 1]))\n",
        "\n",
        "print('Test Set Details')\n",
        "print(classification_report(y_this, logit.predict(X_this), target_names=[\"White\", \"Black\"]))\n",
        "print(metrics.confusion_matrix(y_this, logit.predict(X_this)))"
      ],
      "execution_count": null,
      "outputs": [
        {
          "output_type": "stream",
          "text": [
            "Test Set Results\n",
            "Accuracy 0.6914197768372451\n",
            "AUC 0.7810571699804862\n",
            "Test Set Details\n",
            "              precision    recall  f1-score   support\n",
            "\n",
            "       White       0.95      0.68      0.79      2264\n",
            "       Black       0.26      0.74      0.38       335\n",
            "\n",
            "    accuracy                           0.69      2599\n",
            "   macro avg       0.60      0.71      0.59      2599\n",
            "weighted avg       0.86      0.69      0.74      2599\n",
            "\n",
            "[[1548  716]\n",
            " [  86  249]]\n"
          ],
          "name": "stdout"
        }
      ]
    },
    {
      "cell_type": "code",
      "metadata": {
        "colab": {
          "base_uri": "https://localhost:8080/"
        },
        "id": "WXWQ7aI9Ves-",
        "outputId": "8a49b0c2-ff8b-4448-bca2-8a7cd27bfc6c"
      },
      "source": [
        "### Final model performance on patients in CCU\n",
        "\n",
        "notes_ccu = notes_test[unit_test.CCU==1]\n",
        "X_ccu = unigram_bow.transform(notes_ccu)\n",
        "y_ccu = y_test[unit_test.CCU==1]\n",
        "\n",
        "y_this = y_ccu\n",
        "X_this = X_ccu\n",
        "\n",
        "print('Test Set Results')\n",
        "\n",
        "print('Accuracy', metrics.accuracy_score(y_this, logit.predict(X_this)))\n",
        "print('AUC', roc_auc_score(y_this, logit.predict_proba(X_this)[:, 1]))\n",
        "\n",
        "print('Test Set Details')\n",
        "print(classification_report(y_this, logit.predict(X_this), target_names=[\"White\", \"Black\"]))\n",
        "print(metrics.confusion_matrix(y_this, logit.predict(X_this)))"
      ],
      "execution_count": null,
      "outputs": [
        {
          "output_type": "stream",
          "text": [
            "Test Set Results\n",
            "Accuracy 0.827115559599636\n",
            "AUC 0.7741151545363909\n",
            "Test Set Details\n",
            "              precision    recall  f1-score   support\n",
            "\n",
            "       White       0.96      0.85      0.90      1003\n",
            "       Black       0.27      0.58      0.37        96\n",
            "\n",
            "    accuracy                           0.83      1099\n",
            "   macro avg       0.61      0.72      0.64      1099\n",
            "weighted avg       0.90      0.83      0.85      1099\n",
            "\n",
            "[[853 150]\n",
            " [ 40  56]]\n"
          ],
          "name": "stdout"
        }
      ]
    },
    {
      "cell_type": "code",
      "metadata": {
        "colab": {
          "base_uri": "https://localhost:8080/"
        },
        "id": "yYogNYIJXs9O",
        "outputId": "9847a411-13ee-4529-e070-8d9f0b7b86c7"
      },
      "source": [
        "### Final model performance on patients in NICU\n",
        "\n",
        "notes_nicu = notes_test[unit_test.NICU==1]\n",
        "X_nicu = unigram_bow.transform(notes_nicu)\n",
        "y_nicu = y_test[unit_test.NICU==1]\n",
        "\n",
        "y_this = y_nicu\n",
        "X_this = X_nicu\n",
        "\n",
        "print('Test Set Results')\n",
        "\n",
        "print('Accuracy', metrics.accuracy_score(y_this, logit.predict(X_this)))\n",
        "print('AUC', roc_auc_score(y_this, logit.predict_proba(X_this)[:, 1]))\n",
        "\n",
        "print('Test Set Details')\n",
        "print(classification_report(y_this, logit.predict(X_this), target_names=[\"White\", \"Black\"]))\n",
        "print(metrics.confusion_matrix(y_this, logit.predict(X_this)))"
      ],
      "execution_count": null,
      "outputs": [
        {
          "output_type": "stream",
          "text": [
            "Test Set Results\n",
            "Accuracy 0.5466903073286052\n",
            "AUC 0.7724841856031994\n",
            "Test Set Details\n",
            "              precision    recall  f1-score   support\n",
            "\n",
            "       White       0.95      0.49      0.65      1439\n",
            "       Black       0.23      0.85      0.36       253\n",
            "\n",
            "    accuracy                           0.55      1692\n",
            "   macro avg       0.59      0.67      0.50      1692\n",
            "weighted avg       0.84      0.55      0.61      1692\n",
            "\n",
            "[[710 729]\n",
            " [ 38 215]]\n"
          ],
          "name": "stdout"
        }
      ]
    },
    {
      "cell_type": "code",
      "metadata": {
        "colab": {
          "base_uri": "https://localhost:8080/"
        },
        "id": "5IbYb_3IjArc",
        "outputId": "8a7eec19-474f-43c5-817b-e2ebad13f17f"
      },
      "source": [
        "### Compare rates of certain words in NICU patients\n",
        "print('Mongolian')\n",
        "print(sum((notes_nicu.str.lower().str.find('mongolian')!=-1) & (y_nicu ==1)) / sum(y_nicu))\n",
        "print(sum((notes_nicu.str.lower().str.find('mongolian')!=-1) & (y_nicu ==0)) / (len(y_nicu) - sum(y_nicu)))\n",
        "\n",
        "print('Asthma')\n",
        "print(sum((notes_nicu.str.lower().str.find('asthma')!=-1) & (y_nicu ==1)) / sum(y_nicu))\n",
        "print(sum((notes_nicu.str.lower().str.find('asthma')!=-1) & (y_nicu ==0)) / (len(y_nicu) - sum(y_nicu)))\n",
        "\n",
        "print('HIV')\n",
        "print(sum((notes_nicu.str.lower().str.find('hiv')!=-1) & (y_nicu ==1)) / sum(y_nicu))\n",
        "print(sum((notes_nicu.str.lower().str.find('hiv')!=-1) & (y_nicu ==0)) / (len(y_nicu) - sum(y_nicu)))\n",
        "\n",
        "print('members')\n",
        "print(sum((notes_nicu.str.lower().str.find('members')!=-1) & (y_nicu ==1)) / sum(y_nicu))\n",
        "print(sum((notes_nicu.str.lower().str.find('members')!=-1) & (y_nicu ==0)) / (len(y_nicu) - sum(y_nicu)))\n",
        "\n",
        "print('difficult')\n",
        "print(sum((notes_nicu.str.lower().str.find('difficult')!=-1) & (y_nicu ==1)) / sum(y_nicu))\n",
        "print(sum((notes_nicu.str.lower().str.find('difficult')!=-1) & (y_nicu ==0)) / (len(y_nicu) - sum(y_nicu)))"
      ],
      "execution_count": null,
      "outputs": [
        {
          "output_type": "stream",
          "text": [
            "Mongolian\n",
            "0.2727272727272727\n",
            "0.006254343293954135\n",
            "Asthma\n",
            "0.09090909090909091\n",
            "0.03683113273106324\n",
            "HIV\n",
            "0.04743083003952569\n",
            "0.019457956914523976\n",
            "members\n",
            "0.1383399209486166\n",
            "0.08756080611535788\n",
            "difficult\n",
            "0.308300395256917\n",
            "0.28908964558721334\n"
          ],
          "name": "stdout"
        }
      ]
    },
    {
      "cell_type": "code",
      "metadata": {
        "colab": {
          "base_uri": "https://localhost:8080/"
        },
        "id": "VTksRcl6k26q",
        "outputId": "bb48e587-f5d0-41f8-d193-742522592533"
      },
      "source": [
        "### Compare rates of certain words in MICU patients\n",
        "print('Mongolian')\n",
        "print(sum((notes_micu.str.lower().str.find('mongolian')!=-1) & (y_micu ==1)) / sum(y_micu))\n",
        "print(sum((notes_micu.str.lower().str.find('mongolian')!=-1) & (y_micu ==0)) / (len(y_micu) - sum(y_micu)))\n",
        "\n",
        "print('Asthma')\n",
        "print(sum((notes_micu.str.lower().str.find('asthma')!=-1) & (y_micu ==1)) / sum(y_micu))\n",
        "print(sum((notes_micu.str.lower().str.find('asthma')!=-1) & (y_micu ==0)) / (len(y_micu) - sum(y_micu)))\n",
        "\n",
        "print('HIV')\n",
        "print(sum((notes_micu.str.lower().str.find('hiv')!=-1) & (y_micu ==1)) / sum(y_micu))\n",
        "print(sum((notes_micu.str.lower().str.find('hiv')!=-1) & (y_micu ==0)) / (len(y_micu) - sum(y_micu)))\n",
        "\n",
        "print('members')\n",
        "print(sum((notes_micu.str.lower().str.find('members')!=-1) & (y_micu ==1)) / sum(y_micu))\n",
        "print(sum((notes_micu.str.lower().str.find('members')!=-1) & (y_micu ==0)) / (len(y_micu) - sum(y_micu)))\n",
        "\n",
        "print('difficult')\n",
        "print(sum((notes_micu.str.lower().str.find('difficult')!=-1) & (y_micu ==1)) / sum(y_micu))\n",
        "print(sum((notes_micu.str.lower().str.find('difficult')!=-1) & (y_micu ==0)) / (len(y_micu) - sum(y_micu)))"
      ],
      "execution_count": null,
      "outputs": [
        {
          "output_type": "stream",
          "text": [
            "Mongolian\n",
            "0.0\n",
            "0.0\n",
            "Asthma\n",
            "0.11044776119402985\n",
            "0.05653710247349823\n",
            "HIV\n",
            "0.08955223880597014\n",
            "0.054770318021201414\n",
            "members\n",
            "0.21492537313432836\n",
            "0.18860424028268552\n",
            "difficult\n",
            "0.5940298507462687\n",
            "0.5521201413427562\n"
          ],
          "name": "stdout"
        }
      ]
    },
    {
      "cell_type": "code",
      "metadata": {
        "colab": {
          "base_uri": "https://localhost:8080/"
        },
        "id": "2UdlDNcYYQzs",
        "outputId": "5953ac59-2a39-4b02-82db-6211a8dffe60"
      },
      "source": [
        "### Final model performance on patients in SICU\n",
        "\n",
        "notes_sicu = notes_test[unit_test.SICU==1]\n",
        "X_sicu = unigram_bow.transform(notes_sicu)\n",
        "y_sicu = y_test[unit_test.SICU==1]\n",
        "\n",
        "y_this = y_sicu\n",
        "X_this = X_sicu\n",
        "\n",
        "print('Test Set Results')\n",
        "\n",
        "print('Accuracy', metrics.accuracy_score(y_this, logit.predict(X_this)))\n",
        "print('AUC', roc_auc_score(y_this, logit.predict_proba(X_this)[:, 1]))\n",
        "\n",
        "print('Test Set Details')\n",
        "print(classification_report(y_this, logit.predict(X_this), target_names=[\"White\", \"Black\"]))\n",
        "print(metrics.confusion_matrix(y_this, logit.predict(X_this)))"
      ],
      "execution_count": null,
      "outputs": [
        {
          "output_type": "stream",
          "text": [
            "Test Set Results\n",
            "Accuracy 0.7998430141287284\n",
            "AUC 0.8018581382883687\n",
            "Test Set Details\n",
            "              precision    recall  f1-score   support\n",
            "\n",
            "       White       0.96      0.81      0.88      1158\n",
            "       Black       0.27      0.70      0.39       116\n",
            "\n",
            "    accuracy                           0.80      1274\n",
            "   macro avg       0.62      0.75      0.63      1274\n",
            "weighted avg       0.90      0.80      0.84      1274\n",
            "\n",
            "[[938 220]\n",
            " [ 35  81]]\n"
          ],
          "name": "stdout"
        }
      ]
    },
    {
      "cell_type": "code",
      "metadata": {
        "colab": {
          "base_uri": "https://localhost:8080/"
        },
        "id": "xHtw94RQ6aWL",
        "outputId": "a3d0f0db-6132-4ac2-a466-61329f51ed06"
      },
      "source": [
        "### Final model performance on patients in TSICU\n",
        "\n",
        "notes_tsicu = notes_test[unit_test.TSICU==1]\n",
        "X_tsicu = unigram_bow.transform(notes_tsicu)\n",
        "y_tsicu = y_test[unit_test.TSICU==1]\n",
        "\n",
        "y_this = y_tsicu\n",
        "X_this = X_tsicu\n",
        "\n",
        "print('Test Set Results')\n",
        "\n",
        "print('Accuracy', metrics.accuracy_score(y_this, logit.predict(X_this)))\n",
        "print('AUC', roc_auc_score(y_this, logit.predict_proba(X_this)[:, 1]))\n",
        "\n",
        "print('Test Set Details')\n",
        "print(classification_report(y_this, logit.predict(X_this), target_names=[\"White\", \"Black\"]))\n",
        "print(metrics.confusion_matrix(y_this, logit.predict(X_this)))"
      ],
      "execution_count": null,
      "outputs": [
        {
          "output_type": "stream",
          "text": [
            "Test Set Results\n",
            "Accuracy 0.8605341246290801\n",
            "AUC 0.7901474353315088\n",
            "Test Set Details\n",
            "              precision    recall  f1-score   support\n",
            "\n",
            "       White       0.98      0.87      0.92       964\n",
            "       Black       0.18      0.57      0.28        47\n",
            "\n",
            "    accuracy                           0.86      1011\n",
            "   macro avg       0.58      0.72      0.60      1011\n",
            "weighted avg       0.94      0.86      0.89      1011\n",
            "\n",
            "[[843 121]\n",
            " [ 20  27]]\n"
          ],
          "name": "stdout"
        }
      ]
    },
    {
      "cell_type": "markdown",
      "metadata": {
        "id": "pWo1ebzmZz1b"
      },
      "source": [
        "### Investigate Patterns"
      ]
    },
    {
      "cell_type": "code",
      "metadata": {
        "id": "y5sxlvoJZ3G_"
      },
      "source": [
        "### Feature generation for bag-of-words\n",
        "bigram_bow = CountVectorizer(ngram_range=(2,2))\n",
        "X_train_bi = bigram_bow.fit_transform(notes_train)\n",
        "\n",
        "trigram_bow = CountVectorizer(ngram_range=(3,3))\n",
        "X_train_tri = trigram_bow.fit_transform(notes_train)"
      ],
      "execution_count": null,
      "outputs": []
    },
    {
      "cell_type": "code",
      "metadata": {
        "id": "438ChuM8lXVs"
      },
      "source": [
        "unigram_bow = CountVectorizer(ngram_range=(1,1))\n",
        "X_train_uni = unigram_bow.fit_transform(notes_train)\n",
        "X_test_uni = unigram_bow.transform(notes_test)"
      ],
      "execution_count": null,
      "outputs": []
    },
    {
      "cell_type": "code",
      "metadata": {
        "id": "HWrIpO82abKa"
      },
      "source": [
        "vocab_uni = unigram_bow.get_feature_names()\n",
        "vocab_uni = pd.Series(vocab_uni)\n",
        "\n",
        "vocab_bi = bigram_bow.get_feature_names()\n",
        "vocab_bi = pd.Series(vocab_bi)\n",
        "\n",
        "vocab_tri = trigram_bow.get_feature_names()\n",
        "vocab_tri = pd.Series(vocab_tri)"
      ],
      "execution_count": null,
      "outputs": []
    },
    {
      "cell_type": "code",
      "metadata": {
        "colab": {
          "base_uri": "https://localhost:8080/",
          "height": 408
        },
        "id": "FVu9-vbmyy--",
        "outputId": "a26351c6-77d1-4543-e132-48eee3eba8b5"
      },
      "source": [
        "patients"
      ],
      "execution_count": null,
      "outputs": [
        {
          "output_type": "execute_result",
          "data": {
            "text/html": [
              "<div>\n",
              "<style scoped>\n",
              "    .dataframe tbody tr th:only-of-type {\n",
              "        vertical-align: middle;\n",
              "    }\n",
              "\n",
              "    .dataframe tbody tr th {\n",
              "        vertical-align: top;\n",
              "    }\n",
              "\n",
              "    .dataframe thead th {\n",
              "        text-align: right;\n",
              "    }\n",
              "</style>\n",
              "<table border=\"1\" class=\"dataframe\">\n",
              "  <thead>\n",
              "    <tr style=\"text-align: right;\">\n",
              "      <th></th>\n",
              "      <th>row_id</th>\n",
              "      <th>subject_id</th>\n",
              "      <th>gender</th>\n",
              "      <th>dob</th>\n",
              "      <th>dod</th>\n",
              "      <th>dod_hosp</th>\n",
              "      <th>dod_ssn</th>\n",
              "      <th>expire_flag</th>\n",
              "    </tr>\n",
              "  </thead>\n",
              "  <tbody>\n",
              "    <tr>\n",
              "      <th>0</th>\n",
              "      <td>234</td>\n",
              "      <td>249</td>\n",
              "      <td>F</td>\n",
              "      <td>2075-03-13</td>\n",
              "      <td>NaT</td>\n",
              "      <td>NaT</td>\n",
              "      <td>NaT</td>\n",
              "      <td>0</td>\n",
              "    </tr>\n",
              "    <tr>\n",
              "      <th>1</th>\n",
              "      <td>238</td>\n",
              "      <td>253</td>\n",
              "      <td>F</td>\n",
              "      <td>2089-11-26</td>\n",
              "      <td>NaT</td>\n",
              "      <td>NaT</td>\n",
              "      <td>NaT</td>\n",
              "      <td>0</td>\n",
              "    </tr>\n",
              "    <tr>\n",
              "      <th>2</th>\n",
              "      <td>242</td>\n",
              "      <td>258</td>\n",
              "      <td>F</td>\n",
              "      <td>2124-09-19</td>\n",
              "      <td>NaT</td>\n",
              "      <td>NaT</td>\n",
              "      <td>NaT</td>\n",
              "      <td>0</td>\n",
              "    </tr>\n",
              "    <tr>\n",
              "      <th>3</th>\n",
              "      <td>243</td>\n",
              "      <td>260</td>\n",
              "      <td>F</td>\n",
              "      <td>2105-03-23</td>\n",
              "      <td>NaT</td>\n",
              "      <td>NaT</td>\n",
              "      <td>NaT</td>\n",
              "      <td>0</td>\n",
              "    </tr>\n",
              "    <tr>\n",
              "      <th>4</th>\n",
              "      <td>247</td>\n",
              "      <td>264</td>\n",
              "      <td>F</td>\n",
              "      <td>2162-11-30</td>\n",
              "      <td>NaT</td>\n",
              "      <td>NaT</td>\n",
              "      <td>NaT</td>\n",
              "      <td>0</td>\n",
              "    </tr>\n",
              "    <tr>\n",
              "      <th>...</th>\n",
              "      <td>...</td>\n",
              "      <td>...</td>\n",
              "      <td>...</td>\n",
              "      <td>...</td>\n",
              "      <td>...</td>\n",
              "      <td>...</td>\n",
              "      <td>...</td>\n",
              "      <td>...</td>\n",
              "    </tr>\n",
              "    <tr>\n",
              "      <th>46515</th>\n",
              "      <td>45041</td>\n",
              "      <td>94300</td>\n",
              "      <td>M</td>\n",
              "      <td>2098-05-17</td>\n",
              "      <td>2139-12-31</td>\n",
              "      <td>2139-12-31</td>\n",
              "      <td>2139-12-31</td>\n",
              "      <td>1</td>\n",
              "    </tr>\n",
              "    <tr>\n",
              "      <th>46516</th>\n",
              "      <td>11119</td>\n",
              "      <td>11753</td>\n",
              "      <td>M</td>\n",
              "      <td>2103-07-31</td>\n",
              "      <td>2143-12-31</td>\n",
              "      <td>2143-12-31</td>\n",
              "      <td>2143-12-31</td>\n",
              "      <td>1</td>\n",
              "    </tr>\n",
              "    <tr>\n",
              "      <th>46517</th>\n",
              "      <td>24990</td>\n",
              "      <td>26479</td>\n",
              "      <td>M</td>\n",
              "      <td>2067-02-02</td>\n",
              "      <td>2151-12-31</td>\n",
              "      <td>NaT</td>\n",
              "      <td>2151-12-31</td>\n",
              "      <td>1</td>\n",
              "    </tr>\n",
              "    <tr>\n",
              "      <th>46518</th>\n",
              "      <td>32234</td>\n",
              "      <td>45570</td>\n",
              "      <td>M</td>\n",
              "      <td>2094-12-17</td>\n",
              "      <td>2155-12-31</td>\n",
              "      <td>NaT</td>\n",
              "      <td>2155-12-31</td>\n",
              "      <td>1</td>\n",
              "    </tr>\n",
              "    <tr>\n",
              "      <th>46519</th>\n",
              "      <td>21178</td>\n",
              "      <td>22437</td>\n",
              "      <td>M</td>\n",
              "      <td>1879-11-25</td>\n",
              "      <td>2179-12-31</td>\n",
              "      <td>NaT</td>\n",
              "      <td>2179-12-31</td>\n",
              "      <td>1</td>\n",
              "    </tr>\n",
              "  </tbody>\n",
              "</table>\n",
              "<p>46520 rows × 8 columns</p>\n",
              "</div>"
            ],
            "text/plain": [
              "       row_id  subject_id gender  ...   dod_hosp    dod_ssn expire_flag\n",
              "0         234         249      F  ...        NaT        NaT           0\n",
              "1         238         253      F  ...        NaT        NaT           0\n",
              "2         242         258      F  ...        NaT        NaT           0\n",
              "3         243         260      F  ...        NaT        NaT           0\n",
              "4         247         264      F  ...        NaT        NaT           0\n",
              "...       ...         ...    ...  ...        ...        ...         ...\n",
              "46515   45041       94300      M  ... 2139-12-31 2139-12-31           1\n",
              "46516   11119       11753      M  ... 2143-12-31 2143-12-31           1\n",
              "46517   24990       26479      M  ...        NaT 2151-12-31           1\n",
              "46518   32234       45570      M  ...        NaT 2155-12-31           1\n",
              "46519   21178       22437      M  ...        NaT 2179-12-31           1\n",
              "\n",
              "[46520 rows x 8 columns]"
            ]
          },
          "metadata": {
            "tags": []
          },
          "execution_count": 84
        }
      ]
    },
    {
      "cell_type": "code",
      "metadata": {
        "colab": {
          "base_uri": "https://localhost:8080/",
          "height": 288
        },
        "id": "t_UUOirovoy8",
        "outputId": "3e70cdfa-56d3-4b38-c1a6-33f76d64e392"
      },
      "source": [
        "marital = data[['hadm_id', 'marital_status']].groupby('hadm_id').first()\n",
        "marital_train = data_patient_train.merge(marital,how='left', on='hadm_id').marital_status.values"
      ],
      "execution_count": null,
      "outputs": [
        {
          "output_type": "error",
          "ename": "AttributeError",
          "evalue": "ignored",
          "traceback": [
            "\u001b[0;31m---------------------------------------------------------------------------\u001b[0m",
            "\u001b[0;31mAttributeError\u001b[0m                            Traceback (most recent call last)",
            "\u001b[0;32m<ipython-input-80-16b5b77e3357>\u001b[0m in \u001b[0;36m<module>\u001b[0;34m()\u001b[0m\n\u001b[1;32m      1\u001b[0m \u001b[0mmarital\u001b[0m \u001b[0;34m=\u001b[0m \u001b[0mdata\u001b[0m\u001b[0;34m[\u001b[0m\u001b[0;34m[\u001b[0m\u001b[0;34m'hadm_id'\u001b[0m\u001b[0;34m,\u001b[0m \u001b[0;34m'marital_status'\u001b[0m\u001b[0;34m]\u001b[0m\u001b[0;34m]\u001b[0m\u001b[0;34m.\u001b[0m\u001b[0mgroupby\u001b[0m\u001b[0;34m(\u001b[0m\u001b[0;34m'hadm_id'\u001b[0m\u001b[0;34m)\u001b[0m\u001b[0;34m.\u001b[0m\u001b[0mfirst\u001b[0m\u001b[0;34m(\u001b[0m\u001b[0;34m)\u001b[0m\u001b[0;34m\u001b[0m\u001b[0;34m\u001b[0m\u001b[0m\n\u001b[0;32m----> 2\u001b[0;31m \u001b[0mmarital_train\u001b[0m \u001b[0;34m=\u001b[0m \u001b[0mdata_patient_train\u001b[0m\u001b[0;34m.\u001b[0m\u001b[0mmerge\u001b[0m\u001b[0;34m(\u001b[0m\u001b[0mmarital\u001b[0m\u001b[0;34m,\u001b[0m\u001b[0mhow\u001b[0m\u001b[0;34m=\u001b[0m\u001b[0;34m'left'\u001b[0m\u001b[0;34m,\u001b[0m \u001b[0mon\u001b[0m\u001b[0;34m=\u001b[0m\u001b[0;34m'hadm_id'\u001b[0m\u001b[0;34m)\u001b[0m\u001b[0;34m.\u001b[0m\u001b[0mmarital_status\u001b[0m\u001b[0;34m.\u001b[0m\u001b[0mvalues\u001b[0m\u001b[0;34m\u001b[0m\u001b[0;34m\u001b[0m\u001b[0m\n\u001b[0m",
            "\u001b[0;32m/usr/local/lib/python3.7/dist-packages/pandas/core/generic.py\u001b[0m in \u001b[0;36m__getattr__\u001b[0;34m(self, name)\u001b[0m\n\u001b[1;32m   5139\u001b[0m             \u001b[0;32mif\u001b[0m \u001b[0mself\u001b[0m\u001b[0;34m.\u001b[0m\u001b[0m_info_axis\u001b[0m\u001b[0;34m.\u001b[0m\u001b[0m_can_hold_identifiers_and_holds_name\u001b[0m\u001b[0;34m(\u001b[0m\u001b[0mname\u001b[0m\u001b[0;34m)\u001b[0m\u001b[0;34m:\u001b[0m\u001b[0;34m\u001b[0m\u001b[0;34m\u001b[0m\u001b[0m\n\u001b[1;32m   5140\u001b[0m                 \u001b[0;32mreturn\u001b[0m \u001b[0mself\u001b[0m\u001b[0;34m[\u001b[0m\u001b[0mname\u001b[0m\u001b[0;34m]\u001b[0m\u001b[0;34m\u001b[0m\u001b[0;34m\u001b[0m\u001b[0m\n\u001b[0;32m-> 5141\u001b[0;31m             \u001b[0;32mreturn\u001b[0m \u001b[0mobject\u001b[0m\u001b[0;34m.\u001b[0m\u001b[0m__getattribute__\u001b[0m\u001b[0;34m(\u001b[0m\u001b[0mself\u001b[0m\u001b[0;34m,\u001b[0m \u001b[0mname\u001b[0m\u001b[0;34m)\u001b[0m\u001b[0;34m\u001b[0m\u001b[0;34m\u001b[0m\u001b[0m\n\u001b[0m\u001b[1;32m   5142\u001b[0m \u001b[0;34m\u001b[0m\u001b[0m\n\u001b[1;32m   5143\u001b[0m     \u001b[0;32mdef\u001b[0m \u001b[0m__setattr__\u001b[0m\u001b[0;34m(\u001b[0m\u001b[0mself\u001b[0m\u001b[0;34m,\u001b[0m \u001b[0mname\u001b[0m\u001b[0;34m:\u001b[0m \u001b[0mstr\u001b[0m\u001b[0;34m,\u001b[0m \u001b[0mvalue\u001b[0m\u001b[0;34m)\u001b[0m \u001b[0;34m->\u001b[0m \u001b[0;32mNone\u001b[0m\u001b[0;34m:\u001b[0m\u001b[0;34m\u001b[0m\u001b[0;34m\u001b[0m\u001b[0m\n",
            "\u001b[0;31mAttributeError\u001b[0m: 'DataFrame' object has no attribute 'marital_status'"
          ]
        }
      ]
    },
    {
      "cell_type": "code",
      "metadata": {
        "colab": {
          "base_uri": "https://localhost:8080/"
        },
        "id": "CBJZwViMytHT",
        "outputId": "b1dc2093-23cf-4089-d84b-1833190bd3ae"
      },
      "source": [
        "gender = patients[['subject_id', 'gender']].groupby('subject_id').first()\n",
        "len(gender)"
      ],
      "execution_count": null,
      "outputs": [
        {
          "output_type": "execute_result",
          "data": {
            "text/plain": [
              "46520"
            ]
          },
          "metadata": {
            "tags": []
          },
          "execution_count": 85
        }
      ]
    },
    {
      "cell_type": "code",
      "metadata": {
        "id": "deQhO-5KzzcV"
      },
      "source": [
        "gender_train = data_patient_train.merge(gender, on='subject_id', how='inner').gender.values"
      ],
      "execution_count": null,
      "outputs": []
    },
    {
      "cell_type": "code",
      "metadata": {
        "id": "IwNQ7AOEwL2T"
      },
      "source": [
        "data_patient_train[\"marital_status\"] = marital_train\n",
        "data_patient_train[\"gender\"] = gender_train"
      ],
      "execution_count": null,
      "outputs": []
    },
    {
      "cell_type": "code",
      "metadata": {
        "colab": {
          "base_uri": "https://localhost:8080/",
          "height": 408
        },
        "id": "0WncVZTc0XrQ",
        "outputId": "ecdb4791-e7f5-4bfc-ec4a-c245bb03cb7d"
      },
      "source": [
        "data_patient_train"
      ],
      "execution_count": null,
      "outputs": [
        {
          "output_type": "execute_result",
          "data": {
            "text/html": [
              "<div>\n",
              "<style scoped>\n",
              "    .dataframe tbody tr th:only-of-type {\n",
              "        vertical-align: middle;\n",
              "    }\n",
              "\n",
              "    .dataframe tbody tr th {\n",
              "        vertical-align: top;\n",
              "    }\n",
              "\n",
              "    .dataframe thead th {\n",
              "        text-align: right;\n",
              "    }\n",
              "</style>\n",
              "<table border=\"1\" class=\"dataframe\">\n",
              "  <thead>\n",
              "    <tr style=\"text-align: right;\">\n",
              "      <th></th>\n",
              "      <th>subject_id</th>\n",
              "      <th>hadm_id</th>\n",
              "      <th>admittime</th>\n",
              "      <th>text</th>\n",
              "      <th>y</th>\n",
              "      <th>visit_no</th>\n",
              "      <th>marital_status</th>\n",
              "      <th>gender</th>\n",
              "    </tr>\n",
              "  </thead>\n",
              "  <tbody>\n",
              "    <tr>\n",
              "      <th>0</th>\n",
              "      <td>14507</td>\n",
              "      <td>101701</td>\n",
              "      <td>2141-10-16 04:46:00</td>\n",
              "      <td>NARRATIVE NOTE:\\n\\nCV: B/P HAS RANGED FROM 100...</td>\n",
              "      <td>1</td>\n",
              "      <td>1</td>\n",
              "      <td>MARRIED</td>\n",
              "      <td>M</td>\n",
              "    </tr>\n",
              "    <tr>\n",
              "      <th>1</th>\n",
              "      <td>18249</td>\n",
              "      <td>113162</td>\n",
              "      <td>2185-04-08 09:10:00</td>\n",
              "      <td>1900-0700 NPN\\n\\n\\n#2F/E/N\\nO:TF AT 140CC/KG. ...</td>\n",
              "      <td>0</td>\n",
              "      <td>1</td>\n",
              "      <td>None</td>\n",
              "      <td>F</td>\n",
              "    </tr>\n",
              "    <tr>\n",
              "      <th>2</th>\n",
              "      <td>11176</td>\n",
              "      <td>141992</td>\n",
              "      <td>2102-03-22 22:19:00</td>\n",
              "      <td>pmicu npn 7p-7a\\n\\n\\n   36yo woman presented t...</td>\n",
              "      <td>0</td>\n",
              "      <td>1</td>\n",
              "      <td>None</td>\n",
              "      <td>F</td>\n",
              "    </tr>\n",
              "    <tr>\n",
              "      <th>3</th>\n",
              "      <td>78086</td>\n",
              "      <td>166536</td>\n",
              "      <td>2100-10-09 21:24:00</td>\n",
              "      <td>Remains on HiFlow O2 at 95% via face tent.  Sa...</td>\n",
              "      <td>0</td>\n",
              "      <td>1</td>\n",
              "      <td>SINGLE</td>\n",
              "      <td>M</td>\n",
              "    </tr>\n",
              "    <tr>\n",
              "      <th>4</th>\n",
              "      <td>31271</td>\n",
              "      <td>172732</td>\n",
              "      <td>2111-07-22 10:45:00</td>\n",
              "      <td>T/SICU NSG Admission Note\\n(Continued)\\n in ef...</td>\n",
              "      <td>0</td>\n",
              "      <td>1</td>\n",
              "      <td>SINGLE</td>\n",
              "      <td>M</td>\n",
              "    </tr>\n",
              "    <tr>\n",
              "      <th>...</th>\n",
              "      <td>...</td>\n",
              "      <td>...</td>\n",
              "      <td>...</td>\n",
              "      <td>...</td>\n",
              "      <td>...</td>\n",
              "      <td>...</td>\n",
              "      <td>...</td>\n",
              "      <td>...</td>\n",
              "    </tr>\n",
              "    <tr>\n",
              "      <th>19658</th>\n",
              "      <td>18987</td>\n",
              "      <td>106797</td>\n",
              "      <td>2156-06-22 07:15:00</td>\n",
              "      <td>NURSING NOTE 7A-7P Review of Systems:\\nNEURO: ...</td>\n",
              "      <td>0</td>\n",
              "      <td>1</td>\n",
              "      <td>DIVORCED</td>\n",
              "      <td>F</td>\n",
              "    </tr>\n",
              "    <tr>\n",
              "      <th>19659</th>\n",
              "      <td>28251</td>\n",
              "      <td>151924</td>\n",
              "      <td>2170-07-30 23:59:00</td>\n",
              "      <td>SICU NURSING PROGRESS NOTE 0700-1900\\nPRIEST I...</td>\n",
              "      <td>0</td>\n",
              "      <td>1</td>\n",
              "      <td>MARRIED</td>\n",
              "      <td>M</td>\n",
              "    </tr>\n",
              "    <tr>\n",
              "      <th>19660</th>\n",
              "      <td>14214</td>\n",
              "      <td>129769</td>\n",
              "      <td>2124-04-06 04:09:00</td>\n",
              "      <td>Observed above procedure and reveiwed note, ag...</td>\n",
              "      <td>1</td>\n",
              "      <td>1</td>\n",
              "      <td>None</td>\n",
              "      <td>F</td>\n",
              "    </tr>\n",
              "    <tr>\n",
              "      <th>19661</th>\n",
              "      <td>15629</td>\n",
              "      <td>167015</td>\n",
              "      <td>2197-07-01 18:09:00</td>\n",
              "      <td>75 yr male, suffered cardiac arrest while play...</td>\n",
              "      <td>0</td>\n",
              "      <td>1</td>\n",
              "      <td>MARRIED</td>\n",
              "      <td>M</td>\n",
              "    </tr>\n",
              "    <tr>\n",
              "      <th>19662</th>\n",
              "      <td>3943</td>\n",
              "      <td>101448</td>\n",
              "      <td>2192-12-03 04:20:00</td>\n",
              "      <td>Attending Triage Note\\nBG [**Known lastname 50...</td>\n",
              "      <td>0</td>\n",
              "      <td>1</td>\n",
              "      <td>None</td>\n",
              "      <td>F</td>\n",
              "    </tr>\n",
              "  </tbody>\n",
              "</table>\n",
              "<p>19663 rows × 8 columns</p>\n",
              "</div>"
            ],
            "text/plain": [
              "       subject_id  hadm_id            admittime  ... visit_no  marital_status  gender\n",
              "0           14507   101701  2141-10-16 04:46:00  ...        1         MARRIED       M\n",
              "1           18249   113162  2185-04-08 09:10:00  ...        1            None       F\n",
              "2           11176   141992  2102-03-22 22:19:00  ...        1            None       F\n",
              "3           78086   166536  2100-10-09 21:24:00  ...        1          SINGLE       M\n",
              "4           31271   172732  2111-07-22 10:45:00  ...        1          SINGLE       M\n",
              "...           ...      ...                  ...  ...      ...             ...     ...\n",
              "19658       18987   106797  2156-06-22 07:15:00  ...        1        DIVORCED       F\n",
              "19659       28251   151924  2170-07-30 23:59:00  ...        1         MARRIED       M\n",
              "19660       14214   129769  2124-04-06 04:09:00  ...        1            None       F\n",
              "19661       15629   167015  2197-07-01 18:09:00  ...        1         MARRIED       M\n",
              "19662        3943   101448  2192-12-03 04:20:00  ...        1            None       F\n",
              "\n",
              "[19663 rows x 8 columns]"
            ]
          },
          "metadata": {
            "tags": []
          },
          "execution_count": 95
        }
      ]
    },
    {
      "cell_type": "code",
      "metadata": {
        "colab": {
          "base_uri": "https://localhost:8080/",
          "height": 200
        },
        "id": "xLQoa86jxAx4",
        "outputId": "c48ab8e0-677a-4620-a26f-4b698f0137c3"
      },
      "source": [
        "data_patient_train.groupby(['y','gender']).agg('count')"
      ],
      "execution_count": null,
      "outputs": [
        {
          "output_type": "execute_result",
          "data": {
            "text/html": [
              "<div>\n",
              "<style scoped>\n",
              "    .dataframe tbody tr th:only-of-type {\n",
              "        vertical-align: middle;\n",
              "    }\n",
              "\n",
              "    .dataframe tbody tr th {\n",
              "        vertical-align: top;\n",
              "    }\n",
              "\n",
              "    .dataframe thead th {\n",
              "        text-align: right;\n",
              "    }\n",
              "</style>\n",
              "<table border=\"1\" class=\"dataframe\">\n",
              "  <thead>\n",
              "    <tr style=\"text-align: right;\">\n",
              "      <th></th>\n",
              "      <th></th>\n",
              "      <th>subject_id</th>\n",
              "      <th>hadm_id</th>\n",
              "      <th>admittime</th>\n",
              "      <th>text</th>\n",
              "      <th>visit_no</th>\n",
              "      <th>marital_status</th>\n",
              "    </tr>\n",
              "    <tr>\n",
              "      <th>y</th>\n",
              "      <th>gender</th>\n",
              "      <th></th>\n",
              "      <th></th>\n",
              "      <th></th>\n",
              "      <th></th>\n",
              "      <th></th>\n",
              "      <th></th>\n",
              "    </tr>\n",
              "  </thead>\n",
              "  <tbody>\n",
              "    <tr>\n",
              "      <th rowspan=\"2\" valign=\"top\">0</th>\n",
              "      <th>F</th>\n",
              "      <td>7707</td>\n",
              "      <td>7707</td>\n",
              "      <td>7707</td>\n",
              "      <td>7707</td>\n",
              "      <td>7707</td>\n",
              "      <td>5991</td>\n",
              "    </tr>\n",
              "    <tr>\n",
              "      <th>M</th>\n",
              "      <td>9959</td>\n",
              "      <td>9959</td>\n",
              "      <td>9959</td>\n",
              "      <td>9959</td>\n",
              "      <td>9959</td>\n",
              "      <td>7942</td>\n",
              "    </tr>\n",
              "    <tr>\n",
              "      <th rowspan=\"2\" valign=\"top\">1</th>\n",
              "      <th>F</th>\n",
              "      <td>1077</td>\n",
              "      <td>1077</td>\n",
              "      <td>1077</td>\n",
              "      <td>1077</td>\n",
              "      <td>1077</td>\n",
              "      <td>801</td>\n",
              "    </tr>\n",
              "    <tr>\n",
              "      <th>M</th>\n",
              "      <td>920</td>\n",
              "      <td>920</td>\n",
              "      <td>920</td>\n",
              "      <td>920</td>\n",
              "      <td>920</td>\n",
              "      <td>631</td>\n",
              "    </tr>\n",
              "  </tbody>\n",
              "</table>\n",
              "</div>"
            ],
            "text/plain": [
              "          subject_id  hadm_id  admittime  text  visit_no  marital_status\n",
              "y gender                                                                \n",
              "0 F             7707     7707       7707  7707      7707            5991\n",
              "  M             9959     9959       9959  9959      9959            7942\n",
              "1 F             1077     1077       1077  1077      1077             801\n",
              "  M              920      920        920   920       920             631"
            ]
          },
          "metadata": {
            "tags": []
          },
          "execution_count": 96
        }
      ]
    },
    {
      "cell_type": "code",
      "metadata": {
        "colab": {
          "base_uri": "https://localhost:8080/"
        },
        "id": "c8_ecakplkRf",
        "outputId": "1f697609-5a5e-444d-da8d-79f5bcaf8153"
      },
      "source": [
        "word = 'grunting'\n",
        "word_indices = (vocab_uni.values==word).nonzero()[0]\n",
        "black_indices = ((y_train==1)).values.nonzero()[0]\n",
        "white_indices = ((y_train==0)).values.nonzero()[0]\n",
        "\n",
        "words = vocab_uni.values[word_indices]\n",
        "\n",
        "black_freq = (X_train_uni[black_indices,:])[:,word_indices].toarray().clip(0,1).sum(0) / len(black_indices)\n",
        "white_freq = (X_train_uni[white_indices,:])[:,word_indices].toarray().clip(0,1).sum(0)/ len(white_indices)\n",
        "\n",
        "print(black_freq)\n",
        "print(white_freq)"
      ],
      "execution_count": null,
      "outputs": [
        {
          "output_type": "stream",
          "text": [
            "[0.07761642]\n",
            "[0.06458734]\n"
          ],
          "name": "stdout"
        }
      ]
    },
    {
      "cell_type": "code",
      "metadata": {
        "colab": {
          "base_uri": "https://localhost:8080/"
        },
        "id": "C1YfuGirnIGq",
        "outputId": "d075c20f-7be0-4b53-ac5d-1d95752ed8aa"
      },
      "source": [
        "word = 'another dose'\n",
        "word_indices = (vocab_bi.values==word).nonzero()[0]\n",
        "black_indices = (y_train==1).values.nonzero()[0]\n",
        "white_indices = (y_train==0).values.nonzero()[0]\n",
        "\n",
        "words = vocab_bi.values[word_indices]\n",
        "\n",
        "black_freq = (X_train_bi[black_indices,:])[:,word_indices].toarray().clip(0,1).sum(0) / len(black_indices)\n",
        "white_freq = (X_train_bi[white_indices,:])[:,word_indices].toarray().clip(0,1).sum(0)/ len(white_indices)\n",
        "\n",
        "print(black_freq)\n",
        "print(white_freq)"
      ],
      "execution_count": null,
      "outputs": [
        {
          "output_type": "stream",
          "text": [
            "[0.01702554]\n",
            "[0.01205706]\n"
          ],
          "name": "stdout"
        }
      ]
    },
    {
      "cell_type": "code",
      "metadata": {
        "colab": {
          "base_uri": "https://localhost:8080/",
          "height": 653
        },
        "id": "fLOYV5QrhlbQ",
        "outputId": "f8529ad1-a938-4162-97a9-9f363f0e0fc4"
      },
      "source": [
        "word = ' dose'\n",
        "word_indices = vocab_bi.str.contains(word).values.nonzero()[0]\n",
        "race_indices = (y_train==1).values.nonzero()[0]\n",
        "words = vocab_bi.values[word_indices]\n",
        "freq = (X_train_bi[race_indices,:])[:,word_indices].toarray().clip(0,1).sum(0)\n",
        "top_indices = list(np.argsort(freq)[::-1])\n",
        "top_words = list(zip([words[i] for i in top_indices], [freq[i]/len(race_indices) for i in top_indices]))\n",
        "top_words = pd.DataFrame(top_words, columns =['Word', 'Frequency (% patients)'])\n",
        "top_words.head(20)"
      ],
      "execution_count": null,
      "outputs": [
        {
          "output_type": "execute_result",
          "data": {
            "text/html": [
              "<div>\n",
              "<style scoped>\n",
              "    .dataframe tbody tr th:only-of-type {\n",
              "        vertical-align: middle;\n",
              "    }\n",
              "\n",
              "    .dataframe tbody tr th {\n",
              "        vertical-align: top;\n",
              "    }\n",
              "\n",
              "    .dataframe thead th {\n",
              "        text-align: right;\n",
              "    }\n",
              "</style>\n",
              "<table border=\"1\" class=\"dataframe\">\n",
              "  <thead>\n",
              "    <tr style=\"text-align: right;\">\n",
              "      <th></th>\n",
              "      <th>Word</th>\n",
              "      <th>Frequency (% patients)</th>\n",
              "    </tr>\n",
              "  </thead>\n",
              "  <tbody>\n",
              "    <tr>\n",
              "      <th>0</th>\n",
              "      <td>low dose</td>\n",
              "      <td>0.059589</td>\n",
              "    </tr>\n",
              "    <tr>\n",
              "      <th>1</th>\n",
              "      <td>one dose</td>\n",
              "      <td>0.055583</td>\n",
              "    </tr>\n",
              "    <tr>\n",
              "      <th>2</th>\n",
              "      <td>last dose</td>\n",
              "      <td>0.049074</td>\n",
              "    </tr>\n",
              "    <tr>\n",
              "      <th>3</th>\n",
              "      <td>first dose</td>\n",
              "      <td>0.045068</td>\n",
              "    </tr>\n",
              "    <tr>\n",
              "      <th>4</th>\n",
              "      <td>lopressor dose</td>\n",
              "      <td>0.041062</td>\n",
              "    </tr>\n",
              "    <tr>\n",
              "      <th>5</th>\n",
              "      <td>second dose</td>\n",
              "      <td>0.038558</td>\n",
              "    </tr>\n",
              "    <tr>\n",
              "      <th>6</th>\n",
              "      <td>given dose</td>\n",
              "      <td>0.035553</td>\n",
              "    </tr>\n",
              "    <tr>\n",
              "      <th>7</th>\n",
              "      <td>lasix dose</td>\n",
              "      <td>0.031547</td>\n",
              "    </tr>\n",
              "    <tr>\n",
              "      <th>8</th>\n",
              "      <td>next dose</td>\n",
              "      <td>0.031047</td>\n",
              "    </tr>\n",
              "    <tr>\n",
              "      <th>9</th>\n",
              "      <td>standing dose</td>\n",
              "      <td>0.030045</td>\n",
              "    </tr>\n",
              "    <tr>\n",
              "      <th>10</th>\n",
              "      <td>increased dose</td>\n",
              "      <td>0.028042</td>\n",
              "    </tr>\n",
              "    <tr>\n",
              "      <th>11</th>\n",
              "      <td>time dose</td>\n",
              "      <td>0.026540</td>\n",
              "    </tr>\n",
              "    <tr>\n",
              "      <th>12</th>\n",
              "      <td>extra dose</td>\n",
              "      <td>0.025038</td>\n",
              "    </tr>\n",
              "    <tr>\n",
              "      <th>13</th>\n",
              "      <td>1st dose</td>\n",
              "      <td>0.024036</td>\n",
              "    </tr>\n",
              "    <tr>\n",
              "      <th>14</th>\n",
              "      <td>am dose</td>\n",
              "      <td>0.023535</td>\n",
              "    </tr>\n",
              "    <tr>\n",
              "      <th>15</th>\n",
              "      <td>additional dose</td>\n",
              "      <td>0.023035</td>\n",
              "    </tr>\n",
              "    <tr>\n",
              "      <th>16</th>\n",
              "      <td>3rd dose</td>\n",
              "      <td>0.023035</td>\n",
              "    </tr>\n",
              "    <tr>\n",
              "      <th>17</th>\n",
              "      <td>fixed dose</td>\n",
              "      <td>0.023035</td>\n",
              "    </tr>\n",
              "    <tr>\n",
              "      <th>18</th>\n",
              "      <td>2nd dose</td>\n",
              "      <td>0.022033</td>\n",
              "    </tr>\n",
              "    <tr>\n",
              "      <th>19</th>\n",
              "      <td>loading dose</td>\n",
              "      <td>0.021032</td>\n",
              "    </tr>\n",
              "  </tbody>\n",
              "</table>\n",
              "</div>"
            ],
            "text/plain": [
              "               Word  Frequency (% patients)\n",
              "0          low dose                0.059589\n",
              "1          one dose                0.055583\n",
              "2         last dose                0.049074\n",
              "3        first dose                0.045068\n",
              "4    lopressor dose                0.041062\n",
              "5       second dose                0.038558\n",
              "6        given dose                0.035553\n",
              "7        lasix dose                0.031547\n",
              "8         next dose                0.031047\n",
              "9     standing dose                0.030045\n",
              "10   increased dose                0.028042\n",
              "11        time dose                0.026540\n",
              "12       extra dose                0.025038\n",
              "13         1st dose                0.024036\n",
              "14          am dose                0.023535\n",
              "15  additional dose                0.023035\n",
              "16         3rd dose                0.023035\n",
              "17       fixed dose                0.023035\n",
              "18         2nd dose                0.022033\n",
              "19     loading dose                0.021032"
            ]
          },
          "metadata": {
            "tags": []
          },
          "execution_count": 29
        }
      ]
    },
    {
      "cell_type": "code",
      "metadata": {
        "colab": {
          "base_uri": "https://localhost:8080/",
          "height": 653
        },
        "id": "_6I0WIdfpmG4",
        "outputId": "c43caaf4-2302-43e1-d96a-de6c03c3353f"
      },
      "source": [
        "word = ' dose'\n",
        "word_indices = vocab_bi.str.contains(word).values.nonzero()[0]\n",
        "race_indices = (y_train==0).values.nonzero()[0]\n",
        "words = vocab_bi.values[word_indices]\n",
        "freq = (X_train_bi[race_indices,:])[:,word_indices].toarray().clip(0,1).sum(0)\n",
        "top_indices = list(np.argsort(freq)[::-1])\n",
        "top_words = list(zip([words[i] for i in top_indices], [freq[i]/len(race_indices) for i in top_indices]))\n",
        "top_words = pd.DataFrame(top_words, columns =['Word', 'Frequency (% patients)'])\n",
        "top_words.head(20)"
      ],
      "execution_count": null,
      "outputs": [
        {
          "output_type": "execute_result",
          "data": {
            "text/html": [
              "<div>\n",
              "<style scoped>\n",
              "    .dataframe tbody tr th:only-of-type {\n",
              "        vertical-align: middle;\n",
              "    }\n",
              "\n",
              "    .dataframe tbody tr th {\n",
              "        vertical-align: top;\n",
              "    }\n",
              "\n",
              "    .dataframe thead th {\n",
              "        text-align: right;\n",
              "    }\n",
              "</style>\n",
              "<table border=\"1\" class=\"dataframe\">\n",
              "  <thead>\n",
              "    <tr style=\"text-align: right;\">\n",
              "      <th></th>\n",
              "      <th>Word</th>\n",
              "      <th>Frequency (% patients)</th>\n",
              "    </tr>\n",
              "  </thead>\n",
              "  <tbody>\n",
              "    <tr>\n",
              "      <th>0</th>\n",
              "      <td>low dose</td>\n",
              "      <td>0.105344</td>\n",
              "    </tr>\n",
              "    <tr>\n",
              "      <th>1</th>\n",
              "      <td>lopressor dose</td>\n",
              "      <td>0.060568</td>\n",
              "    </tr>\n",
              "    <tr>\n",
              "      <th>2</th>\n",
              "      <td>last dose</td>\n",
              "      <td>0.053379</td>\n",
              "    </tr>\n",
              "    <tr>\n",
              "      <th>3</th>\n",
              "      <td>one dose</td>\n",
              "      <td>0.048172</td>\n",
              "    </tr>\n",
              "    <tr>\n",
              "      <th>4</th>\n",
              "      <td>lasix dose</td>\n",
              "      <td>0.044605</td>\n",
              "    </tr>\n",
              "    <tr>\n",
              "      <th>5</th>\n",
              "      <td>first dose</td>\n",
              "      <td>0.039398</td>\n",
              "    </tr>\n",
              "    <tr>\n",
              "      <th>6</th>\n",
              "      <td>standing dose</td>\n",
              "      <td>0.028246</td>\n",
              "    </tr>\n",
              "    <tr>\n",
              "      <th>7</th>\n",
              "      <td>increased dose</td>\n",
              "      <td>0.028133</td>\n",
              "    </tr>\n",
              "    <tr>\n",
              "      <th>8</th>\n",
              "      <td>next dose</td>\n",
              "      <td>0.027227</td>\n",
              "    </tr>\n",
              "    <tr>\n",
              "      <th>9</th>\n",
              "      <td>extra dose</td>\n",
              "      <td>0.027171</td>\n",
              "    </tr>\n",
              "    <tr>\n",
              "      <th>10</th>\n",
              "      <td>second dose</td>\n",
              "      <td>0.026831</td>\n",
              "    </tr>\n",
              "    <tr>\n",
              "      <th>11</th>\n",
              "      <td>given dose</td>\n",
              "      <td>0.026322</td>\n",
              "    </tr>\n",
              "    <tr>\n",
              "      <th>12</th>\n",
              "      <td>am dose</td>\n",
              "      <td>0.025642</td>\n",
              "    </tr>\n",
              "    <tr>\n",
              "      <th>13</th>\n",
              "      <td>loading dose</td>\n",
              "      <td>0.024680</td>\n",
              "    </tr>\n",
              "    <tr>\n",
              "      <th>14</th>\n",
              "      <td>vanco dose</td>\n",
              "      <td>0.023718</td>\n",
              "    </tr>\n",
              "    <tr>\n",
              "      <th>15</th>\n",
              "      <td>time dose</td>\n",
              "      <td>0.023435</td>\n",
              "    </tr>\n",
              "    <tr>\n",
              "      <th>16</th>\n",
              "      <td>po dose</td>\n",
              "      <td>0.023322</td>\n",
              "    </tr>\n",
              "    <tr>\n",
              "      <th>17</th>\n",
              "      <td>2nd dose</td>\n",
              "      <td>0.023208</td>\n",
              "    </tr>\n",
              "    <tr>\n",
              "      <th>18</th>\n",
              "      <td>and dose</td>\n",
              "      <td>0.020888</td>\n",
              "    </tr>\n",
              "    <tr>\n",
              "      <th>19</th>\n",
              "      <td>additional dose</td>\n",
              "      <td>0.020491</td>\n",
              "    </tr>\n",
              "  </tbody>\n",
              "</table>\n",
              "</div>"
            ],
            "text/plain": [
              "               Word  Frequency (% patients)\n",
              "0          low dose                0.105344\n",
              "1    lopressor dose                0.060568\n",
              "2         last dose                0.053379\n",
              "3          one dose                0.048172\n",
              "4        lasix dose                0.044605\n",
              "5        first dose                0.039398\n",
              "6     standing dose                0.028246\n",
              "7    increased dose                0.028133\n",
              "8         next dose                0.027227\n",
              "9        extra dose                0.027171\n",
              "10      second dose                0.026831\n",
              "11       given dose                0.026322\n",
              "12          am dose                0.025642\n",
              "13     loading dose                0.024680\n",
              "14       vanco dose                0.023718\n",
              "15        time dose                0.023435\n",
              "16          po dose                0.023322\n",
              "17         2nd dose                0.023208\n",
              "18         and dose                0.020888\n",
              "19  additional dose                0.020491"
            ]
          },
          "metadata": {
            "tags": []
          },
          "execution_count": 30
        }
      ]
    },
    {
      "cell_type": "code",
      "metadata": {
        "colab": {
          "base_uri": "https://localhost:8080/",
          "height": 335
        },
        "id": "B71IJgEseDTv",
        "outputId": "8fc52fa3-970c-42a3-8f14-e85d22255605"
      },
      "source": [
        "words = top_words.Word.values[0]\n",
        "word_indices = vocab_tri.str.contains(words).values.nonzero()[0]\n",
        "race_indices = (y_train==0).values.nonzero()[0]\n",
        "words = vocab_tri.values[word_indices]\n",
        "freq = (X_train_tri[race_indices,:])[:,word_indices].toarray().clip(0,1).sum(0)\n",
        "top_indices = list(np.argsort(freq)[::-1])\n",
        "top_words = list(zip([words[i] for i in top_indices], [freq[i]/len(race_indices) for i in top_indices]))\n",
        "top_words = pd.DataFrame(top_words, columns =['Word', 'Frequency'])\n",
        "top_words.head(10)"
      ],
      "execution_count": null,
      "outputs": [
        {
          "output_type": "execute_result",
          "data": {
            "text/html": [
              "<div>\n",
              "<style scoped>\n",
              "    .dataframe tbody tr th:only-of-type {\n",
              "        vertical-align: middle;\n",
              "    }\n",
              "\n",
              "    .dataframe tbody tr th {\n",
              "        vertical-align: top;\n",
              "    }\n",
              "\n",
              "    .dataframe thead th {\n",
              "        text-align: right;\n",
              "    }\n",
              "</style>\n",
              "<table border=\"1\" class=\"dataframe\">\n",
              "  <thead>\n",
              "    <tr style=\"text-align: right;\">\n",
              "      <th></th>\n",
              "      <th>Word</th>\n",
              "      <th>Frequency</th>\n",
              "    </tr>\n",
              "  </thead>\n",
              "  <tbody>\n",
              "    <tr>\n",
              "      <th>0</th>\n",
              "      <td>transfer 2192 12</td>\n",
              "      <td>0.000283</td>\n",
              "    </tr>\n",
              "    <tr>\n",
              "      <th>1</th>\n",
              "      <td>on 2192 12</td>\n",
              "      <td>0.000226</td>\n",
              "    </tr>\n",
              "    <tr>\n",
              "      <th>2</th>\n",
              "      <td>meq 2192 12</td>\n",
              "      <td>0.000226</td>\n",
              "    </tr>\n",
              "    <tr>\n",
              "      <th>3</th>\n",
              "      <td>dl 2192 12</td>\n",
              "      <td>0.000226</td>\n",
              "    </tr>\n",
              "    <tr>\n",
              "      <th>4</th>\n",
              "      <td>2192 12 00</td>\n",
              "      <td>0.000113</td>\n",
              "    </tr>\n",
              "    <tr>\n",
              "      <th>5</th>\n",
              "      <td>2192 12 02</td>\n",
              "      <td>0.000113</td>\n",
              "    </tr>\n",
              "    <tr>\n",
              "      <th>6</th>\n",
              "      <td>29 2192 12</td>\n",
              "      <td>0.000113</td>\n",
              "    </tr>\n",
              "    <tr>\n",
              "      <th>7</th>\n",
              "      <td>valve 2192 12</td>\n",
              "      <td>0.000057</td>\n",
              "    </tr>\n",
              "    <tr>\n",
              "      <th>8</th>\n",
              "      <td>2192 12 15</td>\n",
              "      <td>0.000057</td>\n",
              "    </tr>\n",
              "    <tr>\n",
              "      <th>9</th>\n",
              "      <td>2192 12 27</td>\n",
              "      <td>0.000057</td>\n",
              "    </tr>\n",
              "  </tbody>\n",
              "</table>\n",
              "</div>"
            ],
            "text/plain": [
              "               Word  Frequency\n",
              "0  transfer 2192 12   0.000283\n",
              "1        on 2192 12   0.000226\n",
              "2       meq 2192 12   0.000226\n",
              "3        dl 2192 12   0.000226\n",
              "4        2192 12 00   0.000113\n",
              "5        2192 12 02   0.000113\n",
              "6        29 2192 12   0.000113\n",
              "7     valve 2192 12   0.000057\n",
              "8        2192 12 15   0.000057\n",
              "9        2192 12 27   0.000057"
            ]
          },
          "metadata": {
            "tags": []
          },
          "execution_count": 164
        }
      ]
    },
    {
      "cell_type": "code",
      "metadata": {
        "colab": {
          "base_uri": "https://localhost:8080/"
        },
        "id": "9F0BqmZlg7np",
        "outputId": "e183f19f-c9a9-4b70-c074-731d903c778d"
      },
      "source": [
        "### Print sample note\n",
        "print(notes_train[(notes_train.str.lower().str.find('2192-12') !=-1)].iloc[0])"
      ],
      "execution_count": null,
      "outputs": [
        {
          "output_type": "stream",
          "text": [
            "Pt is 58y/o mane w/ Y st\n",
            "   Tracheobronchomalacia (tracheomalacia, bronchomalacia)\n",
            "   Assessment:\n",
            "   Action:\n",
            "   Response:\n",
            "   Plan:\n",
            "\n",
            "NEW NOTE\n",
            "58 y/o M with severe tracheobronchomalacia now status post silicone\n",
            "   Y-stent placement on [**2192-1-1**] and went home after his procedure.\n",
            "   Initially felt well until [**1-1**] PM, when he started with chills, fevers,\n",
            "   worsening productive cough and shortness of\n",
            "   breath. He denies any chest pain, nausea, vomiting, diarrhea, urinary\n",
            "   symptoms.\n",
            "   Tracheobronchomalacia (tracheomalacia, bronchomalacia)\n",
            "   Assessment:\n",
            "          Pt A/Ox3, denies pain, ambulates from bed to chair without\n",
            "   difficulty. Fine tremor noted, pt states is baseline and gets worse\n",
            "   with nebs.\n",
            "          HR initially 100s today, currently 80-90s without ectopy.\n",
            "   Tmax 99.3F on days.\n",
            "          SBP 100-130s, increased with exertion.\n",
            "          Lungs with rhonchi upper, diminished lower. Clears with\n",
            "   nebs. Denies SOB, difficulty breathing at rest. Does C/O slight dyspnea\n",
            "   on exertion that resolves quickly with rest. SpO2 93-96% on 4L NC.\n",
            "          Nebs ATC and PRN, PO steroids, IV ABX, benzonatate\n",
            "          NSS @ 100mL/hr via PIV.\n",
            "   Action:\n",
            "          Bedside bronch performed this AM, pt tolerated well, no\n",
            "   apparent issues.\n",
            "          Blood, BAL, urine cultures pending.\n",
            "          O2 NC titrated to 2L.\n",
            "          Diet advanced.\n",
            "          Pt declining heparin SQ despite education of cost/benefit.\n",
            "   Dr. [**Last Name (STitle) 277**] aware. Pt ambulating from bed to chair.\n",
            "   Response:\n",
            "          Pt resting comfortably in chair.\n",
            "          Tolerating O2 wean, SpO2 95% or greater.\n",
            "          No apparent nausea, dizziness, diaphoresis.\n",
            "   Plan:\n",
            "          Nebs, steroids, O2, ABX\n",
            "          Increase activity as tolerated\n",
            "          D/C IVF as tolerating POs\n",
            "          Transfer out to floor when bed available per IP.\n",
            "\n",
            "NEW NOTE\n",
            "58 y/o M with severe tracheobronchomalacia now status post silicone\n",
            "   Y-stent placement on [**2192-1-1**] and went home after his procedure.\n",
            "   Initially felt well until [**1-1**] PM, when he started with chills, fevers,\n",
            "   worsening productive cough and shortness of\n",
            "   breath. He denies any chest pain, nausea, vomiting, diarrhea, urinary\n",
            "   symptoms.\n",
            "   Tracheobronchomalacia (tracheomalacia, bronchomalacia)\n",
            "   Assessment:\n",
            "          Pt A/Ox3, denies pain, ambulates from bed to chair without\n",
            "   difficulty. Fine tremor noted, pt states is baseline and gets worse\n",
            "   with nebs.\n",
            "          HR initially 100s today, currently 80-90s without ectopy.\n",
            "   Tmax 99.3F on days.\n",
            "          SBP 100-130s, increased with exertion.\n",
            "          Lungs with rhonchi upper, diminished lower. Clears with\n",
            "   nebs. Denies SOB, difficulty breathing at rest. Does C/O slight dyspnea\n",
            "   on exertion that resolves quickly with rest. SpO2 93-96% on 4L NC.\n",
            "          Nebs ATC and PRN, PO steroids, IV ABX, benzonatate\n",
            "          NSS @ 100mL/hr via PIV.\n",
            "   Action:\n",
            "          Bedside bronch performed this AM, pt tolerated well, no\n",
            "   apparent issues.\n",
            "          Blood, BAL, urine cultures pending.\n",
            "          O2 NC titrated to 2L.\n",
            "          Diet advanced.\n",
            "          Pt declining heparin SQ despite education of cost/benefit.\n",
            "   Dr. [**Last Name (STitle) 277**] aware. Pt ambulating from bed to chair.\n",
            "   Response:\n",
            "          Pt resting comfortably in chair.\n",
            "          Tolerating O2 wean, SpO2 95% or greater.\n",
            "          No apparent nausea, dizziness, diaphoresis.\n",
            "   Plan:\n",
            "          Nebs, steroids, O2, ABX\n",
            "          Increase activity as tolerated\n",
            "          D/C IVF as tolerating POs\n",
            "          Transfer out to floor when bed available per IP.\n",
            "\n",
            "NEW NOTE\n",
            "58 y/o M with severe tracheobronchomalacia now status post silicone\n",
            "   Y-stent placement on [**2192-1-1**] and went home after his procedure.\n",
            "   Initially felt well until [**1-1**] PM, when he started with chills, fevers,\n",
            "   worsening productive cough and shortness of\n",
            "   breath. He denies any chest pain, nausea, vomiting, diarrhea, urinary\n",
            "   symptoms.\n",
            "   Tracheobronchomalacia (tracheomalacia, bronchomalacia)\n",
            "   Assessment:\n",
            "          Pt A/Ox3, denies pain, ambulates from bed to chair without\n",
            "   difficulty. Fine tremor noted, pt states is baseline and gets worse\n",
            "   with nebs.\n",
            "          HR initially 100s today, currently 80-90s without ectopy.\n",
            "   Tmax 99.3F on days.\n",
            "          SBP 100-130s, increased with exertion.\n",
            "          Lungs with rhonchi upper, diminished lower. Clears with\n",
            "   nebs. Denies SOB, difficulty breathing at rest. Does C/O slight dyspnea\n",
            "   on exertion that resolves quickly with rest. SpO2 93-96% on 4L NC.\n",
            "          Nebs ATC and PRN, PO steroids, IV ABX, benzonatate\n",
            "          NSS @ 100mL/hr via PIV.\n",
            "   Action:\n",
            "          Bedside bronch performed this AM, pt tolerated well, no\n",
            "   apparent issues.\n",
            "          Blood, BAL, urine cultures pending.\n",
            "          O2 NC titrated to 2L.\n",
            "          Diet advanced.\n",
            "          Pt declining heparin SQ despite education of cost/benefit.\n",
            "   Dr. [**Last Name (STitle) 277**] aware. Pt ambulating from bed to chair.\n",
            "   Response:\n",
            "          Pt resting comfortably in chair.\n",
            "          Tolerating O2 wean, SpO2 95% or greater.\n",
            "          No apparent nausea, dizziness, diaphoresis.\n",
            "   Plan:\n",
            "          Nebs, steroids, O2, ABX\n",
            "          Increase activity as tolerated\n",
            "          D/C IVF as tolerating POs\n",
            "          Transfer out to floor when bed available per IP.\n",
            "\n",
            "NEW NOTE\n",
            "Pt is 58y/o male w/ severe TBM found on CT of tracha done 2months ago\n",
            "   now status post silicone y-stent placement 2 days ago on [**2192-12-31**] went\n",
            "   home after procedure w/ Rxs and was feeling well initially until last\n",
            "   evening he starte w/ fevers/worsening chills/productive cough and SOB.\n",
            "   In EW  Tachy to 140s, O2 sat 89% on RA, Temp 103.0 and SBP wnl.\n",
            "   Tylenol/Zosyn/Vanco/PO Azithro/Solumedrol/Nebs admin. Transferred to\n",
            "   SICU for closer monitoring, ? need for intubation and need for scope to\n",
            "   eval stent\n",
            "   Hx: Asthma, seasonal allerigies, GERD, HTN, Hernia repair,\n",
            "   hypercholesterolemia\n",
            "   ALL: Atenonol\n",
            "   Tracheobronchomalacia (tracheomalacia, bronchomalacia)\n",
            "   Assessment:\n",
            "          Pt arrived alert and oriented x3, no c/o pain, MAE\n",
            "          Denied SOB but positive DOE. O2 sats 91-94% on 4 Liters NC\n",
            "          Congested non-productive cough. LS w/ rhonchi in upper lobes\n",
            "   and diminished at bases\n",
            "   Action:\n",
            "   Response:\n",
            "   Plan:\n",
            "\n",
            "NEW NOTE\n",
            "Tracheobronchomalacia (tracheomalacia, bronchomalacia)\n",
            "   Assessment:\n",
            "   Pt received with VSS afeb, awake, alert, OX3 MAE equally.\n",
            "   On 3 L NP pt sating 96-98%.\n",
            "   Bil breath sounds present with scattered rhonchi throughout. CXR w/o\n",
            "   PNA per Dr [**Last Name (STitle) 277**].\n",
            "   RR 22 nonlabored.\n",
            "    No c/o SOB.\n",
            "   Dr [**Last Name (STitle) **] notified of pt desating over night while he sleeps. Bipap\n",
            "   (autoset used on nights)\n",
            "   Pt states he has a BIPAP machine at home and will follow-up with a\n",
            "   sleep study one week from Saturday.\n",
            "   Action:\n",
            "   NP O2 removed.\n",
            "   Discharge plan discussed with pt\n",
            "   [**Name (NI) **] discharge meds discussed with pt\n",
            "   Pt understands discharge meds\n",
            "   2 perip IVs discontinued.\n",
            "   Pt\n",
            "s wallet retrieved from safe and returned to pt and paper work\n",
            "   signed.\n",
            "   Response:\n",
            "   O2sats on room air 92-94% (pts baseline)\n",
            "   Plan:\n",
            "   Discharge to home\n",
            "\n",
            "NEW NOTE\n",
            "58 y/o M with severe tracheobronchomalacia now status post silicone\n",
            "   Y-stent placement on [**2192-1-1**] and went home after his procedure.\n",
            "   Initially felt well until [**1-1**] PM, when he started with chills, fevers,\n",
            "   worsening productive cough and shortness of\n",
            "   breath. He denies any chest pain, nausea, vomiting, diarrhea, urinary\n",
            "   symptoms.\n",
            "   Tracheobronchomalacia (tracheomalacia, bronchomalacia)\n",
            "   Assessment:\n",
            "          Pt A/Ox3, denies pain, ambulates from bed to chair without\n",
            "   difficulty. Fine tremor noted, pt states is baseline and gets worse\n",
            "   with nebs.\n",
            "          HR initially 100s today, currently 80-90s without ectopy.\n",
            "   Tmax 99.3F on days.\n",
            "          SBP 100-130s, increased with exertion.\n",
            "          Lungs with rhonchi upper, diminished lower. Clears with\n",
            "   nebs. Denies SOB, difficulty breathing at rest. Does C/O slight dyspnea\n",
            "   on exertion that resolves quickly with rest. SpO2 93-96% on 4L NC.\n",
            "          Nebs ATC and PRN, PO steroids, IV ABX, benzonatate\n",
            "          NSS @ 100mL/hr via PIV.\n",
            "   Action:\n",
            "          Bedside bronch performed this AM, pt tolerated well, no\n",
            "   apparent issues.\n",
            "          Blood, BAL, urine cultures pending.\n",
            "          O2 NC titrated to 2L.\n",
            "          Diet advanced.\n",
            "          Pt declining heparin SQ despite education of cost/benefit.\n",
            "   Dr. [**Last Name (STitle) 277**] aware. Pt ambulating from bed to chair.\n",
            "   Response:\n",
            "          Pt resting comfortably in chair.\n",
            "          Tolerating O2 wean, SpO2 95% or greater.\n",
            "          No apparent nausea, dizziness, diaphoresis.\n",
            "   Plan:\n",
            "          Nebs, steroids, O2, ABX\n",
            "          Increase activity as tolerated\n",
            "          D/C IVF as tolerating POs\n",
            "          Transfer out to floor when bed available per IP.\n",
            "\n",
            "NEW NOTE\n",
            "Hypoxemia\n",
            "   Assessment:\n",
            "   Pt with transfer orders to floor but no bed available. Pt sleeping and\n",
            "   o2 sat done to 79 when asleep. Back  up to 95% with no intervention\n",
            "   and pt  continues to snore. Pt states he is scheduled for sleep study\n",
            "   next Saturday.\n",
            "   Action:\n",
            "   Dr. [**Last Name (STitle) **] [**Name (STitle) 10403**] aware and up to see pt.  spoke to IP fellow and pt\n",
            "   placed on cpap mask.\n",
            "   Response:\n",
            "    Pt sleeping comfortablely and 02 sat remains 94-96%\n",
            "   Plan:\n",
            "   Pulmonary consult in am. Notify sleep doctors. ? transfer to floor with\n",
            "   telemetry.\n",
            "\n",
            "NEW NOTE\n",
            "Pt is 58y/o male w/ severe TBM found on CT of tracha done 2months ago\n",
            "   now status post silicone y-stent placement 2 days ago on [**2192-12-31**] went\n",
            "   home after procedure w/ Rxs and was feeling well initially until last\n",
            "   evening he starte w/ fevers/worsening chills/productive cough and SOB.\n",
            "   In EW  Tachy to 140s, O2 sat 89% on RA, Temp 103.0 and SBP wnl.\n",
            "   Tylenol/Zosyn/Vanco/PO Azithro/Solumedrol/Nebs admin. Transferred to\n",
            "   SICU for closer monitoring, ? need for intubation and need for scope to\n",
            "   eval stent\n",
            "   Hx: Asthma, seasonal allerigies, GERD, HTN, Hernia repair,\n",
            "   hypercholesterolemia\n",
            "   ALL: Atenonol\n",
            "   Tracheobronchomalacia (tracheomalacia, bronchomalacia)\n",
            "   Assessment:\n",
            "          Pt arrived alert and oriented x3, no c/o pain, MAE\n",
            "          Denied SOB but positive DOE. O2 sats 91-94% on 4 Liters NC\n",
            "          Congested non-productive cough. LS w/ rhonchi in upper lobes\n",
            "   and diminished at bases\n",
            "   Action:\n",
            "          NS @100cc/hr\n",
            "          #20 placed to left hand placed\n",
            "          NPO for possible scope\n",
            "          Albuterol neb\n",
            "          Oriented to ICU environment. Wallet put in unit safe\n",
            "   Response:\n",
            "          LS still remain rhonchorous. Sats 90-94% on 4Liters\n",
            "          Temp down to 99.9\n",
            "   Plan:\n",
            "          NPO for scope\n",
            "          Needs EKG/Foley per order\n",
            "          Still awaiting full admit orders\n",
            "\n"
          ],
          "name": "stdout"
        }
      ]
    }
  ]
}